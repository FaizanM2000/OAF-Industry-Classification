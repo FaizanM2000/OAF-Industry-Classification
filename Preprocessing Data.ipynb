{
 "cells": [
  {
   "cell_type": "code",
   "execution_count": 1,
   "metadata": {
    "cell_id": "00000-2dc6bddd-7930-458d-b8e9-ad25d7061320",
    "deepnote_cell_type": "code",
    "deepnote_to_be_reexecuted": false,
    "execution_millis": 5055,
    "execution_start": 1636049776127,
    "source_hash": "254e20a3",
    "tags": []
   },
   "outputs": [],
   "source": [
    "import pandas as pd\n",
    "import regex as re\n",
    "import unicodedata\n",
    "import string\n",
    "import nltk\n",
    "import numpy as np\n",
    "import spacy"
   ]
  },
  {
   "cell_type": "code",
   "execution_count": 2,
   "metadata": {
    "cell_id": "00001-7e1bd734-3cf3-4895-aaea-d0ad46120e85",
    "deepnote_cell_type": "code",
    "deepnote_to_be_reexecuted": false,
    "execution_millis": 1346,
    "execution_start": 1636049781182,
    "source_hash": "ec4096d7",
    "tags": []
   },
   "outputs": [],
   "source": [
    "df = pd.read_csv('employer_raw_data_group_1.csv')\n",
    "df2 = pd.read_csv('industry_data.csv')"
   ]
  },
  {
   "cell_type": "code",
   "execution_count": 3,
   "metadata": {
    "cell_id": "00002-1e801a2a-45ed-4456-ad7b-62455d89060e",
    "deepnote_cell_type": "code",
    "deepnote_to_be_reexecuted": false,
    "execution_millis": 8516,
    "execution_start": 1636049782533,
    "source_hash": "5516d938",
    "tags": []
   },
   "outputs": [
    {
     "name": "stdout",
     "output_type": "stream",
     "text": [
      "2021-11-04 18:16:23.946423: W tensorflow/stream_executor/platform/default/dso_loader.cc:60] Could not load dynamic library 'libcudart.so.11.0'; dlerror: libcudart.so.11.0: cannot open shared object file: No such file or directory\n",
      "2021-11-04 18:16:23.946458: I tensorflow/stream_executor/cuda/cudart_stub.cc:29] Ignore above cudart dlerror if you do not have a GPU set up on your machine.\n",
      "\u001b[33mWARNING: You are using pip version 21.2.4; however, version 21.3.1 is available.\n",
      "You should consider upgrading via the '/root/venv/bin/python -m pip install --upgrade pip' command.\u001b[0m\n",
      "/usr/local/lib/python3.7/runpy.py:125: RuntimeWarning: 'nltk.downloader' found in sys.modules after import of package 'nltk', but prior to execution of 'nltk.downloader'; this may result in unpredictable behaviour\n",
      "  warn(RuntimeWarning(msg))\n",
      "[nltk_data] Downloading package stopwords to /root/nltk_data...\n",
      "[nltk_data]   Package stopwords is already up-to-date!\n"
     ]
    }
   ],
   "source": [
    "#downloading spacey models and nltk for stopwords\n",
    "!python -m spacy download en_core_web_sm >> /dev/null\n",
    "!python -m nltk.downloader stopwords >> /dev/null"
   ]
  },
  {
   "cell_type": "code",
   "execution_count": 4,
   "metadata": {
    "cell_id": "00003-ded0b309-c81b-4e0d-bdaa-c67a1a9ba1ce",
    "deepnote_cell_type": "code",
    "deepnote_to_be_reexecuted": false,
    "execution_millis": 502,
    "execution_start": 1636049790902,
    "source_hash": "a5ebdcf",
    "tags": []
   },
   "outputs": [],
   "source": [
    "PUNCT_TO_REMOVE = string.punctuation\n",
    "SNOWBALL_STEMMER = nltk.stem.SnowballStemmer(\"english\")\n",
    "NLP = spacy.load('en_core_web_sm', disable=['parser', 'ner'])\n",
    "STOP_WORDS = nltk.corpus.stopwords.words(\"english\")"
   ]
  },
  {
   "cell_type": "code",
   "execution_count": 6,
   "metadata": {
    "cell_id": "00000-aa27cea0-330f-4cf8-8e75-bfe2d99103fe",
    "deepnote_cell_type": "code",
    "deepnote_to_be_reexecuted": false,
    "execution_millis": 3,
    "execution_start": 1636049840751,
    "source_hash": "a40d19d9",
    "tags": []
   },
   "outputs": [],
   "source": [
    "def get_preprocessing_function(\n",
    "    use_phone_number: bool = True,\n",
    "    use_emoji: bool = True,\n",
    "    use_lower: bool = True,\n",
    "    use_alpha: bool = True,\n",
    "    use_email: bool = True,\n",
    "    use_normalize: bool = True,\n",
    "    use_url: bool = True,\n",
    "    use_rand_digits: bool = True,\n",
    "    use_punctuation: bool = True,\n",
    "    use_stopwords: bool = True,\n",
    "    use_lemmatizer: bool = True,\n",
    "    use_stemming: bool = False  # stemming reduces various verbs and other kinds of words to their stem(simplifies data)\n",
    "):\n",
    "    alpha_regex = re.compile(r\"[^a-z]+\")\n",
    "    def alpha(text: str):\n",
    "        return alpha_regex.sub(r\" \", text) if use_alpha else text\n",
    "\n",
    "    phone_number_pattern = re.compile(r'\\+?([0-9]{1,2})?\\s?-?\\s?\\(?\\d{3}\\)?\\s?-?\\s?\\d{3,4}\\s?-?\\s?\\d{4}')\n",
    "    def remove_phone_number(text: str):\n",
    "        return phone_number_pattern.sub(\"\", text) if use_phone_number else text\n",
    "\n",
    "    emoji_pattern = re.compile(\"[\"\n",
    "            u\"\\U0001F600-\\U0001F64F\"  # emoticons\n",
    "            u\"\\U0001F300-\\U0001F5FF\"  # symbols & pictographs\n",
    "            u\"\\U0001F680-\\U0001F6FF\"  # transport & map symbols\n",
    "            u\"\\U0001F1E0-\\U0001F1FF\"  # flags (iOS)\n",
    "            u\"\\U00002702-\\U000027B0\"\n",
    "            u\"\\U000024C2-\\U0001F251\"\n",
    "            u\"\\U0000231B-\\U0001F566\"  # time\n",
    "            \"]+\", flags=re.UNICODE)\n",
    "    def remove_emoji(text: str):\n",
    "        return emoji_pattern.sub(r'', text) if use_emoji else text\n",
    "    \n",
    "    email_address_pattern = re.compile(r\"[\\w.-]+@[\\w.]+\\.[a-zA-Z]{2,4}\")\n",
    "    def remove_email_address(text: str):\n",
    "        \n",
    "        return email_address_pattern.sub(r'', text) if use_email else text\n",
    "    \n",
    "    url_pattern = re.compile(r'(https?):\\/\\/(\\w{2,3}\\.[A-Za-z-]{2,256}\\.[a-z]{2,6})([-a-zA-Z-0-9@:%_\\+.~#?&//=]*)')\n",
    "    def remove_urls(text: str):\n",
    "        return url_pattern.sub(r'', text) if use_url else text\n",
    "    \n",
    "    def remove_punctuation(text: str):\n",
    "        return text.translate(str.maketrans('', '', PUNCT_TO_REMOVE)) if use_punctuation else text\n",
    "    \n",
    "    def all_lower_case(text: str):\n",
    "        return text.lower() if use_lower else text\n",
    "    \n",
    "    def remove_random_digits(text: str):\n",
    "        return ''.join([i for i in text if not i.isdigit()]) if use_rand_digits else text\n",
    "\n",
    "    def normalize_text(text: str):\n",
    "        return unicodedata.normalize('NFKD', text).encode('ascii', 'ignore').decode('utf-8', 'ignore') if use_normalize else text\n",
    "    \n",
    "    def clean_stopwords(text: str):\n",
    "        temp = text.split(\" \")\n",
    "        return \" \".join([token for token in temp if token not in STOP_WORDS]) if use_stopwords else text\n",
    "\n",
    "    def apply_spacy_lemm(text: str):\n",
    "        temp = NLP(text)\n",
    "        return \" \".join([word.lemma_ for word in temp]) if use_lemmatizer else text\n",
    "    \n",
    "    def apply_snowball_stemmer(text: str):\n",
    "        temp = text.split(\" \")\n",
    "        return ' '.join([SNOWBALL_STEMMER.stem(word) for word in temp]) if use_stemming else text\n",
    "    #A preprocessing function made it easier to run the code\n",
    "    def preprocess(text: str):\n",
    "        funcs = [remove_emoji, \n",
    "                remove_phone_number, \n",
    "                all_lower_case, \n",
    "                remove_email_address, \n",
    "                normalize_text,\n",
    "                remove_urls, \n",
    "                remove_random_digits, \n",
    "                remove_punctuation,\n",
    "                clean_stopwords,\n",
    "                alpha,\n",
    "                apply_spacy_lemm,\n",
    "                apply_snowball_stemmer]\n",
    "        for func in funcs:\n",
    "            text = func(text)\n",
    "        \n",
    "        return text\n",
    "        \n",
    "    return preprocess"
   ]
  },
  {
   "cell_type": "code",
   "execution_count": 7,
   "metadata": {
    "cell_id": "00004-52191887-7098-4efa-8fb9-de54d3376acd",
    "deepnote_cell_type": "code",
    "deepnote_to_be_reexecuted": false,
    "execution_millis": 1,
    "execution_start": 1636049845935,
    "source_hash": "f845af9",
    "tags": []
   },
   "outputs": [],
   "source": [
    "preprocess = get_preprocessing_function(\n",
    "    use_phone_number = True,\n",
    "    use_emoji = True,\n",
    "    use_lower = True,\n",
    "    use_alpha = True,\n",
    "    use_email = True,\n",
    "    use_normalize = True,\n",
    "    use_url = True,\n",
    "    use_rand_digits = True,\n",
    "    use_punctuation = True,\n",
    "    use_stopwords = True,\n",
    "    use_lemmatizer = True,\n",
    "    use_stemming = False\n",
    ")"
   ]
  },
  {
   "cell_type": "code",
   "execution_count": 8,
   "metadata": {
    "cell_id": "00005-9e177e76-ff9c-4743-8583-673f7b99a529",
    "deepnote_cell_type": "code",
    "deepnote_to_be_reexecuted": false,
    "execution_millis": 561175,
    "execution_start": 1636049851465,
    "source_hash": "595933c2",
    "tags": []
   },
   "outputs": [],
   "source": [
    "df['description'] = df['description'].fillna(\".\") # replacing NULL values to a string \".\"\n",
    "df['description'] = df['description'].astype(str) # casting all values as strings\n",
    "df['clean_description'] = df['description'].apply(preprocess) # Adds new column to dataframe"
   ]
  },
  {
   "cell_type": "code",
   "execution_count": 9,
   "metadata": {
    "cell_id": "00007-36de69be-9816-4b1a-8988-6add1e5fa866",
    "deepnote_cell_type": "code",
    "deepnote_to_be_reexecuted": false,
    "execution_millis": 4574,
    "execution_start": 1636050494657,
    "source_hash": "e033e824",
    "tags": []
   },
   "outputs": [],
   "source": [
    "df.to_csv(\"employer_raw_data_group_1.csv\") # writes new column into csv file"
   ]
  },
  {
   "cell_type": "code",
   "execution_count": null,
   "metadata": {
    "cell_id": "00008-70d731f1-2b4d-46c8-b0f4-5de9e9ad81e4",
    "deepnote_cell_type": "code",
    "deepnote_to_be_reexecuted": false,
    "execution_millis": 2622,
    "execution_start": 1635994204727,
    "source_hash": "24147123",
    "tags": []
   },
   "outputs": [],
   "source": [
    "df2['description'] = df2['description'].fillna(\".\") # replacing NULL values to a string \".\"\n",
    "df2['description'] = df2['description'].astype(str) # casting all values as strings\n",
    "df2['clean_description'] = df2['description'].apply(preprocess) # Adds new column to dataframe"
   ]
  },
  {
   "cell_type": "code",
   "execution_count": null,
   "metadata": {
    "cell_id": "00009-f84e51b7-3980-4e01-9ba2-2852f22b3942",
    "deepnote_cell_type": "code",
    "deepnote_to_be_reexecuted": false,
    "execution_millis": 426,
    "execution_start": 1635994249948,
    "source_hash": "56a1587e",
    "tags": []
   },
   "outputs": [],
   "source": [
    "df2.to_csv('industry_data.csv')"
   ]
  },
  {
   "cell_type": "code",
   "execution_count": null,
   "metadata": {
    "cell_id": "00010-807814bb-9d0c-4cd5-bbef-d7144a21ecca",
    "deepnote_cell_type": "code",
    "tags": []
   },
   "outputs": [],
   "source": []
  },
  {
   "cell_type": "markdown",
   "metadata": {
    "created_in_deepnote_cell": true,
    "deepnote_cell_type": "markdown",
    "tags": []
   },
   "source": [
    "<a style='text-decoration:none;line-height:16px;display:flex;color:#5B5B62;padding:10px;justify-content:end;' href='https://deepnote.com?utm_source=created-in-deepnote-cell&projectId=0f8c70f2-5291-4247-be8a-0c0d763ed56d' target=\"_blank\">\n",
    "<img alt='Created in deepnote.com' style='display:inline;max-height:16px;margin:0px;margin-right:7.5px;' src='data:image/svg+xml;base64,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' > </img>\n",
    "Created in <span style='font-weight:600;margin-left:4px;'>Deepnote</span></a>"
   ]
  }
 ],
 "metadata": {
  "deepnote": {
   "is_reactive": false
  },
  "deepnote_execution_queue": [],
  "deepnote_notebook_id": "d4e2aa9b-9c3f-4970-87f4-91a36a1a023c",
  "kernelspec": {
   "display_name": "Python 3",
   "language": "python",
   "name": "python3"
  },
  "language_info": {
   "codemirror_mode": {
    "name": "ipython",
    "version": 3
   },
   "file_extension": ".py",
   "mimetype": "text/x-python",
   "name": "python",
   "nbconvert_exporter": "python",
   "pygments_lexer": "ipython3",
   "version": "3.8.5"
  }
 },
 "nbformat": 4,
 "nbformat_minor": 2
}
