{
 "cells": [
  {
   "cell_type": "code",
   "execution_count": 7,
   "metadata": {
    "cell_id": "00000-67a60130-5d61-49f5-aba0-f77c65da9b2b",
    "deepnote_cell_type": "code",
    "deepnote_to_be_reexecuted": false,
    "execution_millis": 0,
    "execution_start": 1636050518622,
    "source_hash": "c2f4e21",
    "tags": []
   },
   "outputs": [],
   "source": [
    "import pandas as pd\n",
    "import numpy as np\n",
    "from sklearn.feature_extraction.text import TfidfVectorizer\n",
    "import spacy\n",
    "import nltk\n"
   ]
  },
  {
   "cell_type": "code",
   "execution_count": null,
   "metadata": {
    "cell_id": "00001-69315346-e5c1-4c0d-bcf1-c659553a5e11",
    "deepnote_cell_type": "code",
    "deepnote_to_be_reexecuted": false,
    "execution_millis": 1840,
    "execution_start": 1636050519552,
    "source_hash": "7cc2298b",
    "tags": []
   },
   "outputs": [],
   "source": [
    "!python -m nltk.downloader stopwords >> /dev/null"
   ]
  },
  {
   "cell_type": "code",
   "execution_count": null,
   "metadata": {
    "cell_id": "00002-dd37063b-3ef1-43bb-b738-33455c59613a",
    "deepnote_cell_type": "code",
    "deepnote_to_be_reexecuted": false,
    "execution_millis": 9904,
    "execution_start": 1636050521396,
    "source_hash": "e8bd7f76",
    "tags": []
   },
   "outputs": [],
   "source": [
    "!python -m spacy download en_core_web_md"
   ]
  },
  {
   "cell_type": "code",
   "execution_count": 10,
   "metadata": {
    "cell_id": "00002-9aceb34e-b764-49fe-bf8f-43d43cda7c02",
    "deepnote_cell_type": "code",
    "deepnote_to_be_reexecuted": false,
    "execution_millis": 5,
    "execution_start": 1636050531305,
    "source_hash": "bf9f8c00",
    "tags": []
   },
   "outputs": [],
   "source": [
    "STOP_WORDS = nltk.corpus.stopwords.words(\"english\")"
   ]
  },
  {
   "cell_type": "code",
   "execution_count": 11,
   "metadata": {
    "cell_id": "00003-37ff820a-f738-4fa1-9ee7-8c111803492f",
    "deepnote_cell_type": "code",
    "deepnote_to_be_reexecuted": false,
    "execution_millis": 2753,
    "execution_start": 1636050535329,
    "source_hash": "d1613a52",
    "tags": []
   },
   "outputs": [],
   "source": [
    "# loading in data\n",
    "df = pd.read_csv('employer_raw_data_group_1.csv')\n",
    "df2 = pd.read_csv('industry_data.csv')"
   ]
  },
  {
   "cell_type": "code",
   "execution_count": 12,
   "metadata": {
    "cell_id": "00005-bb5522b3-c069-4c6f-90db-c1df498ff413",
    "deepnote_cell_type": "code",
    "deepnote_to_be_reexecuted": false,
    "execution_millis": 354,
    "execution_start": 1636050547149,
    "source_hash": "930f4960",
    "tags": []
   },
   "outputs": [],
   "source": [
    "labels = df2['industry'].values\n",
    "industry_data = df2['clean_description'].values.astype(str)\n",
    "\n",
    "corpus = df['clean_description'].values.astype(str)"
   ]
  },
  {
   "cell_type": "code",
   "execution_count": 13,
   "metadata": {
    "cell_id": "00006-501778bb-1b53-4ff7-affa-315f78fb5892",
    "deepnote_cell_type": "code",
    "deepnote_to_be_reexecuted": false,
    "execution_millis": 1612,
    "execution_start": 1636050552174,
    "source_hash": "a6038f0a",
    "tags": []
   },
   "outputs": [],
   "source": [
    "# spacy model for word embeddings\n",
    "model = spacy.load('en_core_web_md', disable=['parser', 'ner'])"
   ]
  },
  {
   "cell_type": "code",
   "execution_count": 15,
   "metadata": {
    "cell_id": "00007-e8f2c68c-33df-4f38-b32c-ea104b5679d7",
    "deepnote_cell_type": "code",
    "deepnote_to_be_reexecuted": false,
    "execution_millis": 1,
    "execution_start": 1636050702083,
    "source_hash": "dc19e45e",
    "tags": []
   },
   "outputs": [],
   "source": [
    "# had to play around with these to get satisfactory results\n",
    "MIN_DF = 2 # gives the lower bound for which a word has to appear in the corpus, this case a word has to be in atleast 2 documents\n",
    "MAX_DF = 0.4 # give upper bound for which a word appears in a the corpus, this case if a word appears in 40% of documents, ignore it\n",
    "\n",
    "vec = TfidfVectorizer(\n",
    "    preprocessor=lambda s: s,\n",
    "    tokenizer=lambda s: s.split(),\n",
    "    stop_words=STOP_WORDS,\n",
    "    min_df=MIN_DF,\n",
    "    max_df=MAX_DF,\n",
    "    use_idf=True,\n",
    "    smooth_idf=True\n",
    ")\n"
   ]
  },
  {
   "cell_type": "code",
   "execution_count": null,
   "metadata": {
    "cell_id": "00008-1a99b690-c377-4d38-9934-b2adf15fc554",
    "deepnote_cell_type": "code",
    "deepnote_to_be_reexecuted": false,
    "execution_millis": 11063,
    "execution_start": 1636050703601,
    "source_hash": "50767a0e",
    "tags": []
   },
   "outputs": [],
   "source": [
    "# fitting and transforming employer data into vectors using TFIDF vectorizer\n",
    "raw_vec = vec.fit(corpus)\n",
    "raw_vectors = raw_vec.transform(corpus)"
   ]
  },
  {
   "cell_type": "code",
   "execution_count": 17,
   "metadata": {
    "cell_id": "00009-a3a36776-e89b-4968-a141-411df9675180",
    "deepnote_cell_type": "code",
    "deepnote_to_be_reexecuted": false,
    "execution_millis": 0,
    "execution_start": 1636050734217,
    "source_hash": "8ca672f2",
    "tags": []
   },
   "outputs": [],
   "source": [
    "# the number of top relavant words we want in each employer description\n",
    "# also played around with this number to get better results\n",
    "top_n = 50"
   ]
  },
  {
   "cell_type": "code",
   "execution_count": 18,
   "metadata": {
    "cell_id": "00009-f2fc0d7e-ecef-4396-b5b5-500cdc921121",
    "deepnote_cell_type": "code",
    "deepnote_to_be_reexecuted": false,
    "execution_millis": 50451,
    "execution_start": 1636050737486,
    "source_hash": "914ff68b",
    "tags": []
   },
   "outputs": [
    {
     "name": "stderr",
     "output_type": "stream",
     "text": [
      "/shared-libs/python3.7/py/lib/python3.7/site-packages/sklearn/utils/deprecation.py:87: FutureWarning: Function get_feature_names is deprecated; get_feature_names is deprecated in 1.0 and will be removed in 1.2. Please use get_feature_names_out instead.\n",
      "  warnings.warn(msg, category=FutureWarning)\n"
     ]
    }
   ],
   "source": [
    "# the vocabulary of employers description\n",
    "raw_words = np.array(raw_vec.get_feature_names())\n",
    "\n",
    "# stores the top 'top_n' number of words of each description\n",
    "raw_res = []\n",
    "for i in range(raw_vectors.shape[0]):\n",
    "    # Will get the words that are in the TFIDF which have the higher score\n",
    "    # We use -vectors because the order is ascending\n",
    "    s = np.argsort(np.asarray(-raw_vectors[i, :].todense()).flatten())\n",
    "    raw_res.append(\" \".join(raw_words[s[:top_n]]))"
   ]
  },
  {
   "cell_type": "code",
   "execution_count": 19,
   "metadata": {
    "cell_id": "00010-68576cb6-6778-410b-8b41-6d5305c547b5",
    "deepnote_cell_type": "code",
    "deepnote_to_be_reexecuted": false,
    "execution_millis": 8,
    "execution_start": 1636050803589,
    "is_output_hidden": false,
    "source_hash": "4eb9899c",
    "tags": []
   },
   "outputs": [
    {
     "data": {
      "text/plain": [
       "['magic touch shade massage carpet wash repair body parlor collision cst camper auto colour equipment transfer clean image portland rubmap monthursday beating hwy smithville tapestrie blinds misprint incense mandan swindon typo tulare honeycomb shading allow since erotic monthly bastrop goshen paper lagrange workwear gift visalia personalised systematically embroidery print lewisville',\n",
       " 'indus valley indu partners pvt india ltd noida partner buyside supermarkets uttar phase pradesh york rs mumbai datum brief ivp aima linksv gurvinder portola naukri ceofounder nisha glassdoor creation cgpa sulekhacom andheri oop decide incompatible sez product aptitude present sharma converge reasoning jun inbox donna incorporated payscale edinburgh technology singh',\n",
       " 'mather hospital jefferson portland regence nurse doctor port ny health oregon bsn david patient ca photo john physician bordonaro cmio soward pergamits tanika rn sayville cmsrn teaching memorial open ccu profile gme northwell bed medical folsom telemetry register metropolitan dermatologist manger medicalsurgical way linkedin ida informatic emanuel care directions transitional',\n",
       " 'tapas naperville tapa spanish restaurant menu font rte chef bar contemporary bogota eatery il por photo john flavor cheese dish la manchego sangrias meson vinoteca combinado seguimos maritza reduccion platos gastronomia paraiso de previa andina route hagan gastronomy fritter reserva premi gastronomic peruvian garza serrano lago columbian daddy illinois debido',\n",
       " 'ashland ingredient specialty hopewell xvii gp calvert va bargaining chemical solve polymer formulation food product lay collective benefit size semisynthetic polyurethanebase challenge chemicalswholesale market microbrewery personal solution ether hercules halfcentury ingredients metcalf cellulose security reservation wellness ticket direction polyester plan reviews isp section acrylic agreement layoff stabilize manufacturer lima ash',\n",
       " 'berkeley lawrence lab laboratory national energy lbnl scientific research california postdoc nobel internship doe ninth undergraduate appeals university prize court department kie llnl circuit jgi lawrences cyclotron removed kilowatt scientist science nazis plaintiffsappellant overlooks saving facultystudent alamos mixing fermentation blur overturn cci us disperse faculty contaminant blackboard ani summer livermore',\n",
       " 'neelkanth pipe abuse igh southall treatment tech meerut india ivf technology croydon mtech delhi rk galway ncr btech poly bca fertility uttar pvc bba helpdesk winnipeg alloy pradesh delete decorative language law lecture west mb solution app institution ulg ngi infonet kirol child normal beaconsfield vidyavihar mba steel patna bureau',\n",
       " 'partner shareholder manage managing jbr pc enrique firm weinstine bergeson partnership monteverde hussey raga clausen gbr winthrop cobb heute committee greece virginia monate jahre campbell christopher member consult miller understandings plunkett present partowner buenavista olmos cofounder distributive johnson share mpf consortia cooney acta tease president atria depend dolore hellas executive',\n",
       " 'show feedback solution rider sequence seller schedule dressage rama estate real showtime polyurethane stall showing abuse folder child agent animation realtor customizable explorer cd light concrete problem showingtime mlssassociation oddnumbere exercise diego chapter question solve rate thumbnail channel artful truss threeday galway destruction equestrian form alternative mud dropdown response hoyt',\n",
       " 'blackboard retiree fayette math login language portal winner school art contest password quarter writer parent hillsboro fayetteville unit young county recognition cdcif homeroom saundra johnson public whittington instructions dornsife sandi video whitewater stonewall teacher student log ead google current michael geometry jobseeker drexel resignation education step renee winchester fraction cindy']"
      ]
     },
     "execution_count": 19,
     "metadata": {},
     "output_type": "execute_result"
    }
   ],
   "source": [
    "raw_res[:10] # needs better cleaning method, still see some random words that TFIDF thinks are relevant"
   ]
  },
  {
   "cell_type": "code",
   "execution_count": 20,
   "metadata": {
    "cell_id": "00012-ad58687b-f7e1-438f-aae3-17f08a03f1c1",
    "deepnote_cell_type": "code",
    "deepnote_to_be_reexecuted": false,
    "execution_millis": 76,
    "execution_start": 1636050895219,
    "source_hash": "61fdb327",
    "tags": []
   },
   "outputs": [],
   "source": [
    "# fitting and transforming industry data into vectors using TFIDF vectorizer\n",
    "industry_vec = vec.fit(industry_data)\n",
    "industry_vectors = industry_vec.transform(industry_data)"
   ]
  },
  {
   "cell_type": "code",
   "execution_count": 21,
   "metadata": {
    "cell_id": "00013-b2e92bec-4218-4a4b-91b7-0f0682c67224",
    "deepnote_cell_type": "code",
    "deepnote_to_be_reexecuted": false,
    "execution_millis": 21,
    "execution_start": 1636050897152,
    "source_hash": "39c044a4",
    "tags": []
   },
   "outputs": [],
   "source": [
    "# whole vocab for all the industries descriptions\n",
    "industry_words = np.array(industry_vec.get_feature_names())\n",
    "\n",
    "# stores the top 'top_n' number of words of each description\n",
    "\n",
    "industry_res = []\n",
    "for i in range(industry_vectors.shape[0]):\n",
    "    # Will get the words that are in the TFIDF which have the higher score\n",
    "    # We use -vectors because the order is ascending\n",
    "    s = np.argsort(np.asarray(-industry_vectors[i, :].todense()).flatten())\n",
    "    industry_res.append(\" \".join(industry_words[s[:top_n]]))"
   ]
  },
  {
   "cell_type": "code",
   "execution_count": 22,
   "metadata": {
    "cell_id": "00014-b66e73fb-6abc-4414-a00f-6b5a24118552",
    "deepnote_cell_type": "code",
    "deepnote_to_be_reexecuted": false,
    "execution_millis": 0,
    "execution_start": 1636050900419,
    "output_cleared": false,
    "source_hash": "df588d74",
    "tags": []
   },
   "outputs": [
    {
     "data": {
      "text/plain": [
       "['banking credit bank insurance services lease card account institution loan motor real estate aw firm financing payment vary disaster license crisis corporation web infrastructure inc microsoft private natural site cloud right log cooperative perspective cash analyst compliance contractor status frontier advisor union banker strive nearly longterm title mark artificial consultant',\n",
       " 'mining agriculture construction forestry west robot study water equipment vehicle often cent contribute land output animal condition virginia crop potential south space motor electric mean per engineer render mineral ore abbreviate man abbreviation steel metal natural food increase category ltd worker estate load real total big billion gas october assistant',\n",
       " 'services document shipping small right social assist travel function filing personal intangible box accounting loan internet suite without corporation event represent commercial delivery insurance welcome securely liability partnership submit att note ave officer amazon advisor limited employer responsibility discount processing american name send secretary entrepreneur president blvd supplier dedicate commit',\n",
       " 'computer recycling hardware equipment price shop tablet seller manufacturing engineering fast repair degree saving store phone technician shopping amazon processor resident component item electrical save engineer problem welcome popular enjoy beverly shipping smart recycle although sensor surplus hope low selection workstation agriculture st study necessary monitor etc supplier buy electric',\n",
       " 'utility gas increase water electricity smart evolve optimize bill efficiency distribution natural supplier scale electric steel adapt quickly efficient model meet oil strategy storage dynamic maintain transformation data infrastructure accord reliable analytic globally disruption southern frontier refine regulator uk pressure rapidly thrive behind intelligent five requirement integration curriculum direct response',\n",
       " 'federal official branch agency executive political definition surplus administration auction rule legislative disability pronunciation young military event site tool grant trial compose pollution wage tape cookie draft territory manual english accessible organize authority budget engagement print culture eligibility president crisis citizen etc azure description administer mean collaboration minimum b efficiency',\n",
       " 'real estate construction land developer brokerage stage structure acquisition september back customize residential legal firm financing improvement license housing purchase aspect attorney brand strategy available option idea commercial come expertise inc november cash construct agreement east agenda canada effective detailed advice via operator obtain corporate advise know associate decade flow',\n",
       " 'nonprofit corporation profit status entity charitable purpose c director income cause foundation legal social notforprofit definition pay corporate organize certain equal filing incorporation earn educational board generate eligibility housing throughout llc know association protection accord often unit institution obligation executive internal officer jersey discount certificate rather duty publication advocate liability',\n",
       " 'manufacturing manufacture material raw equipment component machinery machine industrial workforce computer video manufacturer definition scale usa establishment engineer finish output mechanical custom plant cloud inc tool assembly continuous since integrate engineering line move advanced often abbreviation fabrication synonym metal optimize thing manual word technique robot shift iot worker typically degree',\n",
       " 'school culture child kind teacher formal apple mind belief progress sense skill college guidance definition delivery subject data ability actionable young amy civilized informal feel possibility charge express google early liquid learning grade method copyright acquire stability classroom faculty poverty love whose kid setting tremendous advertise creativity adult six privacy',\n",
       " 'entertainment medium content film television video engagement tn broadcast tool print embrace ever game streamline litigation commercial five radio pressure scale star book accelerate insight reach creation model right realtime blog dispute cagr quickly aw stripe g telecommunication gaming render z partnership maximize curriculum usd financing talent shift communicate launch',\n",
       " 'insurance agency protection appropriate debt agriculture respond inquiry florida assist utility assistance license credit services georgia commission street affair file staff unit protect enforce regard additional retirement rule housing regulate amend educate section web environmental marketplace care retail think enforcement intangible etf call ask travel legitimate banker train producer east',\n",
       " 'pharmaceutical healthcare medical patient billion percent care supplement section medicine th international operational interest believe hospital ingredient stat scientific national manufacture america brand manufacturer stock overview rate active animal longterm july venture mostly field study profit effective post registration announce amend necessary august launch usd rise big segment street regulatory']"
      ]
     },
     "execution_count": 22,
     "metadata": {},
     "output_type": "execute_result"
    }
   ],
   "source": [
    "industry_res # again needs better cleaning techniques, some words are joined together that makes a fake compound word"
   ]
  },
  {
   "cell_type": "code",
   "execution_count": null,
   "metadata": {
    "cell_id": "00015-e6a93b80-f983-4f97-b564-b6e01cf67563",
    "deepnote_cell_type": "code",
    "deepnote_to_be_reexecuted": false,
    "execution_millis": 137976,
    "execution_start": 1635997861273,
    "source_hash": "ad2702e2",
    "tags": []
   },
   "outputs": [],
   "source": [
    "# using the spacy word embeddings model, all the top words are converted into word vector representations\n",
    "industry_embeddings = [model(x) for x in industry_res]\n",
    "raw_embeddings = [model(x) for x in raw_res]"
   ]
  },
  {
   "cell_type": "code",
   "execution_count": null,
   "metadata": {
    "cell_id": "00016-28cbde9a-0a39-4f29-82d4-d4209940e811",
    "deepnote_cell_type": "code",
    "deepnote_to_be_reexecuted": false,
    "execution_millis": 9986,
    "execution_start": 1635998021893,
    "source_hash": "bab21b35",
    "tags": []
   },
   "outputs": [],
   "source": [
    "industry_predict = []\n",
    "\n",
    "# takes each of the word embeddings in the employers data\n",
    "for i in range(len(raw_embeddings)):\n",
    "    temp = []\n",
    "    # each employer description word embeddings is compared to the industry description word embeddings\n",
    "    for j in range(len(industry_embeddings)):\n",
    "        # checks how similar the two word embeddings are\n",
    "        temp.append(industry_embeddings[j].similarity(raw_embeddings[i]))\n",
    "    # takes the max of the percentage to see which industry the employer is closest to\n",
    "    mx = max(temp)\n",
    "    # classifies that employer using the labels\n",
    "    industry_predict.append(labels[temp.index(mx)])"
   ]
  },
  {
   "cell_type": "code",
   "execution_count": null,
   "metadata": {
    "cell_id": "00017-73551c2f-0231-4ad0-ae18-2e0bdac60464",
    "deepnote_cell_type": "code",
    "deepnote_to_be_reexecuted": false,
    "execution_millis": 4,
    "execution_start": 1635998035276,
    "source_hash": "705da7bd",
    "tags": []
   },
   "outputs": [
    {
     "data": {
      "text/plain": [
       "['Computer and Electronics',\n",
       " 'Business Services',\n",
       " 'Business Services',\n",
       " 'Agriculture and Mining',\n",
       " 'Health, Pharma, and Biotech',\n",
       " 'Education',\n",
       " 'Agriculture and Mining',\n",
       " 'Financial Services',\n",
       " 'Media and Entertainment',\n",
       " 'Education']"
      ]
     },
     "execution_count": 37,
     "metadata": {},
     "output_type": "execute_result"
    }
   ],
   "source": [
    "industry_predict[:10]"
   ]
  },
  {
   "cell_type": "code",
   "execution_count": null,
   "metadata": {
    "cell_id": "00018-5e48858b-7628-44e5-8661-a26a05bcff80",
    "deepnote_cell_type": "code",
    "deepnote_to_be_reexecuted": false,
    "execution_millis": 2,
    "execution_start": 1635998041701,
    "source_hash": "4bcb7e73",
    "tags": []
   },
   "outputs": [],
   "source": [
    "df['industry'] = industry_predict"
   ]
  },
  {
   "cell_type": "code",
   "execution_count": null,
   "metadata": {
    "cell_id": "00019-e4209393-84fe-4097-90ae-24f76a089822",
    "deepnote_cell_type": "code",
    "deepnote_to_be_reexecuted": false,
    "execution_millis": 618,
    "execution_start": 1635998044743,
    "source_hash": "f804c160",
    "tags": []
   },
   "outputs": [
    {
     "data": {
      "application/vnd.deepnote.dataframe.v2+json": {
       "column_count": 5,
       "columns": [
        {
         "dtype": "int64",
         "name": "Unnamed: 0",
         "stats": {
          "histogram": [
           {
            "bin_end": 1999.9,
            "bin_start": 0,
            "count": 2000
           },
           {
            "bin_end": 3999.8,
            "bin_start": 1999.9,
            "count": 2000
           },
           {
            "bin_end": 5999.700000000001,
            "bin_start": 3999.8,
            "count": 2000
           },
           {
            "bin_end": 7999.6,
            "bin_start": 5999.700000000001,
            "count": 2000
           },
           {
            "bin_end": 9999.5,
            "bin_start": 7999.6,
            "count": 2000
           },
           {
            "bin_end": 11999.400000000001,
            "bin_start": 9999.5,
            "count": 2000
           },
           {
            "bin_end": 13999.300000000001,
            "bin_start": 11999.400000000001,
            "count": 2000
           },
           {
            "bin_end": 15999.2,
            "bin_start": 13999.300000000001,
            "count": 2000
           },
           {
            "bin_end": 17999.100000000002,
            "bin_start": 15999.2,
            "count": 2000
           },
           {
            "bin_end": 19999,
            "bin_start": 17999.100000000002,
            "count": 2000
           }
          ],
          "max": "19999",
          "min": "0",
          "nan_count": 0,
          "unique_count": 20000
         }
        },
        {
         "dtype": "object",
         "name": "employers",
         "stats": {
          "categories": [
           {
            "count": 1,
            "name": "magic touch"
           },
           {
            "count": 19998,
            "name": "19998 others"
           },
           {
            "count": 1,
            "name": "Missing"
           }
          ],
          "nan_count": 1,
          "unique_count": 19999
         }
        },
        {
         "dtype": "object",
         "name": "description",
         "stats": {
          "categories": [
           {
            "count": 7,
            "name": "."
           },
           {
            "count": 2,
            "name": "Best European Restaurants in Portland, Oregon: Find Tripadvisor traveler reviews of Portland European restaurants and search by price, location, and more. COVID update: Otto & Anita's European Restaurant has updated their hours, takeout & delivery options. 242 reviews of Otto & Anita's European Restaurant \"it was quiet on the weekday night that i visited the homey german restaurant. the service was very warm and i felt like one of the family. i got to try a sample of the pickle soup which surprising as it sounds was very tasty. Eat at the best Modern European Restaurants in Portland, OR. Read local reviews, browse local photos, & discover where to eat the best food. Your search for the right Modern European Restaurants ends here. Know, then go—and never miss a thing near you - Swiss Hibiscus, NORMANDIE, Bosnia Restaurant, Grandpa's Cafe, Küchenhaus, Lovely Rita, Two Brothers Cafe and Grill, Castagna Restaurant ... Find European restaurants near you from 5 million restaurants worldwide with 760 million reviews and opinions from Tripadvisor travelers. Find European Restaurants local business listings in and near Portland, OR. Get European Restaurants business addresses, phone numbers, driving directions, maps, reviews and more. Whether it's breakfast in Post Falls or Pullman that you are in the mood for or a traditional European lunch, The Old European Restaurant is sure to surprise you with their traditional culinary menu. We provide quality dishes and serve them with great affection to offer a captivating eating experience for guests. European foods. catering. our services. our story. about edelweiss. contact us. get started (503) 238-4411 edelweissdeli@aol.com. 0 item(s) - $0.00. Search. Featured. Schweinebauch (Stuffed Bacon) $8.49/lb. In Store Only. Wine Cured Salami . $15.00/lb. In Store Only. Rosemary Garlic Bologna ... European’s Best Restaurant and Bakery welcomes you to enjoy an exceptional dining experience filled with old-world flavor and comfort. We are family…at European’s Best Restaurant and Bakery. It’s family that supports us and grounds us in what truly matters. That’s why at European’s Best Restaurant and Bakery, we’re all family here. Welcome to Phillips European Restaurant. Many guests think of us as their favorite lunch restaurant. For others we are a casual evening retreat for dinner after a busy day. For some the romantic atmosphere in a hidden corner or a secluded booth provides the ideal place for the special moment of engagement, anniversary, birthday or celebration. European's Best Restaurant and Bakery 19608 West 130th Street Strongsville, Ohio 44136 440-572-0600 Business Hours Mon-Thur 7am-3pm Fri 7am-7pm Sat & Sun 7am-3pm We are currently Closed Payment methods We accept cash or check only ©2021 European's Best Bakery and More, LLC. Bruno's European Restaurant in Lakewood, WA. Bruno's European Restaurant proudly serves authentic German and Polish cuisine. They have great food, and friendly service, in a fun, casual atmosphere. Featured on Diners, Drive-ins, and Dives. European Street Cafe is a family-owned restaurant providing award-winning food, beer selection and service for more than 40 years. Four locations throughout Jacksonville, Fla. Locations. Riverside. 2753 Park St. Jacksonville, FL 32205 904-384-9999 info@europeanstreet.com. Ado's Taste of Europe is a European restaurant serving all kinds of authentic dishes. You can split a platter with friends and family or enjoy a European hamburger on flatbread. With flavors from Germany, Slovenia, Italy, Poland and the Balkan area, there's something for everyone. Restaurant menu, map for European Republic located in 11520, Freeport NY, 126 W Merrick Rd. 4147 Labyrinth Rd. Baltimore, Md 21215 Restaurant, B anquet Hall 1.888.450.4555 Catering 410.764.0722 The European is a hybrid creation that evokes memories (and the occasional bit of longing) for the wine bars and cafes of all those places; and the extent to which the concept resonates with Melbournians can be measured in the place's longevity….” Buttercraft is your Sellwood-moreland neighborhood specialty food and wine shop in Portland, Oregon. We stock an assortment of curated wines, farmstead cheese, handcrafted butters, local meats, and french macarons. (503) 238-4411 edelweissdeli@aol.com. 0 item(s) - $0.00. Search old european restaurant menu, the old european post falls, site:zomato.com old europe english restaurant, old european restaurant cour d alene idaho, old bohemian post falls Select Country India"
           },
           {
            "count": 19991,
            "name": "19989 others"
           }
          ],
          "nan_count": 0,
          "unique_count": 19991
         }
        },
        {
         "dtype": "object",
         "name": "clean_description",
         "stats": {
          "categories": [
           {
            "count": 2,
            "name": "good european restaurant portland oregon find tripadvisor traveler review portland european restaurant search price location covid update otto anitas european restaurant update hour takeout delivery option review otto anitas european restaurant quiet weekday night visit homey german restaurant service warm feel like one family get try sample pickle soup surprising sound tasty eat good modern european restaurant portland read local review browse local photo discover eat good food search right modern european restaurant end know goand never miss thing near swiss hibiscus normandie bosnia restaurant grandpas cafe kuchenhaus lovely rita two brother cafe grill castagna restaurant find european restaurant near million restaurant worldwide million review opinion tripadvisor traveler find european restaurant local business listing near portland get european restaurant business address phone number drive direction map review whether breakfast post fall pullman mood traditional european lunch old european restaurant sure surprise traditional culinary menu provide quality dish serve great affection offer captivate eat experience guest european food catering services story edelweiss contact we get start item search feature schweinebauch stuff bacon lb store wine cure salami lb store rosemary garlic bologna europeans good restaurant bakery welcome enjoy exceptional dining experience fill oldworld flavor comfort familyat european good restaurant bakery family support we ground we truly matter that s europeans good restaurant bakery family welcome phillip european restaurant many guest think we favorite lunch restaurant other casual evening retreat dinner busy day romantic atmosphere hide corner secluded booth provide ideal place special moment engagement anniversary birthday celebration european good restaurant bakery west th street strongsville ohio business hours monthur ampm fri ampm sat sun ampm currently close payment method accept cash check european good bakery llc brunos european restaurant lakewood wa brunos european restaurant proudly serve authentic german polish cuisine great food friendly service fun casual atmosphere feature diner drivein dive european street cafe familyowne restaurant provide awardwinne food beer selection service year four location throughout jacksonville fla location riverside park st jacksonville fl ado taste europe european restaurant serve kind authentic dish split platter friend family enjoy european hamburger flatbread flavor germany slovenia italy poland balkan area there s something everyone restaurant menu map european republic locate freeport ny w merrick rd labyrinth rd baltimore md restaurant b anquet hall cater european hybrid creation evoke memory occasional bit long wine bar cafe place extent concept resonate melbournian measure place longevity buttercraft sellwoodmoreland neighborhood specialty food wine shop portland oregon stock assortment curate wines farmstead cheese handcraft butter local meat french macaron item search old european restaurant menu old european post fall sitezomatocom old europe english restaurant old european restaurant cour alene idaho old bohemian post fall select country india"
           },
           {
            "count": 19991,
            "name": "19989 others"
           },
           {
            "count": 7,
            "name": "Missing"
           }
          ],
          "nan_count": 7,
          "unique_count": 19990
         }
        },
        {
         "dtype": "object",
         "name": "industry",
         "stats": {
          "categories": [
           {
            "count": 3334,
            "name": "Agriculture and Mining"
           },
           {
            "count": 2956,
            "name": "Business Services"
           },
           {
            "count": 13710,
            "name": "11 others"
           }
          ],
          "nan_count": 0,
          "unique_count": 13
         }
        },
        {
         "dtype": "int64",
         "name": "_deepnote_index_column"
        }
       ],
       "row_count": 20000,
       "rows_bottom": [
        {
         "Unnamed: 0": 19900,
         "_deepnote_index_column": 19900,
         "clean_description": "  attorney lipsitz green scime cambria name super lawyer law firm lipsitz green scime cambria llp p…",
         "description": "23 Attorney from Lipsitz Green Scime Cambria Named to 2021 Super Lawyers. The law firm of Lipsitz G…",
         "employers": "lipsitz green scime cambria",
         "industry": "Business Services"
        },
        {
         "Unnamed: 0": 19901,
         "_deepnote_index_column": 19901,
         "clean_description": "full service aaha accredit veterinary hospital cat dog household pet locate beautiful wooster ohio …",
         "description": "We are a full service, AAHA accredited veterinary hospital for cats, dogs, and other household pets…",
         "employers": "cleveland road animal hospital",
         "industry": "Consumer Services"
        },
        {
         "Unnamed: 0": 19902,
         "_deepnote_index_column": 19902,
         "clean_description": "video footage prove draw ryan scott band varsity fanclub sing song starstruck album except starstru…",
         "description": "video footage proving that drew ryan scott from the band 'varsity fanclub' sings all the songs on t…",
         "employers": "stap struckscott",
         "industry": "Media and Entertainment"
        },
        {
         "Unnamed: 0": 19903,
         "_deepnote_index_column": 19903,
         "clean_description": "welcome sapot system since establishment sapot system work consistently diligently emerge lead staf…",
         "description": "WELCOME TO SAPOT SYSTEMS Since its establishment in 2003, Sapot Systems is working consistently and…",
         "employers": "sapot systems inc",
         "industry": "Manufacturing"
        },
        {
         "Unnamed: 0": 19904,
         "_deepnote_index_column": 19904,
         "clean_description": "late chicago bull small forward derrick jones jr include news stat video highlight espn derrick jon…",
         "description": "Latest on Chicago Bulls small forward Derrick Jones Jr. including news, stats, videos, highlights a…",
         "employers": "derrick jones",
         "industry": "Education"
        },
        {
         "Unnamed: 0": 19905,
         "_deepnote_index_column": 19905,
         "clean_description": "  baseball factory allamerica game baseball factory allamerica game top high school player country …",
         "description": "2021 Baseball Factory All-America Game 2021 Baseball Factory All-America Game. The Top High School …",
         "employers": "baseball factory",
         "industry": "Education"
        },
        {
         "Unnamed: 0": 19906,
         "_deepnote_index_column": 19906,
         "clean_description": "servicemaster brand make everyday hero heroic learn brands servicemaster brand leader home service …",
         "description": "ServiceMaster Brands. Making everyday heroes more heroic. Learn More. Our Brands. ServiceMaster Bra…",
         "employers": "service master",
         "industry": "Consumer Services"
        },
        {
         "Unnamed: 0": 19907,
         "_deepnote_index_column": 19907,
         "clean_description": "healthcare datum analyst may help hospital health system physician group decide whether add new ser…",
         "description": "Healthcare data analysts may help hospitals, health systems, and physician groups decide whether to…",
         "employers": "data analyst, healthcare, other",
         "industry": "Health, Pharma, and Biotech"
        },
        {
         "Unnamed: 0": 19908,
         "_deepnote_index_column": 19908,
         "clean_description": "eye associates northwest pc dedicate provide good specialized eye care highly recommend eye associa…",
         "description": "Eye Associates Northwest, PC is dedicated to providing the best in specialized eye care. ... I high…",
         "employers": "eye associates northwest, pc",
         "industry": "Health, Pharma, and Biotech"
        },
        {
         "Unnamed: 0": 19909,
         "_deepnote_index_column": 19909,
         "clean_description": "homepage rancatore ice cream yogurt locate belmont lexington newton order ice cream gift card pick …",
         "description": "Homepage for Rancatore's Ice Cream & Yogurt, located in Belmont, Lexington, and Newton, MA. Order i…",
         "employers": "rancatore's ice cream and yogurt",
         "industry": "Agriculture and Mining"
        },
        {
         "Unnamed: 0": 19910,
         "_deepnote_index_column": 19910,
         "clean_description": "yale new hospital nationally recognize yale new hospital proud rank among good nation eight special…",
         "description": "Yale New Haven Hospital. Nationally Recognized Yale New Haven Hospital is proud to be ranked among …",
         "employers": "ynhh",
         "industry": "Health, Pharma, and Biotech"
        },
        {
         "Unnamed: 0": 19911,
         "_deepnote_index_column": 19911,
         "clean_description": "learn visitation opportunity contact ohio department rehabilitation correction browse frequently as…",
         "description": "Learn more about visitation opportunities. Contact the Ohio Department of Rehabilitation and Correc…",
         "employers": "ohio department of rehabilitation and corrections",
         "industry": "Consumer Services"
        },
        {
         "Unnamed: 0": 19912,
         "_deepnote_index_column": 19912,
         "clean_description": "qualtex one large independent nonprofit testing laboratory united states blood plasma product locat…",
         "description": "QualTex is one of the largest independent, nonprofit testing laboratories in the United States for …",
         "employers": "qualtex laboratories",
         "industry": "Agriculture and Mining"
        },
        {
         "Unnamed: 0": 19913,
         "_deepnote_index_column": 19913,
         "clean_description": "  inform email address enter could use send satisfaction survey anonymous optional neo service rese…",
         "description": "(*) Be informed that the email address you have entered could be used to send a satisfaction survey…",
         "employers": "neos",
         "industry": "Business Services"
        },
        {
         "Unnamed: 0": 19914,
         "_deepnote_index_column": 19914,
         "clean_description": "intec infocom pvt ltd head office locate haryana gurgaon top player information technology software…",
         "description": "Intec Infocom Pvt Ltd Head Office is located in Haryana Gurgaon is a top player in the Information …",
         "employers": "intec infocom pvt ltd",
         "industry": "Computer and Electronics"
        },
        {
         "Unnamed: 0": 19915,
         "_deepnote_index_column": 19915,
         "clean_description": "vulcan management follower linkedin provide management expertise enhance enterprise value vulcan ma…",
         "description": "Vulcan Management | 103 followers on LinkedIn. Provide Management Expertise To Enhance Enterprise V…",
         "employers": "vulcan management",
         "industry": "Financial Services"
        },
        {
         "Unnamed: 0": 19916,
         "_deepnote_index_column": 19916,
         "clean_description": "kforce midtown tampa sit intersection work life play home office remain heart work get do new space…",
         "description": "Kforce Midtown Tampa sit s at the intersection of work, life and play. Our home offices will remain…",
         "employers": "kforce contract pge",
         "industry": "Business Services"
        },
        {
         "Unnamed: 0": 19917,
         "_deepnote_index_column": 19917,
         "clean_description": "onshore outsourcing deliver upon mission revitalize underserved community novel approach workforce …",
         "description": "Onshore Outsourcing delivers upon its mission of revitalizing underserved communities through its n…",
         "employers": "onshore outsourcing",
         "industry": "Consumer Services"
        },
        {
         "Unnamed: 0": 19918,
         "_deepnote_index_column": 19918,
         "clean_description": "build exclusively aw ultra commerce platform leverage late technology service good practice aw ensu…",
         "description": "Built exclusively on AWS, the Ultra Commerce platform leverages the latest technologies, services a…",
         "employers": "ultra commerce internet pty ltd.",
         "industry": "Business Services"
        },
        {
         "Unnamed: 0": 19919,
         "_deepnote_index_column": 19919,
         "clean_description": "page redirect contentusenuscontactushtml publishcontentusenuscontactushtml publish mercy corps glob…",
         "description": "This page redirects to /content/us/en-us/contact-us.html in publish./content/us/en-us/contact-us.ht…",
         "employers": "mc marketing corporation ag",
         "industry": "Agriculture and Mining"
        },
        {
         "Unnamed: 0": 19920,
         "_deepnote_index_column": 19920,
         "clean_description": "locate brooklyn new york polytechnic institute new york university midsize four year private colleg…",
         "description": "Located in Brooklyn, New York, Polytechnic Institute of New York University is a mid-size four year…",
         "employers": "polytechnic institute of new york university",
         "industry": "Education"
        },
        {
         "Unnamed: 0": 19921,
         "_deepnote_index_column": 19921,
         "clean_description": "peer insight innovation firm partner leader drive new growth turn idea reality client we ve privile…",
         "description": "Peer Insight is an innovation firm that partners with leaders to drive new growth and turn ideas in…",
         "employers": "peer insight",
         "industry": "Education"
        },
        {
         "Unnamed: 0": 19922,
         "_deepnote_index_column": 19922,
         "clean_description": "smokefreedrugfree environment interested apply employment cleveland clinic need special assistance …",
         "description": "Smoke-free/drug-free environment. If you are interested in applying for employment with Cleveland C…",
         "employers": "cleveland clinic prn aramark",
         "industry": "Business Services"
        },
        {
         "Unnamed: 0": 19923,
         "_deepnote_index_column": 19923,
         "clean_description": "qinetiq satellite support european union horizon programme european space agency esa confirm appoin…",
         "description": "QinetiQ Satellite to Support European Union Horizon 2020 Programme. The European Space Agency (ESA)…",
         "employers": "qinetiq, inc.",
         "industry": "Energy and Utilities"
        },
        {
         "Unnamed: 0": 19924,
         "_deepnote_index_column": 19924,
         "clean_description": "baltimore va medical center block away light rail metro subway stations lexington market addition b…",
         "description": "The Baltimore VA Medical Center is a few blocks away from the Light Rail and Metro Subway Stations …",
         "employers": "baltimore va medical center",
         "industry": "Health, Pharma, and Biotech"
        },
        {
         "Unnamed: 0": 19925,
         "_deepnote_index_column": 19925,
         "clean_description": "charles gabriel partners lead provider professional search service specialized expertise finance st…",
         "description": "Charles Gabriel Partners is a leading provider of professional search services with specialized exp…",
         "employers": "gabriel partners",
         "industry": "Financial Services"
        },
        {
         "Unnamed: 0": 19926,
         "_deepnote_index_column": 19926,
         "clean_description": "cafe veloce italian restaurant kirkland wa load veloce restaurant software pos solution tailor opti…",
         "description": "Cafe Veloce | Italian Restaurant in Kirkland, WA LOADING... VELOCE’S RESTAURANT SOFTWARE IS A POS S…",
         "employers": "veloce restaurant",
         "industry": "Computer and Electronics"
        },
        {
         "Unnamed: 0": 19927,
         "_deepnote_index_column": 19927,
         "clean_description": "apply system technology transfer follower linkedin ast apply system technology transfer ast small b…",
         "description": "Applied Systems & Technology Transfer | 27 followers on LinkedIn. About AST2 Applied Systems and Te…",
         "employers": "applied systems and technology transfer",
         "industry": "Manufacturing"
        },
        {
         "Unnamed: 0": 19928,
         "_deepnote_index_column": 19928,
         "clean_description": "gary r jones tyler tx dsi transport inc cameron park ca wrh ii hopewell pa sidhu trans inc bakersfi…",
         "description": "gary r. jones - tyler, tx dsi transport inc. - cameron park, ca wrh ii - hopewell, pa sidhu trans i…",
         "employers": "great jone spa, 2015-01-07",
         "industry": "Agriculture and Mining"
        },
        {
         "Unnamed: 0": 19929,
         "_deepnote_index_column": 19929,
         "clean_description": "manage director fly exam london united kingdom join connect fly exam company website report profile…",
         "description": "Managing Director at Flying Exam London, United Kingdom. Join to Connect Flying Exam. Company Websi…",
         "employers": "managing director at managing director gitamo exam setters (2015-unknown)",
         "industry": "Media and Entertainment"
        },
        {
         "Unnamed: 0": 19930,
         "_deepnote_index_column": 19930,
         "clean_description": "lifepoint health trade name use refer organization affiliate entity operate hospital healthcare pro…",
         "description": "\"LifePoint Health\" is a trade name used to refer to an organization of affiliated entities that own…",
         "employers": "lifepoint health st. francis hospital",
         "industry": "Consumer Services"
        },
        {
         "Unnamed: 0": 19931,
         "_deepnote_index_column": 19931,
         "clean_description": "johnson controls inc johnson control requirement supplier automotive experience division corporate …",
         "description": "Johnson Controls, Inc. (Johnson Controls) requirements to the suppliers in our Automotive Experienc…",
         "employers": "johnson controls automotive experience",
         "industry": "Energy and Utilities"
        },
        {
         "Unnamed: 0": 19932,
         "_deepnote_index_column": 19932,
         "clean_description": "locate heart one world great city university illinois chicago vital part educational technological …",
         "description": "Located in the heart of one of the world’s great cities, the University of Illinois Chicago is a vi…",
         "employers": "univ. of illinois at chicago",
         "industry": "Health, Pharma, and Biotech"
        },
        {
         "Unnamed: 0": 19933,
         "_deepnote_index_column": 19933,
         "clean_description": "hunt gymnastic academy offer gymnastic ninja class build child strength provide challenge foster co…",
         "description": "Hunt's Gymnastics Academy offers gymnastics and ninja classes that will build your child's strength…",
         "employers": "hunt's gymnastics",
         "industry": "Education"
        },
        {
         "Unnamed: 0": 19934,
         "_deepnote_index_column": 19934,
         "clean_description": "part supply chain solutions inc company govern canada business corporation act february wednesday i…",
         "description": "Only Parts Supply Chain Solutions Inc. is a company governing under the Canada Business Corporation…",
         "employers": "only parts supply chain solutions",
         "industry": "Agriculture and Mining"
        },
        {
         "Unnamed: 0": 19935,
         "_deepnote_index_column": 19935,
         "clean_description": "community loans america inc make loan product convenient always strive keep customer service top pr…",
         "description": "At Community Loans of America, Inc. we make our loan products convenient and always strive to keep …",
         "employers": "community loans of america,",
         "industry": "Financial Services"
        },
        {
         "Unnamed: 0": 19936,
         "_deepnote_index_column": 19936,
         "clean_description": "pink elephant cafe view menu serve breakfast monday friday fresh juice smoothie daily sit grab n go…",
         "description": "The Pink Elephant Cafe. View menu. Now serving breakfast Monday - Friday from 7am Fresh Juices & sm…",
         "employers": "the pink elephant",
         "industry": "Agriculture and Mining"
        },
        {
         "Unnamed: 0": 19937,
         "_deepnote_index_column": 19937,
         "clean_description": "contact we america health insurance plan pennsylvania avenue nw south building suite washington dc …",
         "description": "Contact Us 202.778.3200 | ahip@ahip.org. America’s Health Insurance Plans 601 Pennsylvania Avenue, …",
         "employers": "regional director, state government affairs at america's health insurance plans (ahip) (2007-2009)",
         "industry": "Government"
        },
        {
         "Unnamed: 0": 19938,
         "_deepnote_index_column": 19938,
         "clean_description": "delivery system reform incentive payment dsrip program achievement value av scorecard dy q april ju…",
         "description": "Delivery System Reform Incentive Payment (DSRIP) Program Achievement Value (AV) Scorecard DY2, Q1 A…",
         "employers": "suffolk county delivery system reform incentive program",
         "industry": "Government"
        },
        {
         "Unnamed: 0": 19939,
         "_deepnote_index_column": 19939,
         "clean_description": "james patients access revolutionary cancer treatment method innovative clinical research cancer exp…",
         "description": "At The James, patients have access to revolutionary cancer treatment methods and innovative clinica…",
         "employers": "the james cancer research hospital",
         "industry": "Health, Pharma, and Biotech"
        },
        {
         "Unnamed: 0": 19940,
         "_deepnote_index_column": 19940,
         "clean_description": "medallion midstream midstream service crude oil natural gas producer deliver solution ensure safety…",
         "description": "Medallion Midstream | Midstream Services for Crude Oil and Natural Gas Producers. Deliver Solutions…",
         "employers": "medallion oil i, llc",
         "industry": "Agriculture and Mining"
        },
        {
         "Unnamed: 0": 19941,
         "_deepnote_index_column": 19941,
         "clean_description": "jonesall inc roofing construction great job replace gutter answer question process price get estima…",
         "description": "JonesAll Inc Roofing & Construction did a great job replacing our gutters. They answered all of our…",
         "employers": "jonesall inc.",
         "industry": "Computer and Electronics"
        },
        {
         "Unnamed: 0": 19942,
         "_deepnote_index_column": 19942,
         "clean_description": "internal auditor ia train professional employ company provide independent objective evaluation fina…",
         "description": "An internal auditor (IA) is a trained professional employed by companies to provide independent and…",
         "employers": "internal auditor",
         "industry": "Non-Profit"
        },
        {
         "Unnamed: 0": 19943,
         "_deepnote_index_column": 19943,
         "clean_description": "beaulieu america inc manufacture carpeting rug company produce walltowall carpeting rug beaulieu se…",
         "description": "Beaulieu of America, Inc. manufactures carpeting and rugs. The Company produces wall-to-wall carpet…",
         "employers": "beaulieu of america inc.",
         "industry": "Business Services"
        },
        {
         "Unnamed: 0": 19944,
         "_deepnote_index_column": 19944,
         "clean_description": "review rubino perform analytical procedure inquiry procedure obtain limited assurance financial sta…",
         "description": "During a review, Rubino will perform analytical procedures, inquiries, and other procedures to obta…",
         "employers": "other - rubino & company",
         "industry": "Financial Services"
        },
        {
         "Unnamed: 0": 19945,
         "_deepnote_index_column": 19945,
         "clean_description": "kal tire tire wheel full mechanical service shop adventure everyday journey around corner find perf…",
         "description": "Kal Tire - Tires, Wheels, and Full Mechanical Service. SHOP NOW Adventures and everyday journeys ar…",
         "employers": "kal tites",
         "industry": "Agriculture and Mining"
        },
        {
         "Unnamed: 0": 19946,
         "_deepnote_index_column": 19946,
         "clean_description": "bristolmyer squibb community health center bristolmyer squibb community health center group practic…",
         "description": "About Bristol-Myers Squibb Community Health Center. Bristol-Myers Squibb Community Health Center is…",
         "employers": "bristol-myers squibb,  plainsboro, nj",
         "industry": "Health, Pharma, and Biotech"
        },
        {
         "Unnamed: 0": 19947,
         "_deepnote_index_column": 19947,
         "clean_description": "millennium funding launch new improve website excite highlyanticipate project millennium funding ne…",
         "description": "Millennium Funding Launches New and Improved Website 11/04/2019. An exciting and highly-anticipated…",
         "employers": "millennium funding group",
         "industry": "Financial Services"
        },
        {
         "Unnamed: 0": 19948,
         "_deepnote_index_column": 19948,
         "clean_description": "compliance implementation service llc compliance implementation service llc found company line busi…",
         "description": "Compliance Implementation Services LLC Compliance Implementation Services, LLC was founded in 2004.…",
         "employers": "compliance implementation services, llc",
         "industry": "Consumer Services"
        },
        {
         "Unnamed: 0": 19949,
         "_deepnote_index_column": 19949,
         "clean_description": "former charger equipment manager bob wick join scott br discuss new aaf job birmingham iron san die…",
         "description": "Former Chargers Equipment Manager Bob Wick Joined Scott & BR To Discuss His New AAF Job With Birmin…",
         "employers": "aaf birmingham iron bob wick immediate supervisor,",
         "industry": "Business Services"
        },
        {
         "Unnamed: 0": 19950,
         "_deepnote_index_column": 19950,
         "clean_description": "pittsburgh pa toll free get direction year upmc western psychiatric hospital nationally recognize l…",
         "description": "Pittsburgh, PA, 15213. 412-624-1000 or toll free 1-877-624-4100. Get directions. For more than 70 y…",
         "employers": "upmc western psychiatric hospital",
         "industry": "Health, Pharma, and Biotech"
        },
        {
         "Unnamed: 0": 19951,
         "_deepnote_index_column": 19951,
         "clean_description": "matter big small standard custom solution need application specialize heating cool control thermal …",
         "description": "No matter how big or small, standard or custom, we have the solutions you need for your application…",
         "employers": "caluent llc",
         "industry": "Agriculture and Mining"
        },
        {
         "Unnamed: 0": 19952,
         "_deepnote_index_column": 19952,
         "clean_description": "drive entrepreneurial spirit omnam pioneer diverse global real estate group incisive vision source …",
         "description": "Driven by an entrepreneurial spirit, Omnam is a pioneering and diverse global real estate group wit…",
         "employers": "omnam investment group",
         "industry": "Real Estate and Construction"
        },
        {
         "Unnamed: 0": 19953,
         "_deepnote_index_column": 19953,
         "clean_description": "empyrean definition empyreal use empyrean sentence adjective movie scene set heaven often suggest h…",
         "description": "Empyrean definition is - empyreal. How to use empyrean in a sentence. Adjective movie scenes set in…",
         "employers": "empyrean",
         "industry": "Agriculture and Mining"
        },
        {
         "Unnamed: 0": 19954,
         "_deepnote_index_column": 19954,
         "clean_description": "found jenner block law firm international reach lawyer firm widely recognize produce outstanding re…",
         "description": "Founded in 1914, Jenner & Block is a law firm of international reach with more than 500 lawyers. Ou…",
         "employers": "jenner & block llp",
         "industry": "Consumer Services"
        },
        {
         "Unnamed: 0": 19955,
         "_deepnote_index_column": 19955,
         "clean_description": "nova distribution group llc nova distribution group llc do i d incorporate new york business record…",
         "description": "NOVA DISTRIBUTION GROUP LLC. NOVA DISTRIBUTION GROUP LLC (DOS ID: 5770839) was incorporated on 2020…",
         "employers": "other - nova business group llc",
         "industry": "Business Services"
        },
        {
         "Unnamed: 0": 19956,
         "_deepnote_index_column": 19956,
         "clean_description": "ultratrace detection llc utd manufacture device improve performance explosive detector utilize inno…",
         "description": "UltraTrace Detection, LLC. UTD manufactures devices that improve the performance of explosives dete…",
         "employers": "ultra trace detection, llc",
         "industry": "Manufacturing"
        },
        {
         "Unnamed: 0": 19957,
         "_deepnote_index_column": 19957,
         "clean_description": "eltham east primary school official september yesterday eltham east primary school please medium li…",
         "description": "Eltham East Primary School Official. 9 September at 16:13 ·. Yesterday, once again Eltham East Prim…",
         "employers": "etham east primary school, uk",
         "industry": "Business Services"
        },
        {
         "Unnamed: 0": 19958,
         "_deepnote_index_column": 19958,
         "clean_description": "shock trauma call patient information nation first integrate trauma hospital dr r adams cowley cons…",
         "description": "Shock Trauma. Call for patient information: 410-328-6110. 410-328-6110. The Nation's First and Only…",
         "employers": "r adams cowley shock trauma center",
         "industry": "Health, Pharma, and Biotech"
        },
        {
         "Unnamed: 0": 19959,
         "_deepnote_index_column": 19959,
         "clean_description": "endesa necesita mas teorias sobre la subida de la luz necesitas unasolucionunica un precio base de …",
         "description": "Endesa. No necesitas más teorías sobre la subida de la luz. Necesitas #UnaSoluciónÚnica. Un precio …",
         "employers": "endesa geração",
         "industry": "Media and Entertainment"
        },
        {
         "Unnamed: 0": 19960,
         "_deepnote_index_column": 19960,
         "clean_description": "resx ever time need bring community campus resx new comprehensive vision undergraduate residential …",
         "description": "ResX. Now, more than ever, is a time we need to bring community to our campus. ResX is a new, compr…",
         "employers": "stanford university office of residence education",
         "industry": "Education"
        },
        {
         "Unnamed: 0": 19961,
         "_deepnote_index_column": 19961,
         "clean_description": "jun apr year month curry college bachelor degree sociology group senior project manager pepper cons…",
         "description": "Jun 2004 - Apr 2007 2 years 11 months. ... Curry College Bachelor's degree Sociology. 1999 - 2003. …",
         "employers": "project manager at pepper construction group (1999-2004)",
         "industry": "Agriculture and Mining"
        },
        {
         "Unnamed: 0": 19962,
         "_deepnote_index_column": 19962,
         "clean_description": "custom air transport custom air transport create back cargo base airline situate fort lauderdale fl…",
         "description": "Custom Air Transport. Custom Air Transport was created back in 1995, and is a cargo based airline t…",
         "employers": "custom air transport",
         "industry": "Agriculture and Mining"
        },
        {
         "Unnamed: 0": 19963,
         "_deepnote_index_column": 19963,
         "clean_description": "decrescente distribute company commit ensure website accessible everyone compliance applicable law …",
         "description": "DeCrescente Distributing Company is committed to ensuring that our website is accessible to everyon…",
         "employers": "decrescente distributing company inc.",
         "industry": "Business Services"
        },
        {
         "Unnamed: 0": 19964,
         "_deepnote_index_column": 19964,
         "clean_description": "massachusetts institute technology career advise professional development twitter facebook building…",
         "description": "Massachusetts Institute of Technology Career Advising & Professional Development Twitter Facebook B…",
         "employers": "intern, massachusetts institute of technology (mit)",
         "industry": "Education"
        },
        {
         "Unnamed: 0": 19965,
         "_deepnote_index_column": 19965,
         "clean_description": "wachtell lipton dedicate provide advice expertise high level achieve extraordinary result client se…",
         "description": "Wachtell Lipton is dedicated to providing advice and expertise at the highest levels and achieving …",
         "employers": "wachtell, lipton , rosen & katz",
         "industry": "Real Estate and Construction"
        },
        {
         "Unnamed: 0": 19966,
         "_deepnote_index_column": 19966,
         "clean_description": "welcome chief class proud part obgyn department ohsu excite introduce residency program many streng…",
         "description": "Welcome from the 2021 Chief Class. We are very proud to be a part of the Ob/Gyn department here at …",
         "employers": "university ob/gyn specialties",
         "industry": "Health, Pharma, and Biotech"
        },
        {
         "Unnamed: 0": 19967,
         "_deepnote_index_column": 19967,
         "clean_description": "scientific principle aba therapy accelerate centerbase learning bierman aba dedicate focus provide …",
         "description": "Through the scientific principles of ABA therapy and accelerated center-based learning, Bierman ABA…",
         "employers": "bierman aba",
         "industry": "Education"
        },
        {
         "Unnamed: 0": 19968,
         "_deepnote_index_column": 19968,
         "clean_description": "community mercy health partner medical center drive springfield ohio get direction community mercy …",
         "description": "Community Mercy Health Partners. 100 Medical Center Drive. Springfield, Ohio 45504. Get Directions.…",
         "employers": "community mercy health partners",
         "industry": "Consumer Services"
        },
        {
         "Unnamed: 0": 19969,
         "_deepnote_index_column": 19969,
         "clean_description": "en masse entertainment inc formerly bluehole interactive inc american video game publisherfounde ju…",
         "description": "En Masse Entertainment, Inc. (formerly Bluehole Interactive, Inc.) was an American video game publi…",
         "employers": "en masse entertainment",
         "industry": "Media and Entertainment"
        },
        {
         "Unnamed: 0": 19970,
         "_deepnote_index_column": 19970,
         "clean_description": "company profile page mediserve information systems inc include stock price company news press relea…",
         "description": "Company profile page for MediServe Information Systems Inc including stock price, company news, pre…",
         "employers": "mediserve information systems",
         "industry": "Business Services"
        },
        {
         "Unnamed: 0": 19971,
         "_deepnote_index_column": 19971,
         "clean_description": "absa financial services ltd locate gauteng gauteng south africa part bank credit union industry abs…",
         "description": "ABSA FINANCIAL SERVICES LTD is located in GAUTENG, Gauteng, South Africa and is part of the Banks &…",
         "employers": "absa financial services ltd.",
         "industry": "Financial Services"
        },
        {
         "Unnamed: 0": 19972,
         "_deepnote_index_column": 19972,
         "clean_description": "vanwyn passionately drive develop implement meaningful sustainable unique solution client address s…",
         "description": "At VanWyn, we are passionately driven to develop and implement meaningful, sustainable, unique solu…",
         "employers": "vanwyn",
         "industry": "Media and Entertainment"
        },
        {
         "Unnamed: 0": 19973,
         "_deepnote_index_column": 19973,
         "clean_description": "hit detection connect entertainment consultancy consultant work variety worldrenowne company instit…",
         "description": "Hit Detection is a connected entertainment consultancy. Our consultants have worked at and with a v…",
         "employers": "hit detection",
         "industry": "Media and Entertainment"
        },
        {
         "Unnamed: 0": 19974,
         "_deepnote_index_column": 19974,
         "clean_description": "rmoc company ottawa ontario saint laurent boulevard ottawa kg v hour operation customer review rmoc…",
         "description": "Rmoc, Company in Ottawa, Ontario, 1725 Saint Laurent Boulevard, Ottawa, ON K1G 3V4 – Hours of Opera…",
         "employers": "rmoc city of ottawa",
         "industry": "Business Services"
        },
        {
         "Unnamed: 0": 19975,
         "_deepnote_index_column": 19975,
         "clean_description": "review massage therapy show beneficial effect vary condition include prenatal depression preterm in…",
         "description": "In this review, massage therapy has been shown to have beneficial effects on varying conditions inc…",
         "employers": "therpoint massage, 2016-04-13",
         "industry": "Media and Entertainment"
        },
        {
         "Unnamed: 0": 19976,
         "_deepnote_index_column": 19976,
         "clean_description": "financial consumer affair authority fcaa vision cultivate environment everyone saskatchewan confide…",
         "description": "Financial and Consumer Affairs Authority (FCAA) vision is to cultivate an environment in which ever…",
         "employers": "financial & consumer affairs authority of saskatchewan (fcaa)",
         "industry": "Consumer Services"
        },
        {
         "Unnamed: 0": 19977,
         "_deepnote_index_column": 19977,
         "clean_description": "columbia association ca nonprofit community service corporation manage columbia md home approximate…",
         "description": "Columbia Association (CA) is a nonprofit community services corporation that manages Columbia, MD, …",
         "employers": "columbia association",
         "industry": "Agriculture and Mining"
        },
        {
         "Unnamed: 0": 19978,
         "_deepnote_index_column": 19978,
         "clean_description": "john muir health find doctor match john muir health physician network toggle navigation patient myc…",
         "description": "John Muir Health Find A Doctor match for: John Muir Health Physician Network. Toggle navigation. Pa…",
         "employers": "john muir physician network",
         "industry": "Health, Pharma, and Biotech"
        },
        {
         "Unnamed: 0": 19979,
         "_deepnote_index_column": 19979,
         "clean_description": "lenovo technology united kingdom limited redwood crockford lane chineham business park basingstoke …",
         "description": "Lenovo Technology United Kingdom Limited Redwood 3, Crockford Lane Chineham Business Park Basingsto…",
         "employers": " lenovo technology (uk) ltd.",
         "industry": "Computer and Electronics"
        },
        {
         "Unnamed: 0": 19980,
         "_deepnote_index_column": 19980,
         "clean_description": "offer service area set datacenter infrastructure end user support assist complete onboarding proces…",
         "description": "Offering services in the areas of setting up Data-Center, IT Infrastructure, End User support and a…",
         "employers": "wissen it inc",
         "industry": "Business Services"
        },
        {
         "Unnamed: 0": 19981,
         "_deepnote_index_column": 19981,
         "clean_description": "ahaclas realty llc north west clearfield ut categorize real estate buyer representative lenorok rea…",
         "description": "Ahaclas Realty LLC. 2472 North 770 West. Clearfield, UT (801) 725-8518. Categorized under Real Esta…",
         "employers": "ahaclas realty llc",
         "industry": "Business Services"
        },
        {
         "Unnamed: 0": 19982,
         "_deepnote_index_column": 19982,
         "clean_description": "crown wealth strategy provide quality financial strategy focus wealth planning strategy professiona…",
         "description": "Crown Wealth Strategies provides quality financial strategies, focusing on wealth planning strategi…",
         "employers": "crown wealth strategies ~",
         "industry": "Financial Services"
        },
        {
         "Unnamed: 0": 19983,
         "_deepnote_index_column": 19983,
         "clean_description": "cumme international project management cost consulting company deliver creative customized solution…",
         "description": "Cumming is an international project management and cost consulting company that delivers creative, …",
         "employers": "other - cumming corporation",
         "industry": "Government"
        },
        {
         "Unnamed: 0": 19984,
         "_deepnote_index_column": 19984,
         "clean_description": "cruisecom offer cruise cruise line include carnival cruise celebrity cruise princess cruise host ot…",
         "description": "Cruise.com offers cruises on all cruise lines, including Carnival Cruises, Celebrity Cruises, Princ…",
         "employers": "cruise",
         "industry": "Agriculture and Mining"
        },
        {
         "Unnamed: 0": 19985,
         "_deepnote_index_column": 19985,
         "clean_description": "verite films inc beaufort road toronto f type least character search home contact journal work home…",
         "description": "VÉRITÉ FILMS INC • 15 Beaufort Road • Toronto, ON • M4E 1M6 T. 416.693.8245 • F.416.693.8252 ... Ty…",
         "employers": "verite films",
         "industry": "Media and Entertainment"
        },
        {
         "Unnamed: 0": 19986,
         "_deepnote_index_column": 19986,
         "clean_description": "roche group include genentech chugai bring many highly effective drug onto market world leader inno…",
         "description": "The Roche Group, including Genentech and Chugai, has brought many highly effective drugs onto the m…",
         "employers": "roche singapore pte ltd",
         "industry": "Health, Pharma, and Biotech"
        },
        {
         "Unnamed: 0": 19987,
         "_deepnote_index_column": 19987,
         "clean_description": "behrhella thermocontrol gmbh bhtc one world lead company field climate control thermal management a…",
         "description": "Behr-Hella Thermocontrol GmbH (BHTC) is one of the world's leading companies in the field of climat…",
         "employers": "behr-hella thermocontrol gmbh",
         "industry": "Computer and Electronics"
        },
        {
         "Unnamed: 0": 19988,
         "_deepnote_index_column": 19988,
         "clean_description": "intercos europe spa via marconi agrate brianza mb italy tel fax view map intercos europe spa dovera…",
         "description": "INTERCOS EUROPE S.p.A. Via Marconi, 84 20864 Agrate Brianza – MB ITALY TEL. +39 039 65521 FAX. +39 …",
         "employers": "intercos spa",
         "industry": "Business Services"
        },
        {
         "Unnamed: 0": 19989,
         "_deepnote_index_column": 19989,
         "clean_description": "le calzature ermanno scervino limpeccabile attenzione ai dettagli materiali ricercati e lussuosi e …",
         "description": "Le calzature Ermanno Scervino. L’impeccabile attenzione ai dettagli, i materiali ricercati e lussuo…",
         "employers": "ermanno scervino",
         "industry": "Computer and Electronics"
        },
        {
         "Unnamed: 0": 19990,
         "_deepnote_index_column": 19990,
         "clean_description": "logitech first consumer electronic company label product amount climatewarme carbon use create make…",
         "description": "Logitech is the first consumer electronics company to label its products with the amount of climate…",
         "employers": "logitech",
         "industry": "Computer and Electronics"
        },
        {
         "Unnamed: 0": 19991,
         "_deepnote_index_column": 19991,
         "clean_description": "care management industry directory database dedicate case manager help find product service need ac…",
         "description": "The Care Management Industry Directory is the database dedicated to case managers, helping them fin…",
         "employers": "accretive pas",
         "industry": "Health, Pharma, and Biotech"
        },
        {
         "Unnamed: 0": 19992,
         "_deepnote_index_column": 19992,
         "clean_description": "fc asset management plc international asset management company acquire bmo global asset management …",
         "description": "F&C Asset Management Plc was an international asset management company. It was acquired by BMO Glob…",
         "employers": "f&c asset management plc",
         "industry": "Financial Services"
        },
        {
         "Unnamed: 0": 19993,
         "_deepnote_index_column": 19993,
         "clean_description": "hp printer case printer production hp invest eclipse new system automate assembly print engine nort…",
         "description": "HP Printer Case Printer Production HP invested $25,000,000 in “Eclipse,” a new system for automated…",
         "employers": "the gap, inc.",
         "industry": "Computer and Electronics"
        },
        {
         "Unnamed: 0": 19994,
         "_deepnote_index_column": 19994,
         "clean_description": "oocl logistic oocl announce launch brandnew multimodal container service china us east coast press …",
         "description": "OOCL Logistics and OOCL announced the launch of a brand-new multi-modal container service from Chin…",
         "employers": "orient overseas container line limited",
         "industry": "Business Services"
        },
        {
         "Unnamed: 0": 19995,
         "_deepnote_index_column": 19995,
         "clean_description": "current location address comprehensive surgical center green llc corporate wood pkwy uniontown ohio…",
         "description": "The current location address for Comprehensive Surgical Center Of Green, Llc is 1560 Corporate Wood…",
         "employers": "comprehensive surgical center of green",
         "industry": "Health, Pharma, and Biotech"
        },
        {
         "Unnamed: 0": 19996,
         "_deepnote_index_column": 19996,
         "clean_description": "chlopak leonard schechter associates st nw washington dc industry public relation agency business c…",
         "description": "Chlopak Leonard & Schechter Associates. 1850 M St Nw, Washington, DC 20036. Industry: Public Relati…",
         "employers": "chlopak, leonard, schechter",
         "industry": "Business Services"
        },
        {
         "Unnamed: 0": 19997,
         "_deepnote_index_column": 19997,
         "clean_description": "optimedia comprehensive storage system design accommodate conventional file advanced multimedia sto…",
         "description": "Optimedia is a comprehensive storage system designed to accommodate conventional filing and advance…",
         "employers": "optimedia",
         "industry": "Media and Entertainment"
        },
        {
         "Unnamed: 0": 19998,
         "_deepnote_index_column": 19998,
         "clean_description": "genta incorporate biopharmaceutical company start la jolla california discover develop innovative d…",
         "description": "Genta Incorporated was a biopharmaceutical company started in La Jolla, California, which discovere…",
         "employers": "genta, inc.",
         "industry": "Health, Pharma, and Biotech"
        },
        {
         "Unnamed: 0": 19999,
         "_deepnote_index_column": 19999,
         "clean_description": "signia hilton signia hilton new portfolio premier hotel highly soughtafter urban resort destination…",
         "description": "Signia by Hilton. Signia by Hilton is a new portfolio of premier hotels in highly sought-after urba…",
         "employers": "hilton worldwide",
         "industry": "Real Estate and Construction"
        }
       ],
       "rows_top": [
        {
         "Unnamed: 0": 0,
         "_deepnote_index_column": 0,
         "clean_description": "magic touch usa partner clicklease provide business industryleade screen print equipment low monthl…",
         "description": "Magic Touch USA has partnered with clicklease to provide your business with industry-leading screen…",
         "employers": "magic touch",
         "industry": "Computer and Electronics"
        },
        {
         "Unnamed: 0": 1,
         "_deepnote_index_column": 1,
         "clean_description": "indus valley partners india pvt ltd unit sdfv nd floor seepz sez andheri east mumbai india indus va…",
         "description": "Indus Valley Partners (India) Pvt. Ltd. Unit No. 154, SDF-V, 2nd Floor, SEEPZ SEZ, Andheri (East), …",
         "employers": "indus valley partners pvt. ltd.",
         "industry": "Business Services"
        },
        {
         "Unnamed: 0": 2,
         "_deepnote_index_column": 2,
         "clean_description": "home mather hospital find doctor patient portal pay bill upcoming event due covid pandemic mather h…",
         "description": "Home - Mather Hospital Find a doctor Patient portal Pay a bill Upcoming Events Due to the COVID-19 …",
         "employers": "mather hospital",
         "industry": "Business Services"
        },
        {
         "Unnamed: 0": 3,
         "_deepnote_index_column": 3,
         "clean_description": "first tapas bar colombia tapas macarena opportunity bring dish gastronomic history year icon rememb…",
         "description": "The First Tapas Bar in Colombia - Tapas Macarena. At this opportunity we have brought dishes from o…",
         "employers": "macarena tapas restaurant",
         "industry": "Agriculture and Mining"
        },
        {
         "Unnamed: 0": 4,
         "_deepnote_index_column": 4,
         "clean_description": "ashland specialty chemical drive vision make well world provide creative solution application speci…",
         "description": "Ashland specialty chemicals is driven by its vision to make a better world by providing creative so…",
         "employers": "ashland specialty ingredients",
         "industry": "Health, Pharma, and Biotech"
        },
        {
         "Unnamed: 0": 5,
         "_deepnote_index_column": 5,
         "clean_description": "lawrence berkeley national laboratory berkeley lab department energy doe office science lab manage …",
         "description": "Lawrence Berkeley National Laboratory (Berkeley Lab) is a Department of Energy (DOE) Office of Scie…",
         "employers": "lawrence berkeley labratory",
         "industry": "Education"
        },
        {
         "Unnamed: 0": 6,
         "_deepnote_index_column": 6,
         "clean_description": "neelkanth tech services inc brooklands house cleaning get free quote professional get free quote pr…",
         "description": "Neelkanth Tech Services Inc. Brooklands. House Cleaning. Get a free quote from this professional. G…",
         "employers": "neelkanth tech services",
         "industry": "Agriculture and Mining"
        },
        {
         "Unnamed: 0": 7,
         "_deepnote_index_column": 7,
         "clean_description": "manage partner pay two way partner receive distributive share partnership income every year share p…",
         "description": "A managing partner is paid in two ways: As a partner, they receive a distributive share of the part…",
         "employers": "shareholder and managing partner",
         "industry": "Financial Services"
        },
        {
         "Unnamed: 0": 8,
         "_deepnote_index_column": 8,
         "clean_description": "appointment center show support sale main menu main menu home truss product angle block base plate …",
         "description": "Appointment Center 800‑SHOWING (800-746‑9464) Support 800‑379‑0057 Sales 800‑347-8001 626-588-2528 …",
         "employers": "showing solutions,",
         "industry": "Media and Entertainment"
        },
        {
         "Unnamed: 0": 9,
         "_deepnote_index_column": 9,
         "clean_description": "  site map connect us fayette county public school discriminate basis race color religion sex natio…",
         "description": "webmaster@fcboe.org | Site Map. Connect with Us... Fayette County Public Schools does not discrimin…",
         "employers": "fcboe",
         "industry": "Education"
        },
        {
         "Unnamed: 0": 10,
         "_deepnote_index_column": 10,
         "clean_description": "ocbc bank launch first sustainabilitylinke structured deposit singapore sep add diversity sustainab…",
         "description": "OCBC Bank launches first Sustainability-Linked Structured Deposit in Singapore 24 Sep 2021. By addi…",
         "employers": "ocbc corporation ltd",
         "industry": "Financial Services"
        },
        {
         "Unnamed: 0": 11,
         "_deepnote_index_column": 11,
         "clean_description": "lab specialist consultancy design develop bespoke innovative technology solution partnership key fi…",
         "description": "Lab49 is a specialist consultancy that designs and develops bespoke and innovative technology solut…",
         "employers": "lab 49",
         "industry": "Energy and Utilities"
        },
        {
         "Unnamed: 0": 12,
         "_deepnote_index_column": 12,
         "clean_description": "jabil help shavelogic defy convention transform market dominate household brand feature insight we …",
         "description": "With Jabil's help, Shavelogic is here to defy convention and transform a market dominated by a few …",
         "employers": "jabil inc.",
         "industry": "Health, Pharma, and Biotech"
        },
        {
         "Unnamed: 0": 13,
         "_deepnote_index_column": 13,
         "clean_description": "pacific pipeline supply establish foundation exceptional service local level water agency contracto…",
         "description": "Pacific Pipeline Supply was established in 1987 on the foundation of exceptional service at the loc…",
         "employers": "pacific pipeline",
         "industry": "Agriculture and Mining"
        },
        {
         "Unnamed: 0": 14,
         "_deepnote_index_column": 14,
         "clean_description": "priority medical rehab center stateoftheart multidisciplinary practice offering follow service medi…",
         "description": "Priority Medical & Rehab Centers is a state-of-the-art multi-disciplinary practice offering the fol…",
         "employers": "priority medical centers",
         "industry": "Health, Pharma, and Biotech"
        },
        {
         "Unnamed: 0": 15,
         "_deepnote_index_column": 15,
         "clean_description": "online ordering menu lc chen lc chen serve panasian dining new take asian classic proud one neighbo…",
         "description": "Online ordering menu for LC Chen's. LC Chen's serves Pan-Asian dining with new takes on Asian class…",
         "employers": "lc chen's restaurant",
         "industry": "Agriculture and Mining"
        },
        {
         "Unnamed: 0": 16,
         "_deepnote_index_column": 16,
         "clean_description": "click company name browse detail information modern building contract e al safia trading intl est s…",
         "description": "Click company name to browse the detail information. 这是本站沙特阿拉伯买家列表，点击公司名称浏览详细信息。. MODERN BUILDING C…",
         "employers": "nawather trading co.",
         "industry": "Agriculture and Mining"
        },
        {
         "Unnamed: 0": 17,
         "_deepnote_index_column": 17,
         "clean_description": "figure technologies inc operate financial technology company home equity blockchain space company o…",
         "description": "Figure Technologies, Inc. operates as a financial technology company in both the home equity and bl…",
         "employers": "other financial firm - figure technologies",
         "industry": "Financial Services"
        },
        {
         "Unnamed: 0": 18,
         "_deepnote_index_column": 18,
         "clean_description": "late mls news score stat standing highlight plus special coverage we soccer canada soccer multiple …",
         "description": "All the latest MLS news, scores, stats, standings and highlights. Plus special coverage of US Socce…",
         "employers": "msl",
         "industry": "Agriculture and Mining"
        },
        {
         "Unnamed: 0": 19,
         "_deepnote_index_column": 19,
         "clean_description": "important information regard cleveland clinic unitedhealthcare time discuss new contract unitedheal…",
         "description": "Important Information Regarding Cleveland Clinic and UnitedHealthcare At this time, we are discussi…",
         "employers": "cleveland clinic (contract)",
         "industry": "Consumer Services"
        },
        {
         "Unnamed: 0": 20,
         "_deepnote_index_column": 20,
         "clean_description": "collection front end head snr manager bank internasional indonesia jan mei jun sep tahun bulan band…",
         "description": "Collection Front end Head (Snr. Manager) Bank Internasional Indonesia Jan 2007 - Mei ... Jun 2000 -…",
         "employers": "collection front end manager at citi (2000-2009)",
         "industry": "Business Services"
        },
        {
         "Unnamed: 0": 21,
         "_deepnote_index_column": 21,
         "clean_description": "vision come soon we heritage medical associate make physician different area medicine include aller…",
         "description": "Our Vision. Coming Soon. About Us Heritage Medical Associates is made up of physicians from differe…",
         "employers": "heritage medical systems",
         "industry": "Health, Pharma, and Biotech"
        },
        {
         "Unnamed: 0": 22,
         "_deepnote_index_column": 22,
         "clean_description": "lupin pharma canada announce partnership endoceutics commercialization intrarosa march lupin pharma…",
         "description": "Lupin Pharma Canada Announces Partnership with Endoceutics for the Commercialization of INTRAROSA® …",
         "employers": "endoceutics pharma",
         "industry": "Health, Pharma, and Biotech"
        },
        {
         "Unnamed: 0": 23,
         "_deepnote_index_column": 23,
         "clean_description": "view previous revision rule click revision date bottom rule page revision available back need old r…",
         "description": "To view previous revisions of the rule, click the revision date (s) at the bottom of the rule page.…",
         "employers": "home health lvnmission healthcare services, inc",
         "industry": "Consumer Services"
        },
        {
         "Unnamed: 0": 24,
         "_deepnote_index_column": 24,
         "clean_description": "guidewire platform pc insurer trust engage innovate grow efficiently combine digital core analytic …",
         "description": "Guidewire is the platform P&C insurers trust to engage, innovate, and grow efficiently. We combine …",
         "employers": "guidewire software, inc.",
         "industry": "Non-Profit"
        },
        {
         "Unnamed: 0": 25,
         "_deepnote_index_column": 25,
         "clean_description": "experience elsevi june present robert halfoffice team december december carrier johnson culture aug…",
         "description": "Experience Elsevier June 2015 - Present Robert Half/Office Team December 2013 - December 2014 Carri…",
         "employers": "admin assit at robert half - office team (2013-2013)",
         "industry": "Government"
        },
        {
         "Unnamed: 0": 26,
         "_deepnote_index_column": 26,
         "clean_description": "solectrix solar project sitespecific custom installation aim get customer start path energy indepen…",
         "description": "Each Solectrix solar project is a site-specific, custom installation. Our aim is to get the custome…",
         "employers": "solectrix inc.",
         "industry": "Computer and Electronics"
        },
        {
         "Unnamed: 0": 27,
         "_deepnote_index_column": 27,
         "clean_description": "georgia regents university institution mission statement mission provide leadership excellence teac…",
         "description": "Georgia Regents University Institution Mission Statement Our mission is to provide leadership and e…",
         "employers": "georgia regents university/georgia regents health system",
         "industry": "Government"
        },
        {
         "Unnamed: 0": 28,
         "_deepnote_index_column": 28,
         "clean_description": "jilin lot tunnel part jilin yinsong water supply project convey water central city jilin province l…",
         "description": "The Jilin Lot 3 tunnel is part of the Jilin Yinsong Water Supply Project, which will convey water t…",
         "employers": "jilin province changhong water conservancy project company",
         "industry": "Agriculture and Mining"
        },
        {
         "Unnamed: 0": 29,
         "_deepnote_index_column": 29,
         "clean_description": "everything except brand name still office berlin whole team formerly work newslettergo everything m…",
         "description": "Everything! Except for the brand name. We still have our office in Berlin and the whole team that f…",
         "employers": "sendinblue (formerly newsletter2go)",
         "industry": "Media and Entertainment"
        },
        {
         "Unnamed: 0": 30,
         "_deepnote_index_column": 30,
         "clean_description": "st michael medical center proudly build rich legacy care begin harrison family year ago premier med…",
         "description": "St. Michael Medical Center proudly builds on the rich legacy of care that began with the Harrison f…",
         "employers": "harrison medical center",
         "industry": "Health, Pharma, and Biotech"
        },
        {
         "Unnamed: 0": 31,
         "_deepnote_index_column": 31,
         "clean_description": "asymmetry capital management lp san franciscobase alternative asset management firm found scott kay…",
         "description": "Asymmetry Capital Management, L.P. is a San Francisco-based alternative asset management firm found…",
         "employers": "asymmetry capital management l.p",
         "industry": "Financial Services"
        },
        {
         "Unnamed: 0": 32,
         "_deepnote_index_column": 32,
         "clean_description": "institute new york daily class schedule class determine level level design take learn process encom…",
         "description": "Institute of New York – Daily Class Schedule. Classes are determined by levels. These levels are de…",
         "employers": "iyengar institute of new york ~",
         "industry": "Education"
        },
        {
         "Unnamed: 0": 33,
         "_deepnote_index_column": 33,
         "clean_description": "we found pricap seek produce superior risk adjust return invest high yield security utilize value d…",
         "description": "About Us. Founded in 2009, PriCap seeks to produce superior risk adjusted returns investing in high…",
         "employers": " ​​​​​​​​​pricap advisors llc",
         "industry": "Financial Services"
        },
        {
         "Unnamed: 0": 34,
         "_deepnote_index_column": 34,
         "clean_description": "receptionist volkswagen america inc tampa florida united states connection join connect volkswagen …",
         "description": "Receptionist at Volkswagen of America, Inc Tampa, Florida, United States 27 connections. Join to Co…",
         "employers": "receptionist at volkswagen of america, inc (2013-2013)",
         "industry": "Business Services"
        },
        {
         "Unnamed: 0": 35,
         "_deepnote_index_column": 35,
         "clean_description": "mda nonprofit health agency dedicate cure muscular dystrophy al related disease fund worldwide rese…",
         "description": "MDA is the nonprofit health agency dedicated to curing muscular dystrophy, ALS and related diseases…",
         "employers": "mda",
         "industry": "Health, Pharma, and Biotech"
        },
        {
         "Unnamed: 0": 36,
         "_deepnote_index_column": 36,
         "clean_description": "supreme court nassau county supreme court drive mineola new york administration act district admini…",
         "description": "Supreme Court, Nassau County. 100 Supreme Court Drive. Mineola, New York 11501. 516-493-3400. Admin…",
         "employers": "supreme court, nassau county",
         "industry": "Government"
        },
        {
         "Unnamed: 0": 37,
         "_deepnote_index_column": 37,
         "clean_description": "home warner bro movie tv show video game include harry potter dc comics warner bros entertainment i…",
         "description": "Home of Warner Bros Movies, TV Shows and Video Games including Harry Potter, DC Comics and more! Wa…",
         "employers": "warner brothers entertainment inc",
         "industry": "Media and Entertainment"
        },
        {
         "Unnamed: 0": 38,
         "_deepnote_index_column": 38,
         "clean_description": "eighth time bhuman team university bremen german research center artificial intelligence dfki succe…",
         "description": "For the eighth time, B-Human, the team from the University of Bremen and the German Research Center…",
         "employers": "german research center for artificial intelligence",
         "industry": "Manufacturing"
        },
        {
         "Unnamed: 0": 39,
         "_deepnote_index_column": 39,
         "clean_description": "hydroquebec home page wwwhydroquebeccom also home page section residential customer link service we…",
         "description": "The Hydro-Québec home page (www.hydroquebec.com) is also the home page of the section for residenti…",
         "employers": "hydro-quebec",
         "industry": "Agriculture and Mining"
        },
        {
         "Unnamed: 0": 40,
         "_deepnote_index_column": 40,
         "clean_description": "headline alabamas young shine td pass rout miami oklahoma hang narrow win tulane roger stun rank ba…",
         "description": "HEADLINES. No. 1 Alabama's Young shines with 4 TD passes in rout of Miami. No. 2 Oklahoma hangs on …",
         "employers": "thescore",
         "industry": "Media and Entertainment"
        },
        {
         "Unnamed: 0": 41,
         "_deepnote_index_column": 41,
         "clean_description": "welcome palmetto pediatric adolescent clinic emphasize comprehensive care patient location hour exp…",
         "description": "Welcome To Palmetto Pediatric & Adolescents Clinic. We emphasize comprehensive care for all our pat…",
         "employers": "palmetto pediatrics",
         "industry": "Health, Pharma, and Biotech"
        },
        {
         "Unnamed: 0": 42,
         "_deepnote_index_column": 42,
         "clean_description": "copperweld wire combine strength steel conductivity corrosion resistance copper property achieve pe…",
         "description": "Copperweld wire combines the strength of steel with the conductivity and corrosion resistance of co…",
         "employers": "copperweld",
         "industry": "Agriculture and Mining"
        },
        {
         "Unnamed: 0": 43,
         "_deepnote_index_column": 43,
         "clean_description": "  grant ave cleveland oh phone service hotline x support toll free blue canyon technologies inc bct…",
         "description": "5885 Grant Ave. Cleveland, OH 44105 Phone: 216.271.4800 Service Hotline: 216.271.5800 24x7 IT Suppo…",
         "employers": "iii / blue technologies",
         "industry": "Manufacturing"
        },
        {
         "Unnamed: 0": 44,
         "_deepnote_index_column": 44,
         "clean_description": "la encaphale horssarie la encaphale paris tous droit raservas actualitas sur le thermalisme intaraa…",
         "description": "Lâ€™EncÃ©phale (2011) Hors-sÃ©rie 3, 6-8 Â© Lâ€™EncÃ©phale, Paris, 2011. Tous droits rÃ©servÃ©s. Ac…",
         "employers": "clinique physio accès",
         "industry": "Education"
        },
        {
         "Unnamed: 0": 45,
         "_deepnote_index_column": 45,
         "clean_description": "exp global online brokerage that s powered top agent cuttingedge technology whether you re real est…",
         "description": "eXp is a global online brokerage that’s powered by top agents and cutting-edge technology. Whether …",
         "employers": "exp realty",
         "industry": "Real Estate and Construction"
        },
        {
         "Unnamed: 0": 46,
         "_deepnote_index_column": 46,
         "clean_description": "kaiser permanente hawaii maintain quality improvement program wait chart send kaiser permanente spe…",
         "description": "Kaiser Permanente Hawaii maintains a Quality Improvement Program ... No waiting for charts to be se…",
         "employers": "hospital quality improvement specialist at kaiser permanente (2014-2016)",
         "industry": "Health, Pharma, and Biotech"
        },
        {
         "Unnamed: 0": 47,
         "_deepnote_index_column": 47,
         "clean_description": "newamazon warehouse worker earn hour amazon workforce staff colorado springs co peterson air force …",
         "description": "newAmazon Warehouse Worker - Earn Up to $19.30/hour. Amazon Workforce Staffing 3.5. Colorado Spring…",
         "employers": "warehouse worker, amazon",
         "industry": "Consumer Services"
        },
        {
         "Unnamed: 0": 48,
         "_deepnote_index_column": 48,
         "clean_description": "bain passionately participate important pro bono work great china partnering organization like hong…",
         "description": "Bain passionately participates in important pro bono work in Greater China, partnering with organiz…",
         "employers": "bain & company (hong kong) ltd",
         "industry": "Business Services"
        },
        {
         "Unnamed: 0": 49,
         "_deepnote_index_column": 49,
         "clean_description": "bridgewater interior found joint venture johnson control jci manufacture seat general motors curren…",
         "description": "Bridgewater Interiors was founded in 1998 as a joint venture with Johnson Controls (JCI) to manufac…",
         "employers": "bridgewater interiors",
         "industry": "Agriculture and Mining"
        },
        {
         "Unnamed: 0": 50,
         "_deepnote_index_column": 50,
         "clean_description": "de foods inc norwell like talk de food grow family run kfc franchise year today operate kfc kfctaco…",
         "description": "De Foods, Inc., Norwell, MA. 112 likes · 8 talking about this. DE Foods is a growing family run #KF…",
         "employers": "de foods inc.",
         "industry": "Agriculture and Mining"
        },
        {
         "Unnamed: 0": 51,
         "_deepnote_index_column": 51,
         "clean_description": "restaurant run follower linkedin restaurant run foodgistic science behind corporate food delivery y…",
         "description": "Restaurants on the Run | 2,980 followers on LinkedIn. Restaurants on the Run Foodgistics: The scien…",
         "employers": "restaurants on the run",
         "industry": "Business Services"
        },
        {
         "Unnamed: 0": 52,
         "_deepnote_index_column": 52,
         "clean_description": "greenwood open day week plan visit acre art history nature heart brooklyn free open public day year…",
         "description": "Green-Wood is open 7 days a week. PLAN YOUR VISIT. 478 Acres of Art, History, AND NATURE in the hea…",
         "employers": "green-wood cemetery",
         "industry": "Agriculture and Mining"
        },
        {
         "Unnamed: 0": 53,
         "_deepnote_index_column": 53,
         "clean_description": "ask chemical employee sport good cause detail ask chemical metallurgy launch new generation inocula…",
         "description": "ASK Chemicals employees do sports for a good cause. Details ASK Chemicals Metallurgy launches new g…",
         "employers": "ask chemicals ( east plant)",
         "industry": "Agriculture and Mining"
        },
        {
         "Unnamed: 0": 54,
         "_deepnote_index_column": 54,
         "clean_description": "presentation de lassemblee nationale du palais bourbon de ses membre depute de son fonctionnement e…",
         "description": "Presentation de l'Assemblee nationale, du palais Bourbon, de ses membres (deputes), de son fonction…",
         "employers": "assemblee nationale",
         "industry": "Government"
        },
        {
         "Unnamed: 0": 55,
         "_deepnote_index_column": 55,
         "clean_description": "nick bar closed door first time year go major renovation restaurant nearly completely rebuild origi…",
         "description": "Nick’s Bar closed their doors for the first time in 40 years in 2018 as they went under major renov…",
         "employers": "nick's bar and grill",
         "industry": "Agriculture and Mining"
        },
        {
         "Unnamed: 0": 56,
         "_deepnote_index_column": 56,
         "clean_description": "global team advance manufacturing specialist provide tailor cut solution help automate well competi…",
         "description": "We are a global team of advanced manufacturing specialists, providing tailored cutting solutions to…",
         "employers": "axyz automation group",
         "industry": "Manufacturing"
        },
        {
         "Unnamed: 0": 57,
         "_deepnote_index_column": 57,
         "clean_description": "story place peace care compassion welcome mary new street saratoga springs ny phone fax mary bedroo…",
         "description": "Stories. A Place of Peace, Caring and Compassion. Welcome to Mary's Haven. 35 New Street, Saratoga …",
         "employers": "mary’s haven",
         "industry": "Education"
        },
        {
         "Unnamed: 0": 58,
         "_deepnote_index_column": 58,
         "clean_description": "go intuitive bodywork almost year could nt say well thing great hour convenient location easy sched…",
         "description": "“I have been going to Intuitive Bodywork for almost 2 years and I couldn’t say better things. They …",
         "employers": "intuitive bodywork",
         "industry": "Education"
        },
        {
         "Unnamed: 0": 59,
         "_deepnote_index_column": 59,
         "clean_description": "duke street lead european midmarket private equity group announce agree acquire kent pharmaceutical…",
         "description": "Duke Street, the leading European midmarket private equity group, announces that it has agreed to a…",
         "employers": "duke street capital (f/ hambros european ventures)",
         "industry": "Financial Services"
        },
        {
         "Unnamed: 0": 60,
         "_deepnote_index_column": 60,
         "clean_description": "saskatoon health region commit reconciliation read flowcast model region predictive model forecast …",
         "description": "Saskatoon Health Region commits to Reconciliation Read more Flowcast Model The Region's predictive …",
         "employers": "saskatoon health region",
         "industry": "Consumer Services"
        },
        {
         "Unnamed: 0": 61,
         "_deepnote_index_column": 61,
         "clean_description": "institute blind partially sight ibo national competence rehabilitation centre denmark young adult v…",
         "description": "The Institute for the Blind and Partially Sighted (IBOS) is the national competence- and rehabilita…",
         "employers": "the institute for the blind and partially sighted (ibos)",
         "industry": "Education"
        },
        {
         "Unnamed: 0": 62,
         "_deepnote_index_column": 62,
         "clean_description": "willow park skilled nursing facility nestle directly great city cleveland friend community year bed…",
         "description": "Willow Park is a skilled nursing facility nestled directly in the great city of Cleveland, and has …",
         "employers": "willow park nursing home",
         "industry": "Consumer Services"
        },
        {
         "Unnamed: 0": 63,
         "_deepnote_index_column": 63,
         "clean_description": "order pizza pasta sandwich online carryout delivery domino view menu find location track order sign…",
         "description": "Order pizza, pasta, sandwiches & more online for carryout or delivery from Domino's. View menu, fin…",
         "employers": "domino's pizza inc.",
         "industry": "Computer and Electronics"
        },
        {
         "Unnamed: 0": 64,
         "_deepnote_index_column": 64,
         "clean_description": "grey new york th ave new york ny united states gray ny direction locationtaglinevaluetext sponsor t…",
         "description": "Grey New York. 200 5th Ave New York, NY 10010 United States +1 212 546 2000 Gray, NY Directions {{:…",
         "employers": "grey ny",
         "industry": "Education"
        },
        {
         "Unnamed: 0": 65,
         "_deepnote_index_column": 65,
         "clean_description": "meta financial group inc year month senior internal auditor sep jun month troy michigan united stat…",
         "description": "Meta Financial Group, Inc. 1 year 4 months Senior Internal Auditor Sep 2020 - Jun 202110 months Tro…",
         "employers": "internal auditor, meta financial group",
         "industry": "Financial Services"
        },
        {
         "Unnamed: 0": 66,
         "_deepnote_index_column": 66,
         "clean_description": "electronic security solution ess valuable partner school system educator focus happening classroom …",
         "description": "Electronic Security Solutions (ESS) is a valuable partner for our school system. As educators, our …",
         "employers": "electronic security solutions",
         "industry": "Computer and Electronics"
        },
        {
         "Unnamed: 0": 67,
         "_deepnote_index_column": 67,
         "clean_description": "larry smith sa provide shopping centre development service company base madrid spain november larry…",
         "description": "Larry Smith SA provides shopping centre development services. The company is based in Madrid, Spain…",
         "employers": "larry smith sa",
         "industry": "Business Services"
        },
        {
         "Unnamed: 0": 68,
         "_deepnote_index_column": 68,
         "clean_description": "maid go clean service residential commercial cleaning maid go clean service ensure client home busi…",
         "description": "About Maid 2 Go Cleaning Service Be it residential or commercial cleaning \"Maid 2 Go Cleaning Servi…",
         "employers": "2 go cleaning services",
         "industry": "Computer and Electronics"
        },
        {
         "Unnamed: 0": 69,
         "_deepnote_index_column": 69,
         "clean_description": "part criterion hire professionalism enthusiasm communication skill whether need certify bartender f…",
         "description": "Part of our criteria for hiring is professionalism, enthusiasm, and communication skills. Whether y…",
         "employers": "eventtemps",
         "industry": "Business Services"
        },
        {
         "Unnamed: 0": 70,
         "_deepnote_index_column": 70,
         "clean_description": "andrew peller limited announce time fourth quarter yearend fiscal result conference callapril andre…",
         "description": "Andrew Peller Limited Announces Timing of Fourth Quarter & Year-End Fiscal 2021 Results & Conferenc…",
         "employers": "andrew peller limmited",
         "industry": "Consumer Services"
        },
        {
         "Unnamed: 0": 71,
         "_deepnote_index_column": 71,
         "clean_description": "security operation center soc centralized function within organization employ people process techno…",
         "description": "A Security Operation Center (SOC) is a centralized function within an organization employing people…",
         "employers": "soc",
         "industry": "Education"
        },
        {
         "Unnamed: 0": 72,
         "_deepnote_index_column": 72,
         "clean_description": "symic bio matrixtargete biotherapeutic new category therapeutic expand application matrix biology e…",
         "description": "Symic Bio. Matrix-Targeting Biotherapeutics: A New Category of Therapeutics. Expanding Applications…",
         "employers": "symic, inc",
         "industry": "Health, Pharma, and Biotech"
        },
        {
         "Unnamed: 0": 73,
         "_deepnote_index_column": 73,
         "clean_description": "let priority settlement group texas help meet client need pride ability provide smooth stressfree c…",
         "description": "Let Priority Settlement Group of Texas help you meet your client’s needs. We pride ourselves on our…",
         "employers": "priority settlement group of tx",
         "industry": "Financial Services"
        },
        {
         "Unnamed: 0": 74,
         "_deepnote_index_column": 74,
         "clean_description": "david lebreton vp operations year strategic management operation experience formerly principal lebr…",
         "description": "David LeBreton. VP of Operations • 15+ years of strategic management and operations experience. • F…",
         "employers": "lebreton & sons real estate,",
         "industry": "Business Services"
        },
        {
         "Unnamed: 0": 75,
         "_deepnote_index_column": 75,
         "clean_description": "ceo martin management group llc digital nomad location free live selfemploye jan present year month…",
         "description": "CEO of Martin Management Group LLC | Digital Nomad & Location Free Living Self-employed Jan 2013 - …",
         "employers": "self-employed martin mangement group, martin management collective",
         "industry": "Education"
        },
        {
         "Unnamed: 0": 76,
         "_deepnote_index_column": 76,
         "clean_description": "petshotel pet boarding comfortable accommodation safetycertifie associate provide welcome place dog…",
         "description": "PetsHotel Pet Boarding. Our comfortable accommodations & safety-certified associates provide a welc…",
         "employers": "petsmart pet hotel",
         "industry": "Education"
        },
        {
         "Unnamed: 0": 77,
         "_deepnote_index_column": 77,
         "clean_description": "may brynn boyer university mary washington graduate total student rd commencement graduate ceremony…",
         "description": "May 10, 2014 by Brynn Boyer. The University of Mary Washington graduated a total of 1,249 students …",
         "employers": "graduate ambassador, mba program at university of mary washington (2014-2014)",
         "industry": "Education"
        },
        {
         "Unnamed: 0": 78,
         "_deepnote_index_column": 78,
         "clean_description": "sunw aviation official shell aerocentre calgary international airport yyc addition provide shell fu…",
         "description": "Sunwest Aviation is the official Shell AeroCentre ™ at the Calgary International Airport (YYC). In …",
         "employers": "sunwest aviation",
         "industry": "Agriculture and Mining"
        },
        {
         "Unnamed: 0": 79,
         "_deepnote_index_column": 79,
         "clean_description": "lpp premier manufacturer class highvisibility automotive component lpp capability require provide i…",
         "description": "LP+P is the premier manufacturer of Class A, high-visibility automotive components. LP+P has the ca…",
         "employers": "lapeer plating & plastics",
         "industry": "Agriculture and Mining"
        },
        {
         "Unnamed: 0": 80,
         "_deepnote_index_column": 80,
         "clean_description": "southern utah university many tutor available math chemistry biology business many subject private …",
         "description": "Southern Utah University has many tutors available for math, chemistry, biology, business, and many…",
         "employers": "math tutor, southern utah university",
         "industry": "Education"
        },
        {
         "Unnamed: 0": 81,
         "_deepnote_index_column": 81,
         "clean_description": "denso manufacturing canada inc dmcn locate guelph ontario canada manufacture heat ventilation air c…",
         "description": "DENSO Manufacturing Canada, Inc. (DMCN), located in Guelph, Ontario, Canada, manufactures heating v…",
         "employers": "denso manufacturing canada",
         "industry": "Agriculture and Mining"
        },
        {
         "Unnamed: 0": 82,
         "_deepnote_index_column": 82,
         "clean_description": "meet executive team olaf laos olaf direct sale consultancy service product development within isc s…",
         "description": "Meet the Executive Team. Olaf Laos. Olaf directs sales, consultancy services, and product developme…",
         "employers": "team lead, isc software",
         "industry": "Business Services"
        },
        {
         "Unnamed: 0": 83,
         "_deepnote_index_column": 83,
         "clean_description": "sucampo part mallinckrodt february mallinckrodt close acquisition sucampo pharmaceuticals inc full …",
         "description": "Sucampo is now a part of Mallinckrodt. On February 13, 2018, Mallinckrodt closed on our acquisition…",
         "employers": "sucampo pharmaceuticals, inc.",
         "industry": "Health, Pharma, and Biotech"
        },
        {
         "Unnamed: 0": 84,
         "_deepnote_index_column": 84,
         "clean_description": "rick swaine chief financial officer university toledo medical center toledo ohio metropolitan area …",
         "description": "Rick Swaine Chief Financial Officer at UNIVERSITY OF TOLEDO MEDICAL CENTER Toledo, Ohio Metropolita…",
         "employers": "chief financial officer, university of toledo medical center",
         "industry": "Business Services"
        },
        {
         "Unnamed: 0": 85,
         "_deepnote_index_column": 85,
         "clean_description": "mine support service highly skilled mining partner year experience provide civil construction envir…",
         "description": "Mine Support Services is a highly skilled mining partner with 30 years experience. We provide civil…",
         "employers": "self employed - mine support services",
         "industry": "Consumer Services"
        },
        {
         "Unnamed: 0": 86,
         "_deepnote_index_column": 86,
         "clean_description": "shop late fashion children clothing online next usa free delivery available great style great servi…",
         "description": "Shop the very latest fashion and childrens clothing online at Next USA :: FREE delivery available* …",
         "employers": "next",
         "industry": "Computer and Electronics"
        },
        {
         "Unnamed: 0": 87,
         "_deepnote_index_column": 87,
         "clean_description": "neulion inc years month mobile application development manager jun present year month plainview ny …",
         "description": "NeuLion, Inc 21 years 4 months Mobile Application Development Manager Jun 2000 - Present21 years 4 …",
         "employers": "mobile software dev manager, neulion inc",
         "industry": "Media and Entertainment"
        },
        {
         "Unnamed: 0": 88,
         "_deepnote_index_column": 88,
         "clean_description": "auld dubliner part downtown long beach community year come experience place friend come celebrate s…",
         "description": "The Auld Dubliner has been part of the downtown Long Beach community for over 10 years. Come experi…",
         "employers": "the auld dubliner",
         "industry": "Agriculture and Mining"
        },
        {
         "Unnamed: 0": 89,
         "_deepnote_index_column": 89,
         "clean_description": "rocaton found april team experience investment professional previously work together another invest…",
         "description": "Rocaton was founded in April 2002 by a team of experienced investment professionals who had all pre…",
         "employers": "rocaton investment advisors inc",
         "industry": "Financial Services"
        },
        {
         "Unnamed: 0": 90,
         "_deepnote_index_column": 90,
         "clean_description": "le reseau des banques alimentaires du quebec nourrit personnes chaque mois se membre moisson et ass…",
         "description": "Le réseau des Banques alimentaires du Québec nourrit 500 000 personnes chaque mois. Ses 32 membres …",
         "employers": "les banques alimentaires du québec",
         "industry": "Media and Entertainment"
        },
        {
         "Unnamed: 0": 91,
         "_deepnote_index_column": 91,
         "clean_description": "creative circle equal employment opportunity employer qualified applicant receive consideration emp…",
         "description": "Creative Circle is an Equal Employment Opportunity Employer. All qualified applicants will receive …",
         "employers": "creativecircle",
         "industry": "Education"
        },
        {
         "Unnamed: 0": 92,
         "_deepnote_index_column": 92,
         "clean_description": "marsh mclennan trust advisor client around world professional service firm like lead global expert …",
         "description": "Marsh McLennan is a trusted advisor to clients around the world. A professional services firm like …",
         "employers": "marsh usa inc.",
         "industry": "Financial Services"
        },
        {
         "Unnamed: 0": 93,
         "_deepnote_index_column": 93,
         "clean_description": "late corus group october british steel hoogoven merge form corus group plc ceo two former company j…",
         "description": "Late 1990s: Corus Group. On October 6, 1999, British Steel and Hoogovens merged, forming Corus Grou…",
         "employers": "corus group (f/ british steel plc)",
         "industry": "Financial Services"
        },
        {
         "Unnamed: 0": 94,
         "_deepnote_index_column": 94,
         "clean_description": "seachange international multinational supplier video delivery software solution power cloud onpremi…",
         "description": "SeaChange International is a multinational supplier of Video Delivery Software Solutions that power…",
         "employers": "seachange international inc",
         "industry": "Health, Pharma, and Biotech"
        },
        {
         "Unnamed: 0": 95,
         "_deepnote_index_column": 95,
         "clean_description": "ohiohealth home location health fitness mcconnell heart health center mcconnell heart health center…",
         "description": "OhioHealth Home / Locations / Health and Fitness / / McConnell Heart Health Center McConnell Heart …",
         "employers": "ohiohealth|mcconnell heart health center",
         "industry": "Health, Pharma, and Biotech"
        },
        {
         "Unnamed: 0": 96,
         "_deepnote_index_column": 96,
         "clean_description": "power infra electric power industry provide production delivery electric energy often know power el…",
         "description": "Power & Infra. The electric power industry provides the production and delivery of electric energy,…",
         "employers": "covalentech llc",
         "industry": "Agriculture and Mining"
        },
        {
         "Unnamed: 0": 97,
         "_deepnote_index_column": 97,
         "clean_description": "bolt world large pc insurance exchange match distributor provider single digital platform offer sea…",
         "description": "bolt is the world’s largest P&C insurance exchange. We match distributors with providers on a singl…",
         "employers": "bolt solutions inc.",
         "industry": "Real Estate and Construction"
        },
        {
         "Unnamed: 0": 98,
         "_deepnote_index_column": 98,
         "clean_description": "diabetes educator health care professional variety health discipline include register dietitian nur…",
         "description": "A diabetes educator can be health care professionals from a variety of health disciplines, includin…",
         "employers": "registered dietitian / diabetes educator",
         "industry": "Health, Pharma, and Biotech"
        },
        {
         "Unnamed: 0": 99,
         "_deepnote_index_column": 99,
         "clean_description": "k risscare personal care home provide good care comfort love one thank visit krisscare personal car…",
         "description": "K risscare Personal Care Home. Providing the Best of Care and Comfort for your Loved One. Thanks fo…",
         "employers": "kris's care",
         "industry": "Education"
        }
       ]
      },
      "text/html": [
       "<div>\n",
       "<style scoped>\n",
       "    .dataframe tbody tr th:only-of-type {\n",
       "        vertical-align: middle;\n",
       "    }\n",
       "\n",
       "    .dataframe tbody tr th {\n",
       "        vertical-align: top;\n",
       "    }\n",
       "\n",
       "    .dataframe thead th {\n",
       "        text-align: right;\n",
       "    }\n",
       "</style>\n",
       "<table border=\"1\" class=\"dataframe\">\n",
       "  <thead>\n",
       "    <tr style=\"text-align: right;\">\n",
       "      <th></th>\n",
       "      <th>Unnamed: 0</th>\n",
       "      <th>employers</th>\n",
       "      <th>description</th>\n",
       "      <th>clean_description</th>\n",
       "      <th>industry</th>\n",
       "    </tr>\n",
       "  </thead>\n",
       "  <tbody>\n",
       "    <tr>\n",
       "      <th>0</th>\n",
       "      <td>0</td>\n",
       "      <td>magic touch</td>\n",
       "      <td>Magic Touch USA has partnered with clicklease ...</td>\n",
       "      <td>magic touch usa partner clicklease provide bus...</td>\n",
       "      <td>Computer and Electronics</td>\n",
       "    </tr>\n",
       "    <tr>\n",
       "      <th>1</th>\n",
       "      <td>1</td>\n",
       "      <td>indus valley partners pvt. ltd.</td>\n",
       "      <td>Indus Valley Partners (India) Pvt. Ltd. Unit N...</td>\n",
       "      <td>indus valley partners india pvt ltd unit sdfv ...</td>\n",
       "      <td>Business Services</td>\n",
       "    </tr>\n",
       "    <tr>\n",
       "      <th>2</th>\n",
       "      <td>2</td>\n",
       "      <td>mather hospital</td>\n",
       "      <td>Home - Mather Hospital Find a doctor Patient p...</td>\n",
       "      <td>home mather hospital find doctor patient porta...</td>\n",
       "      <td>Business Services</td>\n",
       "    </tr>\n",
       "    <tr>\n",
       "      <th>3</th>\n",
       "      <td>3</td>\n",
       "      <td>macarena tapas restaurant</td>\n",
       "      <td>The First Tapas Bar in Colombia - Tapas Macare...</td>\n",
       "      <td>first tapas bar colombia tapas macarena opport...</td>\n",
       "      <td>Agriculture and Mining</td>\n",
       "    </tr>\n",
       "    <tr>\n",
       "      <th>4</th>\n",
       "      <td>4</td>\n",
       "      <td>ashland specialty ingredients</td>\n",
       "      <td>Ashland specialty chemicals is driven by its v...</td>\n",
       "      <td>ashland specialty chemical drive vision make w...</td>\n",
       "      <td>Health, Pharma, and Biotech</td>\n",
       "    </tr>\n",
       "    <tr>\n",
       "      <th>...</th>\n",
       "      <td>...</td>\n",
       "      <td>...</td>\n",
       "      <td>...</td>\n",
       "      <td>...</td>\n",
       "      <td>...</td>\n",
       "    </tr>\n",
       "    <tr>\n",
       "      <th>19995</th>\n",
       "      <td>19995</td>\n",
       "      <td>comprehensive surgical center of green</td>\n",
       "      <td>The current location address for Comprehensive...</td>\n",
       "      <td>current location address comprehensive surgica...</td>\n",
       "      <td>Health, Pharma, and Biotech</td>\n",
       "    </tr>\n",
       "    <tr>\n",
       "      <th>19996</th>\n",
       "      <td>19996</td>\n",
       "      <td>chlopak, leonard, schechter</td>\n",
       "      <td>Chlopak Leonard &amp; Schechter Associates. 1850 M...</td>\n",
       "      <td>chlopak leonard schechter associates st nw was...</td>\n",
       "      <td>Business Services</td>\n",
       "    </tr>\n",
       "    <tr>\n",
       "      <th>19997</th>\n",
       "      <td>19997</td>\n",
       "      <td>optimedia</td>\n",
       "      <td>Optimedia is a comprehensive storage system de...</td>\n",
       "      <td>optimedia comprehensive storage system design ...</td>\n",
       "      <td>Media and Entertainment</td>\n",
       "    </tr>\n",
       "    <tr>\n",
       "      <th>19998</th>\n",
       "      <td>19998</td>\n",
       "      <td>genta, inc.</td>\n",
       "      <td>Genta Incorporated was a biopharmaceutical com...</td>\n",
       "      <td>genta incorporate biopharmaceutical company st...</td>\n",
       "      <td>Health, Pharma, and Biotech</td>\n",
       "    </tr>\n",
       "    <tr>\n",
       "      <th>19999</th>\n",
       "      <td>19999</td>\n",
       "      <td>hilton worldwide</td>\n",
       "      <td>Signia by Hilton. Signia by Hilton is a new po...</td>\n",
       "      <td>signia hilton signia hilton new portfolio prem...</td>\n",
       "      <td>Real Estate and Construction</td>\n",
       "    </tr>\n",
       "  </tbody>\n",
       "</table>\n",
       "<p>20000 rows × 5 columns</p>\n",
       "</div>"
      ],
      "text/plain": [
       "       Unnamed: 0                               employers  \\\n",
       "0               0                             magic touch   \n",
       "1               1         indus valley partners pvt. ltd.   \n",
       "2               2                         mather hospital   \n",
       "3               3               macarena tapas restaurant   \n",
       "4               4           ashland specialty ingredients   \n",
       "...           ...                                     ...   \n",
       "19995       19995  comprehensive surgical center of green   \n",
       "19996       19996             chlopak, leonard, schechter   \n",
       "19997       19997                               optimedia   \n",
       "19998       19998                             genta, inc.   \n",
       "19999       19999                        hilton worldwide   \n",
       "\n",
       "                                             description  \\\n",
       "0      Magic Touch USA has partnered with clicklease ...   \n",
       "1      Indus Valley Partners (India) Pvt. Ltd. Unit N...   \n",
       "2      Home - Mather Hospital Find a doctor Patient p...   \n",
       "3      The First Tapas Bar in Colombia - Tapas Macare...   \n",
       "4      Ashland specialty chemicals is driven by its v...   \n",
       "...                                                  ...   \n",
       "19995  The current location address for Comprehensive...   \n",
       "19996  Chlopak Leonard & Schechter Associates. 1850 M...   \n",
       "19997  Optimedia is a comprehensive storage system de...   \n",
       "19998  Genta Incorporated was a biopharmaceutical com...   \n",
       "19999  Signia by Hilton. Signia by Hilton is a new po...   \n",
       "\n",
       "                                       clean_description  \\\n",
       "0      magic touch usa partner clicklease provide bus...   \n",
       "1      indus valley partners india pvt ltd unit sdfv ...   \n",
       "2      home mather hospital find doctor patient porta...   \n",
       "3      first tapas bar colombia tapas macarena opport...   \n",
       "4      ashland specialty chemical drive vision make w...   \n",
       "...                                                  ...   \n",
       "19995  current location address comprehensive surgica...   \n",
       "19996  chlopak leonard schechter associates st nw was...   \n",
       "19997  optimedia comprehensive storage system design ...   \n",
       "19998  genta incorporate biopharmaceutical company st...   \n",
       "19999  signia hilton signia hilton new portfolio prem...   \n",
       "\n",
       "                           industry  \n",
       "0          Computer and Electronics  \n",
       "1                 Business Services  \n",
       "2                 Business Services  \n",
       "3            Agriculture and Mining  \n",
       "4       Health, Pharma, and Biotech  \n",
       "...                             ...  \n",
       "19995   Health, Pharma, and Biotech  \n",
       "19996             Business Services  \n",
       "19997       Media and Entertainment  \n",
       "19998   Health, Pharma, and Biotech  \n",
       "19999  Real Estate and Construction  \n",
       "\n",
       "[20000 rows x 5 columns]"
      ]
     },
     "execution_count": 39,
     "metadata": {},
     "output_type": "execute_result"
    }
   ],
   "source": [
    "df \n",
    "# from a first glance it kind of looks off, but actually it isnt that bad in my opinion\n",
    "# for example the mather hospital is classified as a Business Service, we would like it to be classified as Health\n",
    "# but it is technically a business service also"
   ]
  },
  {
   "cell_type": "code",
   "execution_count": null,
   "metadata": {
    "cell_id": "00020-b5b2a6af-8d8a-4020-b639-2399197b13b1",
    "deepnote_cell_type": "code",
    "deepnote_to_be_reexecuted": false,
    "execution_millis": 3613,
    "execution_start": 1635998162675,
    "source_hash": "7dd53365",
    "tags": []
   },
   "outputs": [],
   "source": [
    "df.to_csv(\"word_embeddings_predictions.csv\") # writes final classifications to csv"
   ]
  },
  {
   "cell_type": "code",
   "execution_count": null,
   "metadata": {
    "cell_id": "00021-c1b2208c-afd7-40d9-a602-4c6e59090164",
    "deepnote_cell_type": "code",
    "tags": []
   },
   "outputs": [],
   "source": []
  },
  {
   "cell_type": "markdown",
   "metadata": {
    "created_in_deepnote_cell": true,
    "deepnote_cell_type": "markdown",
    "tags": []
   },
   "source": [
    "<a style='text-decoration:none;line-height:16px;display:flex;color:#5B5B62;padding:10px;justify-content:end;' href='https://deepnote.com?utm_source=created-in-deepnote-cell&projectId=0f8c70f2-5291-4247-be8a-0c0d763ed56d' target=\"_blank\">\n",
    "<img alt='Created in deepnote.com' style='display:inline;max-height:16px;margin:0px;margin-right:7.5px;' src='data:image/svg+xml;base64,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' > </img>\n",
    "Created in <span style='font-weight:600;margin-left:4px;'>Deepnote</span></a>"
   ]
  }
 ],
 "metadata": {
  "deepnote": {
   "is_reactive": false
  },
  "deepnote_execution_queue": [],
  "deepnote_notebook_id": "6211318d-c98d-4b31-9ae3-fa386156efa9",
  "kernelspec": {
   "display_name": "Python 3",
   "language": "python",
   "name": "python3"
  },
  "language_info": {
   "codemirror_mode": {
    "name": "ipython",
    "version": 3
   },
   "file_extension": ".py",
   "mimetype": "text/x-python",
   "name": "python",
   "nbconvert_exporter": "python",
   "pygments_lexer": "ipython3",
   "version": "3.8.5"
  }
 },
 "nbformat": 4,
 "nbformat_minor": 2
}
