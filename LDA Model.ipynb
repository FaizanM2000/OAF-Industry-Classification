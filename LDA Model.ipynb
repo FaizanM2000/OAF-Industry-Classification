{
 "cells": [
  {
   "cell_type": "code",
   "execution_count": null,
   "metadata": {
    "cell_id": "00000-c76593f4-a9b7-4e3c-8afb-f3e672e4c260",
    "deepnote_cell_type": "code",
    "deepnote_to_be_reexecuted": false,
    "execution_millis": 0,
    "execution_start": 1635994364046,
    "source_hash": "dcf6230",
    "tags": []
   },
   "outputs": [],
   "source": [
    "import pandas as pd\n",
    "import numpy as np\n",
    "from sklearn.decomposition import LatentDirichletAllocation as LDA\n",
    "from sklearn.feature_extraction.text import TfidfVectorizer\n",
    "import nltk"
   ]
  },
  {
   "cell_type": "code",
   "execution_count": null,
   "metadata": {
    "cell_id": "00001-950cc937-6d9f-4465-8f12-d83c8a0d9070",
    "deepnote_cell_type": "code",
    "deepnote_to_be_reexecuted": false,
    "execution_millis": 1944,
    "execution_start": 1635993247049,
    "source_hash": "7cc2298b",
    "tags": []
   },
   "outputs": [
    {
     "name": "stdout",
     "output_type": "stream",
     "text": [
      "/usr/local/lib/python3.7/runpy.py:125: RuntimeWarning: 'nltk.downloader' found in sys.modules after import of package 'nltk', but prior to execution of 'nltk.downloader'; this may result in unpredictable behaviour\n",
      "  warn(RuntimeWarning(msg))\n",
      "[nltk_data] Downloading package stopwords to /root/nltk_data...\n",
      "[nltk_data]   Unzipping corpora/stopwords.zip.\n"
     ]
    }
   ],
   "source": [
    "!python -m nltk.downloader stopwords >> /dev/null"
   ]
  },
  {
   "cell_type": "code",
   "execution_count": null,
   "metadata": {
    "cell_id": "00002-51cb7bd8-a008-48c5-80cb-72ceb6e57107",
    "deepnote_cell_type": "code",
    "deepnote_to_be_reexecuted": false,
    "execution_millis": 3,
    "execution_start": 1635994379074,
    "source_hash": "bf9f8c00",
    "tags": []
   },
   "outputs": [],
   "source": [
    "STOP_WORDS = nltk.corpus.stopwords.words(\"english\")"
   ]
  },
  {
   "cell_type": "code",
   "execution_count": null,
   "metadata": {
    "cell_id": "00003-dcdbebf1-68e5-442b-a101-af4c0ad82e2d",
    "deepnote_cell_type": "code",
    "deepnote_to_be_reexecuted": false,
    "execution_millis": 3178,
    "execution_start": 1635994575428,
    "source_hash": "e12de747",
    "tags": []
   },
   "outputs": [],
   "source": [
    "#getting cleaned data from our .csv files that \n",
    "df2 = pd.read_csv('industry_data.csv')\n",
    "industry_corpus = df2['clean_description'].values.astype(str)\n",
    "\n",
    "industry_names = df2[\"industry\"].values\n",
    "\n",
    "combined_data = pd.read_csv(\"lda_predictions.csv\")\n",
    "corpus = combined_data['clean_description'].values.astype(str)"
   ]
  },
  {
   "cell_type": "code",
   "execution_count": null,
   "metadata": {
    "cell_id": "00004-17b5fa67-73e9-4134-a599-ef8262cd9ddc",
    "deepnote_cell_type": "code",
    "deepnote_to_be_reexecuted": false,
    "execution_millis": 6,
    "execution_start": 1635994597923,
    "source_hash": "e68e6e7f",
    "tags": []
   },
   "outputs": [],
   "source": [
    "NGRAM = (1,1)\n",
    "# had to play around with these to get satisfactory results\n",
    "MIN_DF = 3 # gives the lower bound for which a word has to appear in the corpus, this case a word has to be in atleast 3 documents\n",
    "MAX_DF = .7 # give upper bound for which a word appears in a the corpus, this case if a word appears in 70% of documents, ignore it\n",
    "MAX_FEATURES = 5000\n",
    "\n",
    "idf_vec = TfidfVectorizer(\n",
    "    preprocessor=lambda x: x,\n",
    "    ngram_range=NGRAM,\n",
    "    tokenizer=lambda s: s.split(),\n",
    "    stop_words=STOP_WORDS,\n",
    "    min_df=MIN_DF,\n",
    "    max_df=MAX_DF,\n",
    "    max_features=MAX_FEATURES,\n",
    "    use_idf=True,\n",
    "    smooth_idf=True\n",
    ")"
   ]
  },
  {
   "cell_type": "code",
   "execution_count": null,
   "metadata": {
    "cell_id": "00005-0552096f-15ea-4b4c-b95e-eeda76a508c2",
    "deepnote_cell_type": "code",
    "deepnote_to_be_reexecuted": false,
    "execution_millis": 16697,
    "execution_start": 1635994649941,
    "source_hash": "c21795b1",
    "tags": []
   },
   "outputs": [
    {
     "name": "stderr",
     "output_type": "stream",
     "text": [
      "/shared-libs/python3.7/py/lib/python3.7/site-packages/sklearn/feature_extraction/text.py:517: UserWarning: The parameter 'token_pattern' will not be used since 'tokenizer' is not None'\n",
      "  \"The parameter 'token_pattern' will not be used\"\n",
      "/shared-libs/python3.7/py/lib/python3.7/site-packages/sklearn/feature_extraction/text.py:1209: UserWarning: Upper case characters found in vocabulary while 'lowercase' is True. These entries will not be matched with any documents\n",
      "  \"Upper case characters found in\"\n"
     ]
    }
   ],
   "source": [
    "# fitting TFIDF vectorizer onto whole corpus\n",
    "vec = idf_vec.fit(corpus)\n",
    "# getting the vectors of the raw data\n",
    "vectors = vec.transform(corpus)"
   ]
  },
  {
   "cell_type": "code",
   "execution_count": null,
   "metadata": {
    "cell_id": "00006-ee3db72a-f8dc-426b-a31b-926af107fa9e",
    "deepnote_cell_type": "code",
    "deepnote_to_be_reexecuted": false,
    "execution_millis": 0,
    "execution_start": 1635994669592,
    "source_hash": "a2b44b0f",
    "tags": []
   },
   "outputs": [],
   "source": [
    "lda = LDA(n_components=30)"
   ]
  },
  {
   "cell_type": "code",
   "execution_count": null,
   "metadata": {
    "cell_id": "00007-e728a9d4-3ddc-4900-ab3d-c44193e4b545",
    "deepnote_cell_type": "code",
    "deepnote_to_be_reexecuted": false,
    "execution_millis": 164386,
    "execution_start": 1635994705773,
    "source_hash": "980d7d46",
    "tags": []
   },
   "outputs": [],
   "source": [
    "# fitting LDA model onto the vectors of the corpus\n",
    "fitted_lda = lda.fit(vectors)"
   ]
  },
  {
   "cell_type": "code",
   "execution_count": null,
   "metadata": {
    "cell_id": "00008-a5785932-51e4-45ea-a90d-ddbe120a6f8a",
    "deepnote_cell_type": "code",
    "deepnote_to_be_reexecuted": false,
    "execution_millis": 67,
    "execution_start": 1635994883089,
    "source_hash": "6e957a61",
    "tags": []
   },
   "outputs": [
    {
     "name": "stderr",
     "output_type": "stream",
     "text": [
      "/shared-libs/python3.7/py/lib/python3.7/site-packages/sklearn/feature_extraction/text.py:1209: UserWarning: Upper case characters found in vocabulary while 'lowercase' is True. These entries will not be matched with any documents\n",
      "  \"Upper case characters found in\"\n"
     ]
    }
   ],
   "source": [
    "# transform industry data with fitted vectorizer and fitted LDA model\n",
    "industry_vectors = idf_vec.transform(industry_corpus)\n",
    "industry_topics = fitted_lda.transform(industry_vectors)"
   ]
  },
  {
   "cell_type": "code",
   "execution_count": null,
   "metadata": {
    "cell_id": "00009-8d494c2e-8a55-41a3-99ca-ea17d120989a",
    "deepnote_cell_type": "code",
    "deepnote_to_be_reexecuted": false,
    "execution_millis": 19174,
    "execution_start": 1635994921510,
    "source_hash": "e35f6f53",
    "tags": []
   },
   "outputs": [
    {
     "name": "stderr",
     "output_type": "stream",
     "text": [
      "/shared-libs/python3.7/py/lib/python3.7/site-packages/sklearn/feature_extraction/text.py:1209: UserWarning: Upper case characters found in vocabulary while 'lowercase' is True. These entries will not be matched with any documents\n",
      "  \"Upper case characters found in\"\n"
     ]
    }
   ],
   "source": [
    "# transform employer data with fitted vectorizer and fitted LDA model\n",
    "employer_vectors = idf_vec.transform(corpus)\n",
    "employer_topics = fitted_lda.transform(employer_vectors)"
   ]
  },
  {
   "cell_type": "code",
   "execution_count": null,
   "metadata": {
    "cell_id": "00010-321802f2-c8a5-401e-ab5a-f0ef8bdf2dd8",
    "deepnote_cell_type": "code",
    "deepnote_to_be_reexecuted": false,
    "execution_millis": 3506,
    "execution_start": 1635994953996,
    "source_hash": "9f3af934",
    "tags": []
   },
   "outputs": [],
   "source": [
    "# stores the industry which each of the employers fit into\n",
    "industry_prediction = []\n",
    "\n",
    "for employer_vec in employer_topics:\n",
    "    distances = []\n",
    "    for industry_vec in industry_topics:\n",
    "        #Look at how close the company topics are from the industry\n",
    "        distances.append(np.linalg.norm(industry_vec - employer_vec))\n",
    "    #Pick the closest company\n",
    "    best_industry_index = np.argmin(distances)\n",
    "    industry_prediction.append(industry_names[best_industry_index])"
   ]
  },
  {
   "cell_type": "code",
   "execution_count": null,
   "metadata": {
    "cell_id": "00011-069c4cab-42c8-40fd-863c-ba86edc863c0",
    "deepnote_cell_type": "code",
    "deepnote_to_be_reexecuted": false,
    "execution_millis": 3,
    "execution_start": 1635994992653,
    "source_hash": "8620807a",
    "tags": []
   },
   "outputs": [],
   "source": [
    "# adding new column to match employer to its industry\n",
    "combined_data[\"industry\"] = industry_prediction"
   ]
  },
  {
   "cell_type": "code",
   "execution_count": null,
   "metadata": {
    "cell_id": "00012-b4a0e8e6-6426-4327-b697-29a66444d18c",
    "deepnote_cell_type": "code",
    "deepnote_to_be_reexecuted": false,
    "execution_millis": 3553,
    "execution_start": 1635995149520,
    "source_hash": "3a86fe65",
    "tags": []
   },
   "outputs": [],
   "source": [
    "# writing results into the csv file\n",
    "combined_data.to_csv('lda_predictions.csv')"
   ]
  },
  {
   "cell_type": "code",
   "execution_count": null,
   "metadata": {
    "cell_id": "00013-33d93ca8-88a1-4c9e-9f2c-5ebdc533ffc1",
    "deepnote_cell_type": "code",
    "deepnote_to_be_reexecuted": false,
    "execution_millis": 598,
    "execution_start": 1635995255194,
    "source_hash": "89bb0659",
    "tags": []
   },
   "outputs": [
    {
     "data": {
      "application/vnd.deepnote.dataframe.v2+json": {
       "column_count": 4,
       "columns": [
        {
         "dtype": "object",
         "name": "employers",
         "stats": {
          "categories": [
           {
            "count": 1,
            "name": "magic touch"
           },
           {
            "count": 20011,
            "name": "20011 others"
           },
           {
            "count": 1,
            "name": "Missing"
           }
          ],
          "nan_count": 1,
          "unique_count": 20012
         }
        },
        {
         "dtype": "object",
         "name": "description",
         "stats": {
          "categories": [
           {
            "count": 7,
            "name": "."
           },
           {
            "count": 2,
            "name": "Best European Restaurants in Portland, Oregon: Find Tripadvisor traveler reviews of Portland European restaurants and search by price, location, and more. COVID update: Otto & Anita's European Restaurant has updated their hours, takeout & delivery options. 242 reviews of Otto & Anita's European Restaurant \"it was quiet on the weekday night that i visited the homey german restaurant. the service was very warm and i felt like one of the family. i got to try a sample of the pickle soup which surprising as it sounds was very tasty. Eat at the best Modern European Restaurants in Portland, OR. Read local reviews, browse local photos, & discover where to eat the best food. Your search for the right Modern European Restaurants ends here. Know, then go—and never miss a thing near you - Swiss Hibiscus, NORMANDIE, Bosnia Restaurant, Grandpa's Cafe, Küchenhaus, Lovely Rita, Two Brothers Cafe and Grill, Castagna Restaurant ... Find European restaurants near you from 5 million restaurants worldwide with 760 million reviews and opinions from Tripadvisor travelers. Find European Restaurants local business listings in and near Portland, OR. Get European Restaurants business addresses, phone numbers, driving directions, maps, reviews and more. Whether it's breakfast in Post Falls or Pullman that you are in the mood for or a traditional European lunch, The Old European Restaurant is sure to surprise you with their traditional culinary menu. We provide quality dishes and serve them with great affection to offer a captivating eating experience for guests. European foods. catering. our services. our story. about edelweiss. contact us. get started (503) 238-4411 edelweissdeli@aol.com. 0 item(s) - $0.00. Search. Featured. Schweinebauch (Stuffed Bacon) $8.49/lb. In Store Only. Wine Cured Salami . $15.00/lb. In Store Only. Rosemary Garlic Bologna ... European’s Best Restaurant and Bakery welcomes you to enjoy an exceptional dining experience filled with old-world flavor and comfort. We are family…at European’s Best Restaurant and Bakery. It’s family that supports us and grounds us in what truly matters. That’s why at European’s Best Restaurant and Bakery, we’re all family here. Welcome to Phillips European Restaurant. Many guests think of us as their favorite lunch restaurant. For others we are a casual evening retreat for dinner after a busy day. For some the romantic atmosphere in a hidden corner or a secluded booth provides the ideal place for the special moment of engagement, anniversary, birthday or celebration. European's Best Restaurant and Bakery 19608 West 130th Street Strongsville, Ohio 44136 440-572-0600 Business Hours Mon-Thur 7am-3pm Fri 7am-7pm Sat & Sun 7am-3pm We are currently Closed Payment methods We accept cash or check only ©2021 European's Best Bakery and More, LLC. Bruno's European Restaurant in Lakewood, WA. Bruno's European Restaurant proudly serves authentic German and Polish cuisine. They have great food, and friendly service, in a fun, casual atmosphere. Featured on Diners, Drive-ins, and Dives. European Street Cafe is a family-owned restaurant providing award-winning food, beer selection and service for more than 40 years. Four locations throughout Jacksonville, Fla. Locations. Riverside. 2753 Park St. Jacksonville, FL 32205 904-384-9999 info@europeanstreet.com. Ado's Taste of Europe is a European restaurant serving all kinds of authentic dishes. You can split a platter with friends and family or enjoy a European hamburger on flatbread. With flavors from Germany, Slovenia, Italy, Poland and the Balkan area, there's something for everyone. Restaurant menu, map for European Republic located in 11520, Freeport NY, 126 W Merrick Rd. 4147 Labyrinth Rd. Baltimore, Md 21215 Restaurant, B anquet Hall 1.888.450.4555 Catering 410.764.0722 The European is a hybrid creation that evokes memories (and the occasional bit of longing) for the wine bars and cafes of all those places; and the extent to which the concept resonates with Melbournians can be measured in the place's longevity….” Buttercraft is your Sellwood-moreland neighborhood specialty food and wine shop in Portland, Oregon. We stock an assortment of curated wines, farmstead cheese, handcrafted butters, local meats, and french macarons. (503) 238-4411 edelweissdeli@aol.com. 0 item(s) - $0.00. Search old european restaurant menu, the old european post falls, site:zomato.com old europe english restaurant, old european restaurant cour d alene idaho, old bohemian post falls Select Country India"
           },
           {
            "count": 20004,
            "name": "20002 others"
           }
          ],
          "nan_count": 0,
          "unique_count": 20004
         }
        },
        {
         "dtype": "object",
         "name": "clean_description",
         "stats": {
          "categories": [
           {
            "count": 2,
            "name": "good european restaurant portland oregon find tripadvisor traveler review portland european restaurant search price location covid update otto anitas european restaurant update hour takeout delivery option review otto anitas european restaurant quiet weekday night visit homey german restaurant service warm feel like one family get try sample pickle soup surprising sound tasty eat good modern european restaurant portland read local review browse local photo discover eat good food search right modern european restaurant end know goand never miss thing near swiss hibiscus normandie bosnia restaurant grandpas cafe kuchenhaus lovely rita two brother cafe grill castagna restaurant find european restaurant near million restaurant worldwide million review opinion tripadvisor traveler find european restaurant local business listing near portland get european restaurant business address phone number drive direction map review whether breakfast post fall pullman mood traditional european lunch old european restaurant sure surprise traditional culinary menu provide quality dish serve great affection offer captivate eat experience guest european food catering services story edelweiss contact we get start item search feature schweinebauch stuff bacon lb store wine cure salami lb store rosemary garlic bologna europeans good restaurant bakery welcome enjoy exceptional dining experience fill oldworld flavor comfort familyat european good restaurant bakery family support we ground we truly matter that s europeans good restaurant bakery family welcome phillip european restaurant many guest think we favorite lunch restaurant other casual evening retreat dinner busy day romantic atmosphere hide corner secluded booth provide ideal place special moment engagement anniversary birthday celebration european good restaurant bakery west th street strongsville ohio business hours monthur ampm fri ampm sat sun ampm currently close payment method accept cash check european good bakery llc brunos european restaurant lakewood wa brunos european restaurant proudly serve authentic german polish cuisine great food friendly service fun casual atmosphere feature diner drivein dive european street cafe familyowne restaurant provide awardwinne food beer selection service year four location throughout jacksonville fla location riverside park st jacksonville fl ado taste europe european restaurant serve kind authentic dish split platter friend family enjoy european hamburger flatbread flavor germany slovenia italy poland balkan area there s something everyone restaurant menu map european republic locate freeport ny w merrick rd labyrinth rd baltimore md restaurant b anquet hall cater european hybrid creation evoke memory occasional bit long wine bar cafe place extent concept resonate melbournian measure place longevity buttercraft sellwoodmoreland neighborhood specialty food wine shop portland oregon stock assortment curate wines farmstead cheese handcraft butter local meat french macaron item search old european restaurant menu old european post fall sitezomatocom old europe english restaurant old european restaurant cour alene idaho old bohemian post fall select country india"
           },
           {
            "count": 20004,
            "name": "20002 others"
           },
           {
            "count": 7,
            "name": "Missing"
           }
          ],
          "nan_count": 7,
          "unique_count": 20003
         }
        },
        {
         "dtype": "object",
         "name": "industry",
         "stats": {
          "categories": [
           {
            "count": 7567,
            "name": "Non-Profit"
           },
           {
            "count": 3327,
            "name": "Computer and Electronics"
           },
           {
            "count": 9119,
            "name": "11 others"
           }
          ],
          "nan_count": 0,
          "unique_count": 13
         }
        },
        {
         "dtype": "int64",
         "name": "_deepnote_index_column"
        }
       ],
       "row_count": 20013,
       "rows_bottom": [
        {
         "_deepnote_index_column": 19888,
         "clean_description": "mayer brown global service provider comprising associate legal practice separate entity include may…",
         "description": "Mayer Brown is a global services provider comprising associated legal practices that are separate e…",
         "employers": "mayer, brown, rowe & maw llp",
         "industry": "Agriculture and Mining"
        },
        {
         "_deepnote_index_column": 19889,
         "clean_description": "satori investment encompass capital experience relationship guidance steer leadership team toward l…",
         "description": "A Satori investment encompasses more than just capital. Our experience, relationships, and guidance…",
         "employers": "satori capital",
         "industry": "Computer and Electronics"
        },
        {
         "_deepnote_index_column": 19890,
         "clean_description": "qixxit provide within one app journey planner nationalwide travel information include mean transpor…",
         "description": "Qixxit provides within one app a journey planner with a nationalwide travel information including a…",
         "employers": "qixxit",
         "industry": "Non-Profit"
        },
        {
         "_deepnote_index_column": 19891,
         "clean_description": "career barclay career barclay truly unique there s business quite like barclay bank consumer corpor…",
         "description": "Careers at Barclays. A career at Barclays is truly unique and there’s no other business quite like …",
         "employers": "product assistant - insurance at barclays (2014-unknown)",
         "industry": "Manufacturing"
        },
        {
         "_deepnote_index_column": 19892,
         "clean_description": "stearns financial investment management firm understand wealth management protect grow wealth vehic…",
         "description": "Stearns Financial is an investment management firm that understands wealth management is more than …",
         "employers": "stearns financial group",
         "industry": "Media and Entertainment"
        },
        {
         "_deepnote_index_column": 19893,
         "clean_description": "wyss institute leverage recent insight nature build control manufacture develop new engineering inn…",
         "description": "At the Wyss Institute, we leverage recent insights into how Nature builds, controls and manufacture…",
         "employers": "wyss",
         "industry": "Non-Profit"
        },
        {
         "_deepnote_index_column": 19894,
         "clean_description": "network company call mannesmann mobilfunk gmbh main competitor germanys incumbent carrier deutsche …",
         "description": "The network company was called Mannesmann Mobilfunk GmbH. It was the main competitor to Germany's i…",
         "employers": "mannesmann mobilfunk gmbh",
         "industry": "Real Estate and Construction"
        },
        {
         "_deepnote_index_column": 19895,
         "clean_description": "marys house cleaning june karla ford recommend marys house cleaning october she s part family last …",
         "description": "Mary's house cleaning. June 6 ·. 🥰. Karla Ford recommends Mary's house cleaning. October 22, 2020. …",
         "employers": "mary's house cleaning",
         "industry": "Non-Profit"
        },
        {
         "_deepnote_index_column": 19896,
         "clean_description": "freemaniconactionlinkarrow learn event service feel confident plan safe inperson hybrid trade show …",
         "description": "freeman-icon-action-link-arrow. Learn more. Event Services. Feel confident planning safe, in-person…",
         "employers": "other - freeman company",
         "industry": "Non-Profit"
        },
        {
         "_deepnote_index_column": 19897,
         "clean_description": "cost healthcare consultant blue shield california aug nov year month marygrove college christopher …",
         "description": "Cost of Healthcare, Consultant Blue Shield of California ... Aug 2012 - Nov 2013 1 year 4 months. .…",
         "employers": "financial consultant at blue leaf financial advisors (2012-2014)",
         "industry": "Financial Services"
        },
        {
         "_deepnote_index_column": 19898,
         "clean_description": "miami county oh w main street troy ohio phone fax pm monday friday orval miller paola drive fourdoo…",
         "description": "Miami County, OH 201 W Main Street Troy, Ohio 45373 Phone: 937-440-6085 Fax: 937-440-3524 8am - 4pm…",
         "employers": "miami county sheriff's office",
         "industry": "Government"
        },
        {
         "_deepnote_index_column": 19899,
         "clean_description": "continue use website agree use cookie ok power tank first develop need fast portable reliable air o…",
         "description": "By continuing to use this website you are agreeing to our use of cookies. OK Power Tank was first d…",
         "employers": "powertan",
         "industry": "Non-Profit"
        },
        {
         "_deepnote_index_column": 19900,
         "clean_description": "  attorney lipsitz green scime cambria name super lawyer law firm lipsitz green scime cambria llp p…",
         "description": "23 Attorney from Lipsitz Green Scime Cambria Named to 2021 Super Lawyers. The law firm of Lipsitz G…",
         "employers": "lipsitz green scime cambria",
         "industry": "Non-Profit"
        },
        {
         "_deepnote_index_column": 19901,
         "clean_description": "full service aaha accredit veterinary hospital cat dog household pet locate beautiful wooster ohio …",
         "description": "We are a full service, AAHA accredited veterinary hospital for cats, dogs, and other household pets…",
         "employers": "cleveland road animal hospital",
         "industry": "Non-Profit"
        },
        {
         "_deepnote_index_column": 19902,
         "clean_description": "video footage prove draw ryan scott band varsity fanclub sing song starstruck album except starstru…",
         "description": "video footage proving that drew ryan scott from the band 'varsity fanclub' sings all the songs on t…",
         "employers": "stap struckscott",
         "industry": "Non-Profit"
        },
        {
         "_deepnote_index_column": 19903,
         "clean_description": "welcome sapot system since establishment sapot system work consistently diligently emerge lead staf…",
         "description": "WELCOME TO SAPOT SYSTEMS Since its establishment in 2003, Sapot Systems is working consistently and…",
         "employers": "sapot systems inc",
         "industry": "Manufacturing"
        },
        {
         "_deepnote_index_column": 19904,
         "clean_description": "late chicago bull small forward derrick jones jr include news stat video highlight espn derrick jon…",
         "description": "Latest on Chicago Bulls small forward Derrick Jones Jr. including news, stats, videos, highlights a…",
         "employers": "derrick jones",
         "industry": "Non-Profit"
        },
        {
         "_deepnote_index_column": 19905,
         "clean_description": "  baseball factory allamerica game baseball factory allamerica game top high school player country …",
         "description": "2021 Baseball Factory All-America Game 2021 Baseball Factory All-America Game. The Top High School …",
         "employers": "baseball factory",
         "industry": "Non-Profit"
        },
        {
         "_deepnote_index_column": 19906,
         "clean_description": "servicemaster brand make everyday hero heroic learn brands servicemaster brand leader home service …",
         "description": "ServiceMaster Brands. Making everyday heroes more heroic. Learn More. Our Brands. ServiceMaster Bra…",
         "employers": "service master",
         "industry": "Computer and Electronics"
        },
        {
         "_deepnote_index_column": 19907,
         "clean_description": "healthcare datum analyst may help hospital health system physician group decide whether add new ser…",
         "description": "Healthcare data analysts may help hospitals, health systems, and physician groups decide whether to…",
         "employers": "data analyst, healthcare, other",
         "industry": "Media and Entertainment"
        },
        {
         "_deepnote_index_column": 19908,
         "clean_description": "eye associates northwest pc dedicate provide good specialized eye care highly recommend eye associa…",
         "description": "Eye Associates Northwest, PC is dedicated to providing the best in specialized eye care. ... I high…",
         "employers": "eye associates northwest, pc",
         "industry": "Non-Profit"
        },
        {
         "_deepnote_index_column": 19909,
         "clean_description": "homepage rancatore ice cream yogurt locate belmont lexington newton order ice cream gift card pick …",
         "description": "Homepage for Rancatore's Ice Cream & Yogurt, located in Belmont, Lexington, and Newton, MA. Order i…",
         "employers": "rancatore's ice cream and yogurt",
         "industry": "Non-Profit"
        },
        {
         "_deepnote_index_column": 19910,
         "clean_description": "yale new hospital nationally recognize yale new hospital proud rank among good nation eight special…",
         "description": "Yale New Haven Hospital. Nationally Recognized Yale New Haven Hospital is proud to be ranked among …",
         "employers": "ynhh",
         "industry": "Non-Profit"
        },
        {
         "_deepnote_index_column": 19911,
         "clean_description": "learn visitation opportunity contact ohio department rehabilitation correction browse frequently as…",
         "description": "Learn more about visitation opportunities. Contact the Ohio Department of Rehabilitation and Correc…",
         "employers": "ohio department of rehabilitation and corrections",
         "industry": "Government"
        },
        {
         "_deepnote_index_column": 19912,
         "clean_description": "qualtex one large independent nonprofit testing laboratory united states blood plasma product locat…",
         "description": "QualTex is one of the largest independent, nonprofit testing laboratories in the United States for …",
         "employers": "qualtex laboratories",
         "industry": "Non-Profit"
        },
        {
         "_deepnote_index_column": 19913,
         "clean_description": "  inform email address enter could use send satisfaction survey anonymous optional neo service rese…",
         "description": "(*) Be informed that the email address you have entered could be used to send a satisfaction survey…",
         "employers": "neos",
         "industry": "Health, Pharma, and Biotech"
        },
        {
         "_deepnote_index_column": 19914,
         "clean_description": "intec infocom pvt ltd head office locate haryana gurgaon top player information technology software…",
         "description": "Intec Infocom Pvt Ltd Head Office is located in Haryana Gurgaon is a top player in the Information …",
         "employers": "intec infocom pvt ltd",
         "industry": "Computer and Electronics"
        },
        {
         "_deepnote_index_column": 19915,
         "clean_description": "vulcan management follower linkedin provide management expertise enhance enterprise value vulcan ma…",
         "description": "Vulcan Management | 103 followers on LinkedIn. Provide Management Expertise To Enhance Enterprise V…",
         "employers": "vulcan management",
         "industry": "Financial Services"
        },
        {
         "_deepnote_index_column": 19916,
         "clean_description": "kforce midtown tampa sit intersection work life play home office remain heart work get do new space…",
         "description": "Kforce Midtown Tampa sit s at the intersection of work, life and play. Our home offices will remain…",
         "employers": "kforce contract pge",
         "industry": "Financial Services"
        },
        {
         "_deepnote_index_column": 19917,
         "clean_description": "onshore outsourcing deliver upon mission revitalize underserved community novel approach workforce …",
         "description": "Onshore Outsourcing delivers upon its mission of revitalizing underserved communities through its n…",
         "employers": "onshore outsourcing",
         "industry": "Computer and Electronics"
        },
        {
         "_deepnote_index_column": 19918,
         "clean_description": "build exclusively aw ultra commerce platform leverage late technology service good practice aw ensu…",
         "description": "Built exclusively on AWS, the Ultra Commerce platform leverages the latest technologies, services a…",
         "employers": "ultra commerce internet pty ltd.",
         "industry": "Agriculture and Mining"
        },
        {
         "_deepnote_index_column": 19919,
         "clean_description": "page redirect contentusenuscontactushtml publishcontentusenuscontactushtml publish mercy corps glob…",
         "description": "This page redirects to /content/us/en-us/contact-us.html in publish./content/us/en-us/contact-us.ht…",
         "employers": "mc marketing corporation ag",
         "industry": "Financial Services"
        },
        {
         "_deepnote_index_column": 19920,
         "clean_description": "locate brooklyn new york polytechnic institute new york university midsize four year private colleg…",
         "description": "Located in Brooklyn, New York, Polytechnic Institute of New York University is a mid-size four year…",
         "employers": "polytechnic institute of new york university",
         "industry": "Health, Pharma, and Biotech"
        },
        {
         "_deepnote_index_column": 19921,
         "clean_description": "peer insight innovation firm partner leader drive new growth turn idea reality client we ve privile…",
         "description": "Peer Insight is an innovation firm that partners with leaders to drive new growth and turn ideas in…",
         "employers": "peer insight",
         "industry": "Computer and Electronics"
        },
        {
         "_deepnote_index_column": 19922,
         "clean_description": "smokefreedrugfree environment interested apply employment cleveland clinic need special assistance …",
         "description": "Smoke-free/drug-free environment. If you are interested in applying for employment with Cleveland C…",
         "employers": "cleveland clinic prn aramark",
         "industry": "Non-Profit"
        },
        {
         "_deepnote_index_column": 19923,
         "clean_description": "qinetiq satellite support european union horizon programme european space agency esa confirm appoin…",
         "description": "QinetiQ Satellite to Support European Union Horizon 2020 Programme. The European Space Agency (ESA)…",
         "employers": "qinetiq, inc.",
         "industry": "Manufacturing"
        },
        {
         "_deepnote_index_column": 19924,
         "clean_description": "baltimore va medical center block away light rail metro subway stations lexington market addition b…",
         "description": "The Baltimore VA Medical Center is a few blocks away from the Light Rail and Metro Subway Stations …",
         "employers": "baltimore va medical center",
         "industry": "Non-Profit"
        },
        {
         "_deepnote_index_column": 19925,
         "clean_description": "charles gabriel partners lead provider professional search service specialized expertise finance st…",
         "description": "Charles Gabriel Partners is a leading provider of professional search services with specialized exp…",
         "employers": "gabriel partners",
         "industry": "Financial Services"
        },
        {
         "_deepnote_index_column": 19926,
         "clean_description": "cafe veloce italian restaurant kirkland wa load veloce restaurant software pos solution tailor opti…",
         "description": "Cafe Veloce | Italian Restaurant in Kirkland, WA LOADING... VELOCE’S RESTAURANT SOFTWARE IS A POS S…",
         "employers": "veloce restaurant",
         "industry": "Non-Profit"
        },
        {
         "_deepnote_index_column": 19927,
         "clean_description": "apply system technology transfer follower linkedin ast apply system technology transfer ast small b…",
         "description": "Applied Systems & Technology Transfer | 27 followers on LinkedIn. About AST2 Applied Systems and Te…",
         "employers": "applied systems and technology transfer",
         "industry": "Agriculture and Mining"
        },
        {
         "_deepnote_index_column": 19928,
         "clean_description": "gary r jones tyler tx dsi transport inc cameron park ca wrh ii hopewell pa sidhu trans inc bakersfi…",
         "description": "gary r. jones - tyler, tx dsi transport inc. - cameron park, ca wrh ii - hopewell, pa sidhu trans i…",
         "employers": "great jone spa, 2015-01-07",
         "industry": "Non-Profit"
        },
        {
         "_deepnote_index_column": 19929,
         "clean_description": "manage director fly exam london united kingdom join connect fly exam company website report profile…",
         "description": "Managing Director at Flying Exam London, United Kingdom. Join to Connect Flying Exam. Company Websi…",
         "employers": "managing director at managing director gitamo exam setters (2015-unknown)",
         "industry": "Energy and Utilities"
        },
        {
         "_deepnote_index_column": 19930,
         "clean_description": "lifepoint health trade name use refer organization affiliate entity operate hospital healthcare pro…",
         "description": "\"LifePoint Health\" is a trade name used to refer to an organization of affiliated entities that own…",
         "employers": "lifepoint health st. francis hospital",
         "industry": "Non-Profit"
        },
        {
         "_deepnote_index_column": 19931,
         "clean_description": "johnson controls inc johnson control requirement supplier automotive experience division corporate …",
         "description": "Johnson Controls, Inc. (Johnson Controls) requirements to the suppliers in our Automotive Experienc…",
         "employers": "johnson controls automotive experience",
         "industry": "Computer and Electronics"
        },
        {
         "_deepnote_index_column": 19932,
         "clean_description": "locate heart one world great city university illinois chicago vital part educational technological …",
         "description": "Located in the heart of one of the world’s great cities, the University of Illinois Chicago is a vi…",
         "employers": "univ. of illinois at chicago",
         "industry": "Non-Profit"
        },
        {
         "_deepnote_index_column": 19933,
         "clean_description": "hunt gymnastic academy offer gymnastic ninja class build child strength provide challenge foster co…",
         "description": "Hunt's Gymnastics Academy offers gymnastics and ninja classes that will build your child's strength…",
         "employers": "hunt's gymnastics",
         "industry": "Non-Profit"
        },
        {
         "_deepnote_index_column": 19934,
         "clean_description": "part supply chain solutions inc company govern canada business corporation act february wednesday i…",
         "description": "Only Parts Supply Chain Solutions Inc. is a company governing under the Canada Business Corporation…",
         "employers": "only parts supply chain solutions",
         "industry": "Energy and Utilities"
        },
        {
         "_deepnote_index_column": 19935,
         "clean_description": "community loans america inc make loan product convenient always strive keep customer service top pr…",
         "description": "At Community Loans of America, Inc. we make our loan products convenient and always strive to keep …",
         "employers": "community loans of america,",
         "industry": "Computer and Electronics"
        },
        {
         "_deepnote_index_column": 19936,
         "clean_description": "pink elephant cafe view menu serve breakfast monday friday fresh juice smoothie daily sit grab n go…",
         "description": "The Pink Elephant Cafe. View menu. Now serving breakfast Monday - Friday from 7am Fresh Juices & sm…",
         "employers": "the pink elephant",
         "industry": "Non-Profit"
        },
        {
         "_deepnote_index_column": 19937,
         "clean_description": "contact we america health insurance plan pennsylvania avenue nw south building suite washington dc …",
         "description": "Contact Us 202.778.3200 | ahip@ahip.org. America’s Health Insurance Plans 601 Pennsylvania Avenue, …",
         "employers": "regional director, state government affairs at america's health insurance plans (ahip) (2007-2009)",
         "industry": "Education"
        },
        {
         "_deepnote_index_column": 19938,
         "clean_description": "delivery system reform incentive payment dsrip program achievement value av scorecard dy q april ju…",
         "description": "Delivery System Reform Incentive Payment (DSRIP) Program Achievement Value (AV) Scorecard DY2, Q1 A…",
         "employers": "suffolk county delivery system reform incentive program",
         "industry": "Education"
        },
        {
         "_deepnote_index_column": 19939,
         "clean_description": "james patients access revolutionary cancer treatment method innovative clinical research cancer exp…",
         "description": "At The James, patients have access to revolutionary cancer treatment methods and innovative clinica…",
         "employers": "the james cancer research hospital",
         "industry": "Non-Profit"
        },
        {
         "_deepnote_index_column": 19940,
         "clean_description": "medallion midstream midstream service crude oil natural gas producer deliver solution ensure safety…",
         "description": "Medallion Midstream | Midstream Services for Crude Oil and Natural Gas Producers. Deliver Solutions…",
         "employers": "medallion oil i, llc",
         "industry": "Agriculture and Mining"
        },
        {
         "_deepnote_index_column": 19941,
         "clean_description": "jonesall inc roofing construction great job replace gutter answer question process price get estima…",
         "description": "JonesAll Inc Roofing & Construction did a great job replacing our gutters. They answered all of our…",
         "employers": "jonesall inc.",
         "industry": "Non-Profit"
        },
        {
         "_deepnote_index_column": 19942,
         "clean_description": "internal auditor ia train professional employ company provide independent objective evaluation fina…",
         "description": "An internal auditor (IA) is a trained professional employed by companies to provide independent and…",
         "employers": "internal auditor",
         "industry": "Computer and Electronics"
        },
        {
         "_deepnote_index_column": 19943,
         "clean_description": "beaulieu america inc manufacture carpeting rug company produce walltowall carpeting rug beaulieu se…",
         "description": "Beaulieu of America, Inc. manufactures carpeting and rugs. The Company produces wall-to-wall carpet…",
         "employers": "beaulieu of america inc.",
         "industry": "Consumer Services"
        },
        {
         "_deepnote_index_column": 19944,
         "clean_description": "review rubino perform analytical procedure inquiry procedure obtain limited assurance financial sta…",
         "description": "During a review, Rubino will perform analytical procedures, inquiries, and other procedures to obta…",
         "employers": "other - rubino & company",
         "industry": "Business Services"
        },
        {
         "_deepnote_index_column": 19945,
         "clean_description": "kal tire tire wheel full mechanical service shop adventure everyday journey around corner find perf…",
         "description": "Kal Tire - Tires, Wheels, and Full Mechanical Service. SHOP NOW Adventures and everyday journeys ar…",
         "employers": "kal tites",
         "industry": "Real Estate and Construction"
        },
        {
         "_deepnote_index_column": 19946,
         "clean_description": "bristolmyer squibb community health center bristolmyer squibb community health center group practic…",
         "description": "About Bristol-Myers Squibb Community Health Center. Bristol-Myers Squibb Community Health Center is…",
         "employers": "bristol-myers squibb,  plainsboro, nj",
         "industry": "Education"
        },
        {
         "_deepnote_index_column": 19947,
         "clean_description": "millennium funding launch new improve website excite highlyanticipate project millennium funding ne…",
         "description": "Millennium Funding Launches New and Improved Website 11/04/2019. An exciting and highly-anticipated…",
         "employers": "millennium funding group",
         "industry": "Computer and Electronics"
        },
        {
         "_deepnote_index_column": 19948,
         "clean_description": "compliance implementation service llc compliance implementation service llc found company line busi…",
         "description": "Compliance Implementation Services LLC Compliance Implementation Services, LLC was founded in 2004.…",
         "employers": "compliance implementation services, llc",
         "industry": "Energy and Utilities"
        },
        {
         "_deepnote_index_column": 19949,
         "clean_description": "former charger equipment manager bob wick join scott br discuss new aaf job birmingham iron san die…",
         "description": "Former Chargers Equipment Manager Bob Wick Joined Scott & BR To Discuss His New AAF Job With Birmin…",
         "employers": "aaf birmingham iron bob wick immediate supervisor,",
         "industry": "Non-Profit"
        },
        {
         "_deepnote_index_column": 19950,
         "clean_description": "pittsburgh pa toll free get direction year upmc western psychiatric hospital nationally recognize l…",
         "description": "Pittsburgh, PA, 15213. 412-624-1000 or toll free 1-877-624-4100. Get directions. For more than 70 y…",
         "employers": "upmc western psychiatric hospital",
         "industry": "Non-Profit"
        },
        {
         "_deepnote_index_column": 19951,
         "clean_description": "matter big small standard custom solution need application specialize heating cool control thermal …",
         "description": "No matter how big or small, standard or custom, we have the solutions you need for your application…",
         "employers": "caluent llc",
         "industry": "Financial Services"
        },
        {
         "_deepnote_index_column": 19952,
         "clean_description": "drive entrepreneurial spirit omnam pioneer diverse global real estate group incisive vision source …",
         "description": "Driven by an entrepreneurial spirit, Omnam is a pioneering and diverse global real estate group wit…",
         "employers": "omnam investment group",
         "industry": "Media and Entertainment"
        },
        {
         "_deepnote_index_column": 19953,
         "clean_description": "empyrean definition empyreal use empyrean sentence adjective movie scene set heaven often suggest h…",
         "description": "Empyrean definition is - empyreal. How to use empyrean in a sentence. Adjective movie scenes set in…",
         "employers": "empyrean",
         "industry": "Real Estate and Construction"
        },
        {
         "_deepnote_index_column": 19954,
         "clean_description": "found jenner block law firm international reach lawyer firm widely recognize produce outstanding re…",
         "description": "Founded in 1914, Jenner & Block is a law firm of international reach with more than 500 lawyers. Ou…",
         "employers": "jenner & block llp",
         "industry": "Agriculture and Mining"
        },
        {
         "_deepnote_index_column": 19955,
         "clean_description": "nova distribution group llc nova distribution group llc do i d incorporate new york business record…",
         "description": "NOVA DISTRIBUTION GROUP LLC. NOVA DISTRIBUTION GROUP LLC (DOS ID: 5770839) was incorporated on 2020…",
         "employers": "other - nova business group llc",
         "industry": "Consumer Services"
        },
        {
         "_deepnote_index_column": 19956,
         "clean_description": "ultratrace detection llc utd manufacture device improve performance explosive detector utilize inno…",
         "description": "UltraTrace Detection, LLC. UTD manufactures devices that improve the performance of explosives dete…",
         "employers": "ultra trace detection, llc",
         "industry": "Computer and Electronics"
        },
        {
         "_deepnote_index_column": 19957,
         "clean_description": "eltham east primary school official september yesterday eltham east primary school please medium li…",
         "description": "Eltham East Primary School Official. 9 September at 16:13 ·. Yesterday, once again Eltham East Prim…",
         "employers": "etham east primary school, uk",
         "industry": "Non-Profit"
        },
        {
         "_deepnote_index_column": 19958,
         "clean_description": "shock trauma call patient information nation first integrate trauma hospital dr r adams cowley cons…",
         "description": "Shock Trauma. Call for patient information: 410-328-6110. 410-328-6110. The Nation's First and Only…",
         "employers": "r adams cowley shock trauma center",
         "industry": "Non-Profit"
        },
        {
         "_deepnote_index_column": 19959,
         "clean_description": "endesa necesita mas teorias sobre la subida de la luz necesitas unasolucionunica un precio base de …",
         "description": "Endesa. No necesitas más teorías sobre la subida de la luz. Necesitas #UnaSoluciónÚnica. Un precio …",
         "employers": "endesa geração",
         "industry": "Non-Profit"
        },
        {
         "_deepnote_index_column": 19960,
         "clean_description": "resx ever time need bring community campus resx new comprehensive vision undergraduate residential …",
         "description": "ResX. Now, more than ever, is a time we need to bring community to our campus. ResX is a new, compr…",
         "employers": "stanford university office of residence education",
         "industry": "Government"
        },
        {
         "_deepnote_index_column": 19961,
         "clean_description": "jun apr year month curry college bachelor degree sociology group senior project manager pepper cons…",
         "description": "Jun 2004 - Apr 2007 2 years 11 months. ... Curry College Bachelor's degree Sociology. 1999 - 2003. …",
         "employers": "project manager at pepper construction group (1999-2004)",
         "industry": "Media and Entertainment"
        },
        {
         "_deepnote_index_column": 19962,
         "clean_description": "custom air transport custom air transport create back cargo base airline situate fort lauderdale fl…",
         "description": "Custom Air Transport. Custom Air Transport was created back in 1995, and is a cargo based airline t…",
         "employers": "custom air transport",
         "industry": "Agriculture and Mining"
        },
        {
         "_deepnote_index_column": 19963,
         "clean_description": "decrescente distribute company commit ensure website accessible everyone compliance applicable law …",
         "description": "DeCrescente Distributing Company is committed to ensuring that our website is accessible to everyon…",
         "employers": "decrescente distributing company inc.",
         "industry": "Media and Entertainment"
        },
        {
         "_deepnote_index_column": 19964,
         "clean_description": "massachusetts institute technology career advise professional development twitter facebook building…",
         "description": "Massachusetts Institute of Technology Career Advising & Professional Development Twitter Facebook B…",
         "employers": "intern, massachusetts institute of technology (mit)",
         "industry": "Education"
        },
        {
         "_deepnote_index_column": 19965,
         "clean_description": "wachtell lipton dedicate provide advice expertise high level achieve extraordinary result client se…",
         "description": "Wachtell Lipton is dedicated to providing advice and expertise at the highest levels and achieving …",
         "employers": "wachtell, lipton , rosen & katz",
         "industry": "Computer and Electronics"
        },
        {
         "_deepnote_index_column": 19966,
         "clean_description": "welcome chief class proud part obgyn department ohsu excite introduce residency program many streng…",
         "description": "Welcome from the 2021 Chief Class. We are very proud to be a part of the Ob/Gyn department here at …",
         "employers": "university ob/gyn specialties",
         "industry": "Non-Profit"
        },
        {
         "_deepnote_index_column": 19967,
         "clean_description": "scientific principle aba therapy accelerate centerbase learning bierman aba dedicate focus provide …",
         "description": "Through the scientific principles of ABA therapy and accelerated center-based learning, Bierman ABA…",
         "employers": "bierman aba",
         "industry": "Education"
        },
        {
         "_deepnote_index_column": 19968,
         "clean_description": "community mercy health partner medical center drive springfield ohio get direction community mercy …",
         "description": "Community Mercy Health Partners. 100 Medical Center Drive. Springfield, Ohio 45504. Get Directions.…",
         "employers": "community mercy health partners",
         "industry": "Non-Profit"
        },
        {
         "_deepnote_index_column": 19969,
         "clean_description": "en masse entertainment inc formerly bluehole interactive inc american video game publisherfounde ju…",
         "description": "En Masse Entertainment, Inc. (formerly Bluehole Interactive, Inc.) was an American video game publi…",
         "employers": "en masse entertainment",
         "industry": "Non-Profit"
        },
        {
         "_deepnote_index_column": 19970,
         "clean_description": "company profile page mediserve information systems inc include stock price company news press relea…",
         "description": "Company profile page for MediServe Information Systems Inc including stock price, company news, pre…",
         "employers": "mediserve information systems",
         "industry": "Computer and Electronics"
        },
        {
         "_deepnote_index_column": 19971,
         "clean_description": "absa financial services ltd locate gauteng gauteng south africa part bank credit union industry abs…",
         "description": "ABSA FINANCIAL SERVICES LTD is located in GAUTENG, Gauteng, South Africa and is part of the Banks &…",
         "employers": "absa financial services ltd.",
         "industry": "Computer and Electronics"
        },
        {
         "_deepnote_index_column": 19972,
         "clean_description": "vanwyn passionately drive develop implement meaningful sustainable unique solution client address s…",
         "description": "At VanWyn, we are passionately driven to develop and implement meaningful, sustainable, unique solu…",
         "employers": "vanwyn",
         "industry": "Real Estate and Construction"
        },
        {
         "_deepnote_index_column": 19973,
         "clean_description": "hit detection connect entertainment consultancy consultant work variety worldrenowne company instit…",
         "description": "Hit Detection is a connected entertainment consultancy. Our consultants have worked at and with a v…",
         "employers": "hit detection",
         "industry": "Non-Profit"
        },
        {
         "_deepnote_index_column": 19974,
         "clean_description": "rmoc company ottawa ontario saint laurent boulevard ottawa kg v hour operation customer review rmoc…",
         "description": "Rmoc, Company in Ottawa, Ontario, 1725 Saint Laurent Boulevard, Ottawa, ON K1G 3V4 – Hours of Opera…",
         "employers": "rmoc city of ottawa",
         "industry": "Non-Profit"
        },
        {
         "_deepnote_index_column": 19975,
         "clean_description": "review massage therapy show beneficial effect vary condition include prenatal depression preterm in…",
         "description": "In this review, massage therapy has been shown to have beneficial effects on varying conditions inc…",
         "employers": "therpoint massage, 2016-04-13",
         "industry": "Non-Profit"
        },
        {
         "_deepnote_index_column": 19976,
         "clean_description": "financial consumer affair authority fcaa vision cultivate environment everyone saskatchewan confide…",
         "description": "Financial and Consumer Affairs Authority (FCAA) vision is to cultivate an environment in which ever…",
         "employers": "financial & consumer affairs authority of saskatchewan (fcaa)",
         "industry": "Agriculture and Mining"
        },
        {
         "_deepnote_index_column": 19977,
         "clean_description": "columbia association ca nonprofit community service corporation manage columbia md home approximate…",
         "description": "Columbia Association (CA) is a nonprofit community services corporation that manages Columbia, MD, …",
         "employers": "columbia association",
         "industry": "Non-Profit"
        },
        {
         "_deepnote_index_column": 19978,
         "clean_description": "john muir health find doctor match john muir health physician network toggle navigation patient myc…",
         "description": "John Muir Health Find A Doctor match for: John Muir Health Physician Network. Toggle navigation. Pa…",
         "employers": "john muir physician network",
         "industry": "Non-Profit"
        },
        {
         "_deepnote_index_column": 19979,
         "clean_description": "lenovo technology united kingdom limited redwood crockford lane chineham business park basingstoke …",
         "description": "Lenovo Technology United Kingdom Limited Redwood 3, Crockford Lane Chineham Business Park Basingsto…",
         "employers": " lenovo technology (uk) ltd.",
         "industry": "Consumer Services"
        },
        {
         "_deepnote_index_column": 19980,
         "clean_description": "offer service area set datacenter infrastructure end user support assist complete onboarding proces…",
         "description": "Offering services in the areas of setting up Data-Center, IT Infrastructure, End User support and a…",
         "employers": "wissen it inc",
         "industry": "Consumer Services"
        },
        {
         "_deepnote_index_column": 19981,
         "clean_description": "ahaclas realty llc north west clearfield ut categorize real estate buyer representative lenorok rea…",
         "description": "Ahaclas Realty LLC. 2472 North 770 West. Clearfield, UT (801) 725-8518. Categorized under Real Esta…",
         "employers": "ahaclas realty llc",
         "industry": "Health, Pharma, and Biotech"
        },
        {
         "_deepnote_index_column": 19982,
         "clean_description": "crown wealth strategy provide quality financial strategy focus wealth planning strategy professiona…",
         "description": "Crown Wealth Strategies provides quality financial strategies, focusing on wealth planning strategi…",
         "employers": "crown wealth strategies ~",
         "industry": "Computer and Electronics"
        },
        {
         "_deepnote_index_column": 19983,
         "clean_description": "cumme international project management cost consulting company deliver creative customized solution…",
         "description": "Cumming is an international project management and cost consulting company that delivers creative, …",
         "employers": "other - cumming corporation",
         "industry": "Financial Services"
        },
        {
         "_deepnote_index_column": 19984,
         "clean_description": "cruisecom offer cruise cruise line include carnival cruise celebrity cruise princess cruise host ot…",
         "description": "Cruise.com offers cruises on all cruise lines, including Carnival Cruises, Celebrity Cruises, Princ…",
         "employers": "cruise",
         "industry": "Non-Profit"
        },
        {
         "_deepnote_index_column": 19985,
         "clean_description": "verite films inc beaufort road toronto f type least character search home contact journal work home…",
         "description": "VÉRITÉ FILMS INC • 15 Beaufort Road • Toronto, ON • M4E 1M6 T. 416.693.8245 • F.416.693.8252 ... Ty…",
         "employers": "verite films",
         "industry": "Non-Profit"
        },
        {
         "_deepnote_index_column": 19986,
         "clean_description": "roche group include genentech chugai bring many highly effective drug onto market world leader inno…",
         "description": "The Roche Group, including Genentech and Chugai, has brought many highly effective drugs onto the m…",
         "employers": "roche singapore pte ltd",
         "industry": "Health, Pharma, and Biotech"
        },
        {
         "_deepnote_index_column": 19987,
         "clean_description": "behrhella thermocontrol gmbh bhtc one world lead company field climate control thermal management a…",
         "description": "Behr-Hella Thermocontrol GmbH (BHTC) is one of the world's leading companies in the field of climat…",
         "employers": "behr-hella thermocontrol gmbh",
         "industry": "Agriculture and Mining"
        },
        {
         "_deepnote_index_column": 19988,
         "clean_description": "intercos europe spa via marconi agrate brianza mb italy tel fax view map intercos europe spa dovera…",
         "description": "INTERCOS EUROPE S.p.A. Via Marconi, 84 20864 Agrate Brianza – MB ITALY TEL. +39 039 65521 FAX. +39 …",
         "employers": "intercos spa",
         "industry": "Agriculture and Mining"
        },
        {
         "_deepnote_index_column": 19989,
         "clean_description": "le calzature ermanno scervino limpeccabile attenzione ai dettagli materiali ricercati e lussuosi e …",
         "description": "Le calzature Ermanno Scervino. L’impeccabile attenzione ai dettagli, i materiali ricercati e lussuo…",
         "employers": "ermanno scervino",
         "industry": "Non-Profit"
        },
        {
         "_deepnote_index_column": 19990,
         "clean_description": "logitech first consumer electronic company label product amount climatewarme carbon use create make…",
         "description": "Logitech is the first consumer electronics company to label its products with the amount of climate…",
         "employers": "logitech",
         "industry": "Health, Pharma, and Biotech"
        },
        {
         "_deepnote_index_column": 19991,
         "clean_description": "care management industry directory database dedicate case manager help find product service need ac…",
         "description": "The Care Management Industry Directory is the database dedicated to case managers, helping them fin…",
         "employers": "accretive pas",
         "industry": "Agriculture and Mining"
        },
        {
         "_deepnote_index_column": 19992,
         "clean_description": "fc asset management plc international asset management company acquire bmo global asset management …",
         "description": "F&C Asset Management Plc was an international asset management company. It was acquired by BMO Glob…",
         "employers": "f&c asset management plc",
         "industry": "Computer and Electronics"
        },
        {
         "_deepnote_index_column": 19993,
         "clean_description": "hp printer case printer production hp invest eclipse new system automate assembly print engine nort…",
         "description": "HP Printer Case Printer Production HP invested $25,000,000 in “Eclipse,” a new system for automated…",
         "employers": "the gap, inc.",
         "industry": "Agriculture and Mining"
        },
        {
         "_deepnote_index_column": 19994,
         "clean_description": "oocl logistic oocl announce launch brandnew multimodal container service china us east coast press …",
         "description": "OOCL Logistics and OOCL announced the launch of a brand-new multi-modal container service from Chin…",
         "employers": "orient overseas container line limited",
         "industry": "Computer and Electronics"
        },
        {
         "_deepnote_index_column": 19995,
         "clean_description": "current location address comprehensive surgical center green llc corporate wood pkwy uniontown ohio…",
         "description": "The current location address for Comprehensive Surgical Center Of Green, Llc is 1560 Corporate Wood…",
         "employers": "comprehensive surgical center of green",
         "industry": "Non-Profit"
        },
        {
         "_deepnote_index_column": 19996,
         "clean_description": "chlopak leonard schechter associates st nw washington dc industry public relation agency business c…",
         "description": "Chlopak Leonard & Schechter Associates. 1850 M St Nw, Washington, DC 20036. Industry: Public Relati…",
         "employers": "chlopak, leonard, schechter",
         "industry": "Manufacturing"
        },
        {
         "_deepnote_index_column": 19997,
         "clean_description": "optimedia comprehensive storage system design accommodate conventional file advanced multimedia sto…",
         "description": "Optimedia is a comprehensive storage system designed to accommodate conventional filing and advance…",
         "employers": "optimedia",
         "industry": "Financial Services"
        },
        {
         "_deepnote_index_column": 19998,
         "clean_description": "genta incorporate biopharmaceutical company start la jolla california discover develop innovative d…",
         "description": "Genta Incorporated was a biopharmaceutical company started in La Jolla, California, which discovere…",
         "employers": "genta, inc.",
         "industry": "Computer and Electronics"
        },
        {
         "_deepnote_index_column": 19999,
         "clean_description": "signia hilton signia hilton new portfolio premier hotel highly soughtafter urban resort destination…",
         "description": "Signia by Hilton. Signia by Hilton is a new portfolio of premier hotels in highly sought-after urba…",
         "employers": "hilton worldwide",
         "industry": "Agriculture and Mining"
        },
        {
         "_deepnote_index_column": 20000,
         "clean_description": "financial service economic service provide finance industry encompass broad range business manage m…",
         "description": "Financial services are the economic services provided by the finance industry, which encompasses a …",
         "employers": "Financial Services",
         "industry": "Financial Services"
        },
        {
         "_deepnote_index_column": 20001,
         "clean_description": "agriculture mining intelliscience provide flexible highfidelity realtime touchfree measurement solu…",
         "description": "Agriculture and Mining. IntelliScience provides flexible, high-fidelity, real-time, touch-free meas…",
         "employers": "Agriculture and Mining",
         "industry": "Agriculture and Mining"
        },
        {
         "_deepnote_index_column": 20002,
         "clean_description": "service use business enterprise conduct activity business example banking insurance warehousing com…",
         "description": "Services used by the business enterprises in conducting the activities of the business. Example: Ba…",
         "employers": "Business Services",
         "industry": "Business Services"
        },
        {
         "_deepnote_index_column": 20003,
         "clean_description": "consumer electronic computer computer equipmentservice repair computer equipment dealer year busine…",
         "description": "Consumer Electronics Computers & Computer Equipment-Service & Repair Computer & Equipment Dealers (…",
         "employers": "Computer and Electronics",
         "industry": "Computer and Electronics"
        },
        {
         "_deepnote_index_column": 20004,
         "clean_description": "future energy environment utility today change energy landscape business leader recognize sustainab…",
         "description": "The future of energy, environment and utilities. In today’s changing energy landscape, business lea…",
         "employers": "Energy and Utilities",
         "industry": "Energy and Utilities"
        },
        {
         "_deepnote_index_column": 20005,
         "clean_description": "find government information energy green technology pollution wildlife find government information …",
         "description": "Find government information on energy, green technology, pollution, wildlife, and more. Find govern…",
         "employers": "Government",
         "industry": "Government"
        },
        {
         "_deepnote_index_column": 20006,
         "clean_description": "real estate development construction management mgmt x course identify step require conceive execut…",
         "description": "Real Estate Development, Construction, and Management. MGMT X 477.12. This course identifies the st…",
         "employers": "Real Estate and Construction",
         "industry": "Real Estate and Construction"
        },
        {
         "_deepnote_index_column": 20007,
         "clean_description": "nonprofit printerfriendly version charitable nonprofit embody good america provide way people work …",
         "description": "What is a \"Nonprofit\"? Printer-friendly version. Charitable nonprofits embody the best of America. …",
         "employers": "Non-Profit",
         "industry": "Non-Profit"
        },
        {
         "_deepnote_index_column": 20008,
         "clean_description": "manufacture production good use labor machine tool chemical biological processing formulationit ess…",
         "description": "Manufacturing is the production of goods through the use of labor, machines, tools, and chemical or…",
         "employers": "Manufacturing",
         "industry": "Manufacturing"
        },
        {
         "_deepnote_index_column": 20009,
         "clean_description": "educationcom multiple resource organize learn tool might need teacher parent student love ability a…",
         "description": "Education.com has multiple resources organized for any learning tool you might need as a teacher, p…",
         "employers": "Education",
         "industry": "Education"
        },
        {
         "_deepnote_index_column": 20010,
         "clean_description": "microsoft empower medium entertainment telecommunication organization achieve trust secure platform…",
         "description": "Microsoft empowers media, entertainment, and telecommunications organizations to achieve more with …",
         "employers": "Media and Entertainment",
         "industry": "Media and Entertainment"
        },
        {
         "_deepnote_index_column": 20011,
         "clean_description": "consumer service service sell individual service good derive much value intangible element ca nt to…",
         "description": "Consumer services are services that are sold to individuals. Services are goods that derive much of…",
         "employers": "Consumer Services",
         "industry": "Consumer Services"
        },
        {
         "_deepnote_index_column": 20012,
         "clean_description": "health pharma biotechnology change region north america south america emea asia pacific imerys draw…",
         "description": "Health, Pharma & Biotechnology. Change Region. North America South America EMEA Asia Pacific. At Im…",
         "employers": "Health, Pharma, and Biotech",
         "industry": "Health, Pharma, and Biotech"
        }
       ],
       "rows_top": [
        {
         "_deepnote_index_column": 0,
         "clean_description": "magic touch usa partner clicklease provide business industryleade screen print equipment low monthl…",
         "description": "Magic Touch USA has partnered with clicklease to provide your business with industry-leading screen…",
         "employers": "magic touch",
         "industry": "Non-Profit"
        },
        {
         "_deepnote_index_column": 1,
         "clean_description": "indus valley partners india pvt ltd unit sdfv nd floor seepz sez andheri east mumbai india indus va…",
         "description": "Indus Valley Partners (India) Pvt. Ltd. Unit No. 154, SDF-V, 2nd Floor, SEEPZ SEZ, Andheri (East), …",
         "employers": "indus valley partners pvt. ltd.",
         "industry": "Computer and Electronics"
        },
        {
         "_deepnote_index_column": 2,
         "clean_description": "home mather hospital find doctor patient portal pay bill upcoming event due covid pandemic mather h…",
         "description": "Home - Mather Hospital Find a doctor Patient portal Pay a bill Upcoming Events Due to the COVID-19 …",
         "employers": "mather hospital",
         "industry": "Non-Profit"
        },
        {
         "_deepnote_index_column": 3,
         "clean_description": "first tapas bar colombia tapas macarena opportunity bring dish gastronomic history year icon rememb…",
         "description": "The First Tapas Bar in Colombia - Tapas Macarena. At this opportunity we have brought dishes from o…",
         "employers": "macarena tapas restaurant",
         "industry": "Non-Profit"
        },
        {
         "_deepnote_index_column": 4,
         "clean_description": "ashland specialty chemical drive vision make well world provide creative solution application speci…",
         "description": "Ashland specialty chemicals is driven by its vision to make a better world by providing creative so…",
         "employers": "ashland specialty ingredients",
         "industry": "Health, Pharma, and Biotech"
        },
        {
         "_deepnote_index_column": 5,
         "clean_description": "lawrence berkeley national laboratory berkeley lab department energy doe office science lab manage …",
         "description": "Lawrence Berkeley National Laboratory (Berkeley Lab) is a Department of Energy (DOE) Office of Scie…",
         "employers": "lawrence berkeley labratory",
         "industry": "Government"
        },
        {
         "_deepnote_index_column": 6,
         "clean_description": "neelkanth tech services inc brooklands house cleaning get free quote professional get free quote pr…",
         "description": "Neelkanth Tech Services Inc. Brooklands. House Cleaning. Get a free quote from this professional. G…",
         "employers": "neelkanth tech services",
         "industry": "Agriculture and Mining"
        },
        {
         "_deepnote_index_column": 7,
         "clean_description": "manage partner pay two way partner receive distributive share partnership income every year share p…",
         "description": "A managing partner is paid in two ways: As a partner, they receive a distributive share of the part…",
         "employers": "shareholder and managing partner",
         "industry": "Energy and Utilities"
        },
        {
         "_deepnote_index_column": 8,
         "clean_description": "appointment center show support sale main menu main menu home truss product angle block base plate …",
         "description": "Appointment Center 800‑SHOWING (800-746‑9464) Support 800‑379‑0057 Sales 800‑347-8001 626-588-2528 …",
         "employers": "showing solutions,",
         "industry": "Health, Pharma, and Biotech"
        },
        {
         "_deepnote_index_column": 9,
         "clean_description": "  site map connect us fayette county public school discriminate basis race color religion sex natio…",
         "description": "webmaster@fcboe.org | Site Map. Connect with Us... Fayette County Public Schools does not discrimin…",
         "employers": "fcboe",
         "industry": "Education"
        },
        {
         "_deepnote_index_column": 10,
         "clean_description": "ocbc bank launch first sustainabilitylinke structured deposit singapore sep add diversity sustainab…",
         "description": "OCBC Bank launches first Sustainability-Linked Structured Deposit in Singapore 24 Sep 2021. By addi…",
         "employers": "ocbc corporation ltd",
         "industry": "Computer and Electronics"
        },
        {
         "_deepnote_index_column": 11,
         "clean_description": "lab specialist consultancy design develop bespoke innovative technology solution partnership key fi…",
         "description": "Lab49 is a specialist consultancy that designs and develops bespoke and innovative technology solut…",
         "employers": "lab 49",
         "industry": "Computer and Electronics"
        },
        {
         "_deepnote_index_column": 12,
         "clean_description": "jabil help shavelogic defy convention transform market dominate household brand feature insight we …",
         "description": "With Jabil's help, Shavelogic is here to defy convention and transform a market dominated by a few …",
         "employers": "jabil inc.",
         "industry": "Manufacturing"
        },
        {
         "_deepnote_index_column": 13,
         "clean_description": "pacific pipeline supply establish foundation exceptional service local level water agency contracto…",
         "description": "Pacific Pipeline Supply was established in 1987 on the foundation of exceptional service at the loc…",
         "employers": "pacific pipeline",
         "industry": "Non-Profit"
        },
        {
         "_deepnote_index_column": 14,
         "clean_description": "priority medical rehab center stateoftheart multidisciplinary practice offering follow service medi…",
         "description": "Priority Medical & Rehab Centers is a state-of-the-art multi-disciplinary practice offering the fol…",
         "employers": "priority medical centers",
         "industry": "Non-Profit"
        },
        {
         "_deepnote_index_column": 15,
         "clean_description": "online ordering menu lc chen lc chen serve panasian dining new take asian classic proud one neighbo…",
         "description": "Online ordering menu for LC Chen's. LC Chen's serves Pan-Asian dining with new takes on Asian class…",
         "employers": "lc chen's restaurant",
         "industry": "Non-Profit"
        },
        {
         "_deepnote_index_column": 16,
         "clean_description": "click company name browse detail information modern building contract e al safia trading intl est s…",
         "description": "Click company name to browse the detail information. 这是本站沙特阿拉伯买家列表，点击公司名称浏览详细信息。. MODERN BUILDING C…",
         "employers": "nawather trading co.",
         "industry": "Computer and Electronics"
        },
        {
         "_deepnote_index_column": 17,
         "clean_description": "figure technologies inc operate financial technology company home equity blockchain space company o…",
         "description": "Figure Technologies, Inc. operates as a financial technology company in both the home equity and bl…",
         "employers": "other financial firm - figure technologies",
         "industry": "Financial Services"
        },
        {
         "_deepnote_index_column": 18,
         "clean_description": "late mls news score stat standing highlight plus special coverage we soccer canada soccer multiple …",
         "description": "All the latest MLS news, scores, stats, standings and highlights. Plus special coverage of US Socce…",
         "employers": "msl",
         "industry": "Non-Profit"
        },
        {
         "_deepnote_index_column": 19,
         "clean_description": "important information regard cleveland clinic unitedhealthcare time discuss new contract unitedheal…",
         "description": "Important Information Regarding Cleveland Clinic and UnitedHealthcare At this time, we are discussi…",
         "employers": "cleveland clinic (contract)",
         "industry": "Health, Pharma, and Biotech"
        },
        {
         "_deepnote_index_column": 20,
         "clean_description": "collection front end head snr manager bank internasional indonesia jan mei jun sep tahun bulan band…",
         "description": "Collection Front end Head (Snr. Manager) Bank Internasional Indonesia Jan 2007 - Mei ... Jun 2000 -…",
         "employers": "collection front end manager at citi (2000-2009)",
         "industry": "Consumer Services"
        },
        {
         "_deepnote_index_column": 21,
         "clean_description": "vision come soon we heritage medical associate make physician different area medicine include aller…",
         "description": "Our Vision. Coming Soon. About Us Heritage Medical Associates is made up of physicians from differe…",
         "employers": "heritage medical systems",
         "industry": "Non-Profit"
        },
        {
         "_deepnote_index_column": 22,
         "clean_description": "lupin pharma canada announce partnership endoceutics commercialization intrarosa march lupin pharma…",
         "description": "Lupin Pharma Canada Announces Partnership with Endoceutics for the Commercialization of INTRAROSA® …",
         "employers": "endoceutics pharma",
         "industry": "Health, Pharma, and Biotech"
        },
        {
         "_deepnote_index_column": 23,
         "clean_description": "view previous revision rule click revision date bottom rule page revision available back need old r…",
         "description": "To view previous revisions of the rule, click the revision date (s) at the bottom of the rule page.…",
         "employers": "home health lvnmission healthcare services, inc",
         "industry": "Non-Profit"
        },
        {
         "_deepnote_index_column": 24,
         "clean_description": "guidewire platform pc insurer trust engage innovate grow efficiently combine digital core analytic …",
         "description": "Guidewire is the platform P&C insurers trust to engage, innovate, and grow efficiently. We combine …",
         "employers": "guidewire software, inc.",
         "industry": "Computer and Electronics"
        },
        {
         "_deepnote_index_column": 25,
         "clean_description": "experience elsevi june present robert halfoffice team december december carrier johnson culture aug…",
         "description": "Experience Elsevier June 2015 - Present Robert Half/Office Team December 2013 - December 2014 Carri…",
         "employers": "admin assit at robert half - office team (2013-2013)",
         "industry": "Computer and Electronics"
        },
        {
         "_deepnote_index_column": 26,
         "clean_description": "solectrix solar project sitespecific custom installation aim get customer start path energy indepen…",
         "description": "Each Solectrix solar project is a site-specific, custom installation. Our aim is to get the custome…",
         "employers": "solectrix inc.",
         "industry": "Financial Services"
        },
        {
         "_deepnote_index_column": 27,
         "clean_description": "georgia regents university institution mission statement mission provide leadership excellence teac…",
         "description": "Georgia Regents University Institution Mission Statement Our mission is to provide leadership and e…",
         "employers": "georgia regents university/georgia regents health system",
         "industry": "Government"
        },
        {
         "_deepnote_index_column": 28,
         "clean_description": "jilin lot tunnel part jilin yinsong water supply project convey water central city jilin province l…",
         "description": "The Jilin Lot 3 tunnel is part of the Jilin Yinsong Water Supply Project, which will convey water t…",
         "employers": "jilin province changhong water conservancy project company",
         "industry": "Media and Entertainment"
        },
        {
         "_deepnote_index_column": 29,
         "clean_description": "everything except brand name still office berlin whole team formerly work newslettergo everything m…",
         "description": "Everything! Except for the brand name. We still have our office in Berlin and the whole team that f…",
         "employers": "sendinblue (formerly newsletter2go)",
         "industry": "Agriculture and Mining"
        },
        {
         "_deepnote_index_column": 30,
         "clean_description": "st michael medical center proudly build rich legacy care begin harrison family year ago premier med…",
         "description": "St. Michael Medical Center proudly builds on the rich legacy of care that began with the Harrison f…",
         "employers": "harrison medical center",
         "industry": "Non-Profit"
        },
        {
         "_deepnote_index_column": 31,
         "clean_description": "asymmetry capital management lp san franciscobase alternative asset management firm found scott kay…",
         "description": "Asymmetry Capital Management, L.P. is a San Francisco-based alternative asset management firm found…",
         "employers": "asymmetry capital management l.p",
         "industry": "Computer and Electronics"
        },
        {
         "_deepnote_index_column": 32,
         "clean_description": "institute new york daily class schedule class determine level level design take learn process encom…",
         "description": "Institute of New York – Daily Class Schedule. Classes are determined by levels. These levels are de…",
         "employers": "iyengar institute of new york ~",
         "industry": "Government"
        },
        {
         "_deepnote_index_column": 33,
         "clean_description": "we found pricap seek produce superior risk adjust return invest high yield security utilize value d…",
         "description": "About Us. Founded in 2009, PriCap seeks to produce superior risk adjusted returns investing in high…",
         "employers": " ​​​​​​​​​pricap advisors llc",
         "industry": "Financial Services"
        },
        {
         "_deepnote_index_column": 34,
         "clean_description": "receptionist volkswagen america inc tampa florida united states connection join connect volkswagen …",
         "description": "Receptionist at Volkswagen of America, Inc Tampa, Florida, United States 27 connections. Join to Co…",
         "employers": "receptionist at volkswagen of america, inc (2013-2013)",
         "industry": "Consumer Services"
        },
        {
         "_deepnote_index_column": 35,
         "clean_description": "mda nonprofit health agency dedicate cure muscular dystrophy al related disease fund worldwide rese…",
         "description": "MDA is the nonprofit health agency dedicated to curing muscular dystrophy, ALS and related diseases…",
         "employers": "mda",
         "industry": "Non-Profit"
        },
        {
         "_deepnote_index_column": 36,
         "clean_description": "supreme court nassau county supreme court drive mineola new york administration act district admini…",
         "description": "Supreme Court, Nassau County. 100 Supreme Court Drive. Mineola, New York 11501. 516-493-3400. Admin…",
         "employers": "supreme court, nassau county",
         "industry": "Government"
        },
        {
         "_deepnote_index_column": 37,
         "clean_description": "home warner bro movie tv show video game include harry potter dc comics warner bros entertainment i…",
         "description": "Home of Warner Bros Movies, TV Shows and Video Games including Harry Potter, DC Comics and more! Wa…",
         "employers": "warner brothers entertainment inc",
         "industry": "Non-Profit"
        },
        {
         "_deepnote_index_column": 38,
         "clean_description": "eighth time bhuman team university bremen german research center artificial intelligence dfki succe…",
         "description": "For the eighth time, B-Human, the team from the University of Bremen and the German Research Center…",
         "employers": "german research center for artificial intelligence",
         "industry": "Agriculture and Mining"
        },
        {
         "_deepnote_index_column": 39,
         "clean_description": "hydroquebec home page wwwhydroquebeccom also home page section residential customer link service we…",
         "description": "The Hydro-Québec home page (www.hydroquebec.com) is also the home page of the section for residenti…",
         "employers": "hydro-quebec",
         "industry": "Agriculture and Mining"
        },
        {
         "_deepnote_index_column": 40,
         "clean_description": "headline alabamas young shine td pass rout miami oklahoma hang narrow win tulane roger stun rank ba…",
         "description": "HEADLINES. No. 1 Alabama's Young shines with 4 TD passes in rout of Miami. No. 2 Oklahoma hangs on …",
         "employers": "thescore",
         "industry": "Non-Profit"
        },
        {
         "_deepnote_index_column": 41,
         "clean_description": "welcome palmetto pediatric adolescent clinic emphasize comprehensive care patient location hour exp…",
         "description": "Welcome To Palmetto Pediatric & Adolescents Clinic. We emphasize comprehensive care for all our pat…",
         "employers": "palmetto pediatrics",
         "industry": "Non-Profit"
        },
        {
         "_deepnote_index_column": 42,
         "clean_description": "copperweld wire combine strength steel conductivity corrosion resistance copper property achieve pe…",
         "description": "Copperweld wire combines the strength of steel with the conductivity and corrosion resistance of co…",
         "employers": "copperweld",
         "industry": "Energy and Utilities"
        },
        {
         "_deepnote_index_column": 43,
         "clean_description": "  grant ave cleveland oh phone service hotline x support toll free blue canyon technologies inc bct…",
         "description": "5885 Grant Ave. Cleveland, OH 44105 Phone: 216.271.4800 Service Hotline: 216.271.5800 24x7 IT Suppo…",
         "employers": "iii / blue technologies",
         "industry": "Financial Services"
        },
        {
         "_deepnote_index_column": 44,
         "clean_description": "la encaphale horssarie la encaphale paris tous droit raservas actualitas sur le thermalisme intaraa…",
         "description": "Lâ€™EncÃ©phale (2011) Hors-sÃ©rie 3, 6-8 Â© Lâ€™EncÃ©phale, Paris, 2011. Tous droits rÃ©servÃ©s. Ac…",
         "employers": "clinique physio accès",
         "industry": "Agriculture and Mining"
        },
        {
         "_deepnote_index_column": 45,
         "clean_description": "exp global online brokerage that s powered top agent cuttingedge technology whether you re real est…",
         "description": "eXp is a global online brokerage that’s powered by top agents and cutting-edge technology. Whether …",
         "employers": "exp realty",
         "industry": "Real Estate and Construction"
        },
        {
         "_deepnote_index_column": 46,
         "clean_description": "kaiser permanente hawaii maintain quality improvement program wait chart send kaiser permanente spe…",
         "description": "Kaiser Permanente Hawaii maintains a Quality Improvement Program ... No waiting for charts to be se…",
         "employers": "hospital quality improvement specialist at kaiser permanente (2014-2016)",
         "industry": "Non-Profit"
        },
        {
         "_deepnote_index_column": 47,
         "clean_description": "newamazon warehouse worker earn hour amazon workforce staff colorado springs co peterson air force …",
         "description": "newAmazon Warehouse Worker - Earn Up to $19.30/hour. Amazon Workforce Staffing 3.5. Colorado Spring…",
         "employers": "warehouse worker, amazon",
         "industry": "Non-Profit"
        },
        {
         "_deepnote_index_column": 48,
         "clean_description": "bain passionately participate important pro bono work great china partnering organization like hong…",
         "description": "Bain passionately participates in important pro bono work in Greater China, partnering with organiz…",
         "employers": "bain & company (hong kong) ltd",
         "industry": "Real Estate and Construction"
        },
        {
         "_deepnote_index_column": 49,
         "clean_description": "bridgewater interior found joint venture johnson control jci manufacture seat general motors curren…",
         "description": "Bridgewater Interiors was founded in 1998 as a joint venture with Johnson Controls (JCI) to manufac…",
         "employers": "bridgewater interiors",
         "industry": "Computer and Electronics"
        },
        {
         "_deepnote_index_column": 50,
         "clean_description": "de foods inc norwell like talk de food grow family run kfc franchise year today operate kfc kfctaco…",
         "description": "De Foods, Inc., Norwell, MA. 112 likes · 8 talking about this. DE Foods is a growing family run #KF…",
         "employers": "de foods inc.",
         "industry": "Non-Profit"
        },
        {
         "_deepnote_index_column": 51,
         "clean_description": "restaurant run follower linkedin restaurant run foodgistic science behind corporate food delivery y…",
         "description": "Restaurants on the Run | 2,980 followers on LinkedIn. Restaurants on the Run Foodgistics: The scien…",
         "employers": "restaurants on the run",
         "industry": "Non-Profit"
        },
        {
         "_deepnote_index_column": 52,
         "clean_description": "greenwood open day week plan visit acre art history nature heart brooklyn free open public day year…",
         "description": "Green-Wood is open 7 days a week. PLAN YOUR VISIT. 478 Acres of Art, History, AND NATURE in the hea…",
         "employers": "green-wood cemetery",
         "industry": "Non-Profit"
        },
        {
         "_deepnote_index_column": 53,
         "clean_description": "ask chemical employee sport good cause detail ask chemical metallurgy launch new generation inocula…",
         "description": "ASK Chemicals employees do sports for a good cause. Details ASK Chemicals Metallurgy launches new g…",
         "employers": "ask chemicals ( east plant)",
         "industry": "Manufacturing"
        },
        {
         "_deepnote_index_column": 54,
         "clean_description": "presentation de lassemblee nationale du palais bourbon de ses membre depute de son fonctionnement e…",
         "description": "Presentation de l'Assemblee nationale, du palais Bourbon, de ses membres (deputes), de son fonction…",
         "employers": "assemblee nationale",
         "industry": "Non-Profit"
        },
        {
         "_deepnote_index_column": 55,
         "clean_description": "nick bar closed door first time year go major renovation restaurant nearly completely rebuild origi…",
         "description": "Nick’s Bar closed their doors for the first time in 40 years in 2018 as they went under major renov…",
         "employers": "nick's bar and grill",
         "industry": "Non-Profit"
        },
        {
         "_deepnote_index_column": 56,
         "clean_description": "global team advance manufacturing specialist provide tailor cut solution help automate well competi…",
         "description": "We are a global team of advanced manufacturing specialists, providing tailored cutting solutions to…",
         "employers": "axyz automation group",
         "industry": "Energy and Utilities"
        },
        {
         "_deepnote_index_column": 57,
         "clean_description": "story place peace care compassion welcome mary new street saratoga springs ny phone fax mary bedroo…",
         "description": "Stories. A Place of Peace, Caring and Compassion. Welcome to Mary's Haven. 35 New Street, Saratoga …",
         "employers": "mary’s haven",
         "industry": "Non-Profit"
        },
        {
         "_deepnote_index_column": 58,
         "clean_description": "go intuitive bodywork almost year could nt say well thing great hour convenient location easy sched…",
         "description": "“I have been going to Intuitive Bodywork for almost 2 years and I couldn’t say better things. They …",
         "employers": "intuitive bodywork",
         "industry": "Non-Profit"
        },
        {
         "_deepnote_index_column": 59,
         "clean_description": "duke street lead european midmarket private equity group announce agree acquire kent pharmaceutical…",
         "description": "Duke Street, the leading European midmarket private equity group, announces that it has agreed to a…",
         "employers": "duke street capital (f/ hambros european ventures)",
         "industry": "Computer and Electronics"
        },
        {
         "_deepnote_index_column": 60,
         "clean_description": "saskatoon health region commit reconciliation read flowcast model region predictive model forecast …",
         "description": "Saskatoon Health Region commits to Reconciliation Read more Flowcast Model The Region's predictive …",
         "employers": "saskatoon health region",
         "industry": "Non-Profit"
        },
        {
         "_deepnote_index_column": 61,
         "clean_description": "institute blind partially sight ibo national competence rehabilitation centre denmark young adult v…",
         "description": "The Institute for the Blind and Partially Sighted (IBOS) is the national competence- and rehabilita…",
         "employers": "the institute for the blind and partially sighted (ibos)",
         "industry": "Government"
        },
        {
         "_deepnote_index_column": 62,
         "clean_description": "willow park skilled nursing facility nestle directly great city cleveland friend community year bed…",
         "description": "Willow Park is a skilled nursing facility nestled directly in the great city of Cleveland, and has …",
         "employers": "willow park nursing home",
         "industry": "Non-Profit"
        },
        {
         "_deepnote_index_column": 63,
         "clean_description": "order pizza pasta sandwich online carryout delivery domino view menu find location track order sign…",
         "description": "Order pizza, pasta, sandwiches & more online for carryout or delivery from Domino's. View menu, fin…",
         "employers": "domino's pizza inc.",
         "industry": "Non-Profit"
        },
        {
         "_deepnote_index_column": 64,
         "clean_description": "grey new york th ave new york ny united states gray ny direction locationtaglinevaluetext sponsor t…",
         "description": "Grey New York. 200 5th Ave New York, NY 10010 United States +1 212 546 2000 Gray, NY Directions {{:…",
         "employers": "grey ny",
         "industry": "Non-Profit"
        },
        {
         "_deepnote_index_column": 65,
         "clean_description": "meta financial group inc year month senior internal auditor sep jun month troy michigan united stat…",
         "description": "Meta Financial Group, Inc. 1 year 4 months Senior Internal Auditor Sep 2020 - Jun 202110 months Tro…",
         "employers": "internal auditor, meta financial group",
         "industry": "Computer and Electronics"
        },
        {
         "_deepnote_index_column": 66,
         "clean_description": "electronic security solution ess valuable partner school system educator focus happening classroom …",
         "description": "Electronic Security Solutions (ESS) is a valuable partner for our school system. As educators, our …",
         "employers": "electronic security solutions",
         "industry": "Computer and Electronics"
        },
        {
         "_deepnote_index_column": 67,
         "clean_description": "larry smith sa provide shopping centre development service company base madrid spain november larry…",
         "description": "Larry Smith SA provides shopping centre development services. The company is based in Madrid, Spain…",
         "employers": "larry smith sa",
         "industry": "Computer and Electronics"
        },
        {
         "_deepnote_index_column": 68,
         "clean_description": "maid go clean service residential commercial cleaning maid go clean service ensure client home busi…",
         "description": "About Maid 2 Go Cleaning Service Be it residential or commercial cleaning \"Maid 2 Go Cleaning Servi…",
         "employers": "2 go cleaning services",
         "industry": "Non-Profit"
        },
        {
         "_deepnote_index_column": 69,
         "clean_description": "part criterion hire professionalism enthusiasm communication skill whether need certify bartender f…",
         "description": "Part of our criteria for hiring is professionalism, enthusiasm, and communication skills. Whether y…",
         "employers": "eventtemps",
         "industry": "Non-Profit"
        },
        {
         "_deepnote_index_column": 70,
         "clean_description": "andrew peller limited announce time fourth quarter yearend fiscal result conference callapril andre…",
         "description": "Andrew Peller Limited Announces Timing of Fourth Quarter & Year-End Fiscal 2021 Results & Conferenc…",
         "employers": "andrew peller limmited",
         "industry": "Computer and Electronics"
        },
        {
         "_deepnote_index_column": 71,
         "clean_description": "security operation center soc centralized function within organization employ people process techno…",
         "description": "A Security Operation Center (SOC) is a centralized function within an organization employing people…",
         "employers": "soc",
         "industry": "Agriculture and Mining"
        },
        {
         "_deepnote_index_column": 72,
         "clean_description": "symic bio matrixtargete biotherapeutic new category therapeutic expand application matrix biology e…",
         "description": "Symic Bio. Matrix-Targeting Biotherapeutics: A New Category of Therapeutics. Expanding Applications…",
         "employers": "symic, inc",
         "industry": "Health, Pharma, and Biotech"
        },
        {
         "_deepnote_index_column": 73,
         "clean_description": "let priority settlement group texas help meet client need pride ability provide smooth stressfree c…",
         "description": "Let Priority Settlement Group of Texas help you meet your client’s needs. We pride ourselves on our…",
         "employers": "priority settlement group of tx",
         "industry": "Computer and Electronics"
        },
        {
         "_deepnote_index_column": 74,
         "clean_description": "david lebreton vp operations year strategic management operation experience formerly principal lebr…",
         "description": "David LeBreton. VP of Operations • 15+ years of strategic management and operations experience. • F…",
         "employers": "lebreton & sons real estate,",
         "industry": "Non-Profit"
        },
        {
         "_deepnote_index_column": 75,
         "clean_description": "ceo martin management group llc digital nomad location free live selfemploye jan present year month…",
         "description": "CEO of Martin Management Group LLC | Digital Nomad & Location Free Living Self-employed Jan 2013 - …",
         "employers": "self-employed martin mangement group, martin management collective",
         "industry": "Computer and Electronics"
        },
        {
         "_deepnote_index_column": 76,
         "clean_description": "petshotel pet boarding comfortable accommodation safetycertifie associate provide welcome place dog…",
         "description": "PetsHotel Pet Boarding. Our comfortable accommodations & safety-certified associates provide a welc…",
         "employers": "petsmart pet hotel",
         "industry": "Non-Profit"
        },
        {
         "_deepnote_index_column": 77,
         "clean_description": "may brynn boyer university mary washington graduate total student rd commencement graduate ceremony…",
         "description": "May 10, 2014 by Brynn Boyer. The University of Mary Washington graduated a total of 1,249 students …",
         "employers": "graduate ambassador, mba program at university of mary washington (2014-2014)",
         "industry": "Non-Profit"
        },
        {
         "_deepnote_index_column": 78,
         "clean_description": "sunw aviation official shell aerocentre calgary international airport yyc addition provide shell fu…",
         "description": "Sunwest Aviation is the official Shell AeroCentre ™ at the Calgary International Airport (YYC). In …",
         "employers": "sunwest aviation",
         "industry": "Agriculture and Mining"
        },
        {
         "_deepnote_index_column": 79,
         "clean_description": "lpp premier manufacturer class highvisibility automotive component lpp capability require provide i…",
         "description": "LP+P is the premier manufacturer of Class A, high-visibility automotive components. LP+P has the ca…",
         "employers": "lapeer plating & plastics",
         "industry": "Computer and Electronics"
        },
        {
         "_deepnote_index_column": 80,
         "clean_description": "southern utah university many tutor available math chemistry biology business many subject private …",
         "description": "Southern Utah University has many tutors available for math, chemistry, biology, business, and many…",
         "employers": "math tutor, southern utah university",
         "industry": "Government"
        },
        {
         "_deepnote_index_column": 81,
         "clean_description": "denso manufacturing canada inc dmcn locate guelph ontario canada manufacture heat ventilation air c…",
         "description": "DENSO Manufacturing Canada, Inc. (DMCN), located in Guelph, Ontario, Canada, manufactures heating v…",
         "employers": "denso manufacturing canada",
         "industry": "Media and Entertainment"
        },
        {
         "_deepnote_index_column": 82,
         "clean_description": "meet executive team olaf laos olaf direct sale consultancy service product development within isc s…",
         "description": "Meet the Executive Team. Olaf Laos. Olaf directs sales, consultancy services, and product developme…",
         "employers": "team lead, isc software",
         "industry": "Media and Entertainment"
        },
        {
         "_deepnote_index_column": 83,
         "clean_description": "sucampo part mallinckrodt february mallinckrodt close acquisition sucampo pharmaceuticals inc full …",
         "description": "Sucampo is now a part of Mallinckrodt. On February 13, 2018, Mallinckrodt closed on our acquisition…",
         "employers": "sucampo pharmaceuticals, inc.",
         "industry": "Health, Pharma, and Biotech"
        },
        {
         "_deepnote_index_column": 84,
         "clean_description": "rick swaine chief financial officer university toledo medical center toledo ohio metropolitan area …",
         "description": "Rick Swaine Chief Financial Officer at UNIVERSITY OF TOLEDO MEDICAL CENTER Toledo, Ohio Metropolita…",
         "employers": "chief financial officer, university of toledo medical center",
         "industry": "Non-Profit"
        },
        {
         "_deepnote_index_column": 85,
         "clean_description": "mine support service highly skilled mining partner year experience provide civil construction envir…",
         "description": "Mine Support Services is a highly skilled mining partner with 30 years experience. We provide civil…",
         "employers": "self employed - mine support services",
         "industry": "Manufacturing"
        },
        {
         "_deepnote_index_column": 86,
         "clean_description": "shop late fashion children clothing online next usa free delivery available great style great servi…",
         "description": "Shop the very latest fashion and childrens clothing online at Next USA :: FREE delivery available* …",
         "employers": "next",
         "industry": "Non-Profit"
        },
        {
         "_deepnote_index_column": 87,
         "clean_description": "neulion inc years month mobile application development manager jun present year month plainview ny …",
         "description": "NeuLion, Inc 21 years 4 months Mobile Application Development Manager Jun 2000 - Present21 years 4 …",
         "employers": "mobile software dev manager, neulion inc",
         "industry": "Computer and Electronics"
        },
        {
         "_deepnote_index_column": 88,
         "clean_description": "auld dubliner part downtown long beach community year come experience place friend come celebrate s…",
         "description": "The Auld Dubliner has been part of the downtown Long Beach community for over 10 years. Come experi…",
         "employers": "the auld dubliner",
         "industry": "Non-Profit"
        },
        {
         "_deepnote_index_column": 89,
         "clean_description": "rocaton found april team experience investment professional previously work together another invest…",
         "description": "Rocaton was founded in April 2002 by a team of experienced investment professionals who had all pre…",
         "employers": "rocaton investment advisors inc",
         "industry": "Computer and Electronics"
        },
        {
         "_deepnote_index_column": 90,
         "clean_description": "le reseau des banques alimentaires du quebec nourrit personnes chaque mois se membre moisson et ass…",
         "description": "Le réseau des Banques alimentaires du Québec nourrit 500 000 personnes chaque mois. Ses 32 membres …",
         "employers": "les banques alimentaires du québec",
         "industry": "Non-Profit"
        },
        {
         "_deepnote_index_column": 91,
         "clean_description": "creative circle equal employment opportunity employer qualified applicant receive consideration emp…",
         "description": "Creative Circle is an Equal Employment Opportunity Employer. All qualified applicants will receive …",
         "employers": "creativecircle",
         "industry": "Non-Profit"
        },
        {
         "_deepnote_index_column": 92,
         "clean_description": "marsh mclennan trust advisor client around world professional service firm like lead global expert …",
         "description": "Marsh McLennan is a trusted advisor to clients around the world. A professional services firm like …",
         "employers": "marsh usa inc.",
         "industry": "Agriculture and Mining"
        },
        {
         "_deepnote_index_column": 93,
         "clean_description": "late corus group october british steel hoogoven merge form corus group plc ceo two former company j…",
         "description": "Late 1990s: Corus Group. On October 6, 1999, British Steel and Hoogovens merged, forming Corus Grou…",
         "employers": "corus group (f/ british steel plc)",
         "industry": "Computer and Electronics"
        },
        {
         "_deepnote_index_column": 94,
         "clean_description": "seachange international multinational supplier video delivery software solution power cloud onpremi…",
         "description": "SeaChange International is a multinational supplier of Video Delivery Software Solutions that power…",
         "employers": "seachange international inc",
         "industry": "Consumer Services"
        },
        {
         "_deepnote_index_column": 95,
         "clean_description": "ohiohealth home location health fitness mcconnell heart health center mcconnell heart health center…",
         "description": "OhioHealth Home / Locations / Health and Fitness / / McConnell Heart Health Center McConnell Heart …",
         "employers": "ohiohealth|mcconnell heart health center",
         "industry": "Non-Profit"
        },
        {
         "_deepnote_index_column": 96,
         "clean_description": "power infra electric power industry provide production delivery electric energy often know power el…",
         "description": "Power & Infra. The electric power industry provides the production and delivery of electric energy,…",
         "employers": "covalentech llc",
         "industry": "Manufacturing"
        },
        {
         "_deepnote_index_column": 97,
         "clean_description": "bolt world large pc insurance exchange match distributor provider single digital platform offer sea…",
         "description": "bolt is the world’s largest P&C insurance exchange. We match distributors with providers on a singl…",
         "employers": "bolt solutions inc.",
         "industry": "Manufacturing"
        },
        {
         "_deepnote_index_column": 98,
         "clean_description": "diabetes educator health care professional variety health discipline include register dietitian nur…",
         "description": "A diabetes educator can be health care professionals from a variety of health disciplines, includin…",
         "employers": "registered dietitian / diabetes educator",
         "industry": "Non-Profit"
        },
        {
         "_deepnote_index_column": 99,
         "clean_description": "k risscare personal care home provide good care comfort love one thank visit krisscare personal car…",
         "description": "K risscare Personal Care Home. Providing the Best of Care and Comfort for your Loved One. Thanks fo…",
         "employers": "kris's care",
         "industry": "Non-Profit"
        },
        {
         "_deepnote_index_column": 100,
         "clean_description": "average salary courtesy associate courtesy associate america make average salary per year per hour …",
         "description": "Average Salary for a Courtesy Associate. Courtesy Associates in America make an average salary of $…",
         "employers": "courtesy associate",
         "industry": "Non-Profit"
        },
        {
         "_deepnote_index_column": 101,
         "clean_description": "carrington charitable foundation c nonprofit organization regulate new york state department financ…",
         "description": "Carrington Charitable Foundation, a 501(c)(3) nonprofit organization, is not regulated by New York …",
         "employers": "carrington mortgage services",
         "industry": "Computer and Electronics"
        },
        {
         "_deepnote_index_column": 102,
         "clean_description": "progressive learning progressive learning place teaching excellence student feel ease learn languag…",
         "description": "Progressive Learnings Progressive Learnings is a place of teaching excellence, where students can f…",
         "employers": "progressive learning",
         "industry": "Government"
        },
        {
         "_deepnote_index_column": 103,
         "clean_description": "southern new hampshire university leader online education online college degree program develop sub…",
         "description": "Southern New Hampshire University is a leader in online education. Our online college degree progra…",
         "employers": "southern new hampshire university coce",
         "industry": "Non-Profit"
        },
        {
         "_deepnote_index_column": 104,
         "clean_description": "chinese people political consultative conference cppcc creation communist party china cpc combine m…",
         "description": "The Chinese People’s Political Consultative Conference (CPPCC) is a creation of the Communist Party…",
         "employers": "zhengzhou city guancheng chinese people’s political consultative conference",
         "industry": "Non-Profit"
        },
        {
         "_deepnote_index_column": 105,
         "clean_description": "westermo provide full range industrial datum communication solution demand application transport wa…",
         "description": "Westermo provides a full range of industrial data communications solutions for demanding applicatio…",
         "employers": "westermo network technologies ab",
         "industry": "Computer and Electronics"
        },
        {
         "_deepnote_index_column": 106,
         "clean_description": "triton security trust name wide range professional business security facility management service we…",
         "description": "Triton Security is the trusted name for a wide range of professional business security and faciliti…",
         "employers": "triton security",
         "industry": "Media and Entertainment"
        },
        {
         "_deepnote_index_column": 107,
         "clean_description": "worker breconridge manufacturing solution know sanminasci corporation division optoelectronic micro…",
         "description": "All workers of BreconRidge Manufacturing Solutions, now known as Sanmina-SCI Corporation, Division …",
         "employers": "breconridge manufacturing solutions",
         "industry": "Media and Entertainment"
        },
        {
         "_deepnote_index_column": 108,
         "clean_description": "establish fujian minhua power source co ltd formeranxi minhua battery co ltd fujian mhb become one …",
         "description": "Established in 1996, Fujian Minhua Power Source Co., Ltd (Former-Anxi Minhua Battery Co., Ltd Fujia…",
         "employers": "fujian minhua power source",
         "industry": "Computer and Electronics"
        },
        {
         "_deepnote_index_column": 109,
         "clean_description": "ruth retreat beauty salon isle man feel revitalise relaxed warm welcome await service escape perfec…",
         "description": "Ruth's Retreat – Beauty Salon Isle of Man Feel revitalised and relaxed... A warm welcome awaits Our…",
         "employers": "ruth's retreat",
         "industry": "Non-Profit"
        },
        {
         "_deepnote_index_column": 110,
         "clean_description": "home americans prosperity believe every person unique gift enable realize american dream amazing po…",
         "description": "Home - Americans for Prosperity. We believe every person has unique gifts that enable them to reali…",
         "employers": "americans for prosperity",
         "industry": "Education"
        },
        {
         "_deepnote_index_column": 111,
         "clean_description": "local family run nursery gift boutique coffee bar since winter basket bell cranberry opening basket…",
         "description": "…your local, family run nursery, gift boutique, and coffee bar since 1976. Wintering your baskets a…",
         "employers": "bell's nursery",
         "industry": "Non-Profit"
        },
        {
         "_deepnote_index_column": 112,
         "clean_description": "comprehensive software available behavioral research eprime provide truly easytouse environment com…",
         "description": "The Most Comprehensive Software Available for Behavioral Research. E-Prime provides a truly easy-to…",
         "employers": "psychology  software tools",
         "industry": "Agriculture and Mining"
        },
        {
         "_deepnote_index_column": 113,
         "clean_description": "sage search partner national retain executive search firm serve high education nonprofit institutio…",
         "description": "Sage Search Partners is a national, retained executive search firm serving higher education and non…",
         "employers": "sage search partners;",
         "industry": "Agriculture and Mining"
        },
        {
         "_deepnote_index_column": 114,
         "clean_description": "millennium health accredit specialty laboratory decade experience drug testing service help clinici…",
         "description": "Millennium Health is an accredited specialty laboratory with over a decade of experience in drug te…",
         "employers": "mi l lennium health",
         "industry": "Government"
        },
        {
         "_deepnote_index_column": 115,
         "clean_description": "  capital llc understand automotive industry inside streamlined process design around provide easy …",
         "description": "At 1803 Capital LLC, we understand the automotive industry inside and out. Our streamlined processe…",
         "employers": "1803 capital llc",
         "industry": "Computer and Electronics"
        },
        {
         "_deepnote_index_column": 116,
         "clean_description": "sio gene therapy formerly know axovant gene therapy clinicalstage pharmaceutical company develop ge…",
         "description": "Sio Gene Therapies, formerly known as Axovant Gene Therapies, is a clinical-stage pharmaceutical co…",
         "employers": "axovant sciences, inc.",
         "industry": "Health, Pharma, and Biotech"
        },
        {
         "_deepnote_index_column": 117,
         "clean_description": "we year seiler provide advisory tax accounting service world affluent individual family prominent p…",
         "description": "ABOUT US. For over 60 years, Seiler has provided advisory, tax, and accounting services to some of …",
         "employers": "seiler llp",
         "industry": "Computer and Electronics"
        },
        {
         "_deepnote_index_column": 118,
         "clean_description": "evision create high education software innovative easytouse request demo today see evision web site…",
         "description": "Evisions creates higher education software that is innovative and easy-to-use. Request a demo today…",
         "employers": "evisions inc",
         "industry": "Manufacturing"
        },
        {
         "_deepnote_index_column": 119,
         "clean_description": "food city fresh salmon saving find fresh saving family week get fresh salmon filet pound restrictio…",
         "description": "Food City. Fresh Salmon Savings! Find fresh savings for your family this week. Get fresh salmon fil…",
         "employers": "foodcity",
         "industry": "Non-Profit"
        },
        {
         "_deepnote_index_column": 120,
         "clean_description": "inhouse design team carefully detail journee collection shoe journey mind offer comfortable versati…",
         "description": "Our in-house design team carefully details each Journee Collection shoe with your journey in mind, …",
         "employers": "journee",
         "industry": "Non-Profit"
        },
        {
         "_deepnote_index_column": 121,
         "clean_description": "international relations berkeley focus study contemporary historical problem world politic include …",
         "description": "International Relations at Berkeley focuses on the study of contemporary and historical problems in…",
         "employers": "berkeley international",
         "industry": "Government"
        },
        {
         "_deepnote_index_column": 122,
         "clean_description": "speer associate llc consulting firm form provide practical operational financial strategic solution…",
         "description": "Speer & Associates LLC is a consulting firm formed to provide practical operational, financial and …",
         "employers": "speer & associates",
         "industry": "Financial Services"
        },
        {
         "_deepnote_index_column": 123,
         "clean_description": "gbp differentiate patient capital certainty close team extensive experience low middlemarket privat…",
         "description": "At GBP, we differentiate with patient capital, certainty to close, and our team’s extensive experie…",
         "employers": "graniteridge capital",
         "industry": "Computer and Electronics"
        },
        {
         "_deepnote_index_column": 124,
         "clean_description": "shop man woman kid shoe brand like nike armour skecher converse good deal brand name shoe footwear …",
         "description": "Shop for men, women, and kids shoes from brands like Nike, Under Armour, Skechers, Converse, and mo…",
         "employers": "shoe sensation",
         "industry": "Non-Profit"
        }
       ]
      },
      "text/html": [
       "<div>\n",
       "<style scoped>\n",
       "    .dataframe tbody tr th:only-of-type {\n",
       "        vertical-align: middle;\n",
       "    }\n",
       "\n",
       "    .dataframe tbody tr th {\n",
       "        vertical-align: top;\n",
       "    }\n",
       "\n",
       "    .dataframe thead th {\n",
       "        text-align: right;\n",
       "    }\n",
       "</style>\n",
       "<table border=\"1\" class=\"dataframe\">\n",
       "  <thead>\n",
       "    <tr style=\"text-align: right;\">\n",
       "      <th></th>\n",
       "      <th>employers</th>\n",
       "      <th>description</th>\n",
       "      <th>clean_description</th>\n",
       "      <th>industry</th>\n",
       "    </tr>\n",
       "  </thead>\n",
       "  <tbody>\n",
       "    <tr>\n",
       "      <th>0</th>\n",
       "      <td>magic touch</td>\n",
       "      <td>Magic Touch USA has partnered with clicklease ...</td>\n",
       "      <td>magic touch usa partner clicklease provide bus...</td>\n",
       "      <td>Non-Profit</td>\n",
       "    </tr>\n",
       "    <tr>\n",
       "      <th>1</th>\n",
       "      <td>indus valley partners pvt. ltd.</td>\n",
       "      <td>Indus Valley Partners (India) Pvt. Ltd. Unit N...</td>\n",
       "      <td>indus valley partners india pvt ltd unit sdfv ...</td>\n",
       "      <td>Computer and Electronics</td>\n",
       "    </tr>\n",
       "    <tr>\n",
       "      <th>2</th>\n",
       "      <td>mather hospital</td>\n",
       "      <td>Home - Mather Hospital Find a doctor Patient p...</td>\n",
       "      <td>home mather hospital find doctor patient porta...</td>\n",
       "      <td>Non-Profit</td>\n",
       "    </tr>\n",
       "    <tr>\n",
       "      <th>3</th>\n",
       "      <td>macarena tapas restaurant</td>\n",
       "      <td>The First Tapas Bar in Colombia - Tapas Macare...</td>\n",
       "      <td>first tapas bar colombia tapas macarena opport...</td>\n",
       "      <td>Non-Profit</td>\n",
       "    </tr>\n",
       "    <tr>\n",
       "      <th>4</th>\n",
       "      <td>ashland specialty ingredients</td>\n",
       "      <td>Ashland specialty chemicals is driven by its v...</td>\n",
       "      <td>ashland specialty chemical drive vision make w...</td>\n",
       "      <td>Health, Pharma, and Biotech</td>\n",
       "    </tr>\n",
       "    <tr>\n",
       "      <th>...</th>\n",
       "      <td>...</td>\n",
       "      <td>...</td>\n",
       "      <td>...</td>\n",
       "      <td>...</td>\n",
       "    </tr>\n",
       "    <tr>\n",
       "      <th>20008</th>\n",
       "      <td>Manufacturing</td>\n",
       "      <td>Manufacturing is the production of goods throu...</td>\n",
       "      <td>manufacture production good use labor machine ...</td>\n",
       "      <td>Manufacturing</td>\n",
       "    </tr>\n",
       "    <tr>\n",
       "      <th>20009</th>\n",
       "      <td>Education</td>\n",
       "      <td>Education.com has multiple resources organized...</td>\n",
       "      <td>educationcom multiple resource organize learn ...</td>\n",
       "      <td>Education</td>\n",
       "    </tr>\n",
       "    <tr>\n",
       "      <th>20010</th>\n",
       "      <td>Media and Entertainment</td>\n",
       "      <td>Microsoft empowers media, entertainment, and t...</td>\n",
       "      <td>microsoft empower medium entertainment telecom...</td>\n",
       "      <td>Media and Entertainment</td>\n",
       "    </tr>\n",
       "    <tr>\n",
       "      <th>20011</th>\n",
       "      <td>Consumer Services</td>\n",
       "      <td>Consumer services are services that are sold t...</td>\n",
       "      <td>consumer service service sell individual servi...</td>\n",
       "      <td>Consumer Services</td>\n",
       "    </tr>\n",
       "    <tr>\n",
       "      <th>20012</th>\n",
       "      <td>Health, Pharma, and Biotech</td>\n",
       "      <td>Health, Pharma &amp; Biotechnology. Change Region....</td>\n",
       "      <td>health pharma biotechnology change region nort...</td>\n",
       "      <td>Health, Pharma, and Biotech</td>\n",
       "    </tr>\n",
       "  </tbody>\n",
       "</table>\n",
       "<p>20013 rows × 4 columns</p>\n",
       "</div>"
      ],
      "text/plain": [
       "                             employers  \\\n",
       "0                          magic touch   \n",
       "1      indus valley partners pvt. ltd.   \n",
       "2                      mather hospital   \n",
       "3            macarena tapas restaurant   \n",
       "4        ashland specialty ingredients   \n",
       "...                                ...   \n",
       "20008                    Manufacturing   \n",
       "20009                        Education   \n",
       "20010          Media and Entertainment   \n",
       "20011                Consumer Services   \n",
       "20012      Health, Pharma, and Biotech   \n",
       "\n",
       "                                             description  \\\n",
       "0      Magic Touch USA has partnered with clicklease ...   \n",
       "1      Indus Valley Partners (India) Pvt. Ltd. Unit N...   \n",
       "2      Home - Mather Hospital Find a doctor Patient p...   \n",
       "3      The First Tapas Bar in Colombia - Tapas Macare...   \n",
       "4      Ashland specialty chemicals is driven by its v...   \n",
       "...                                                  ...   \n",
       "20008  Manufacturing is the production of goods throu...   \n",
       "20009  Education.com has multiple resources organized...   \n",
       "20010  Microsoft empowers media, entertainment, and t...   \n",
       "20011  Consumer services are services that are sold t...   \n",
       "20012  Health, Pharma & Biotechnology. Change Region....   \n",
       "\n",
       "                                       clean_description  \\\n",
       "0      magic touch usa partner clicklease provide bus...   \n",
       "1      indus valley partners india pvt ltd unit sdfv ...   \n",
       "2      home mather hospital find doctor patient porta...   \n",
       "3      first tapas bar colombia tapas macarena opport...   \n",
       "4      ashland specialty chemical drive vision make w...   \n",
       "...                                                  ...   \n",
       "20008  manufacture production good use labor machine ...   \n",
       "20009  educationcom multiple resource organize learn ...   \n",
       "20010  microsoft empower medium entertainment telecom...   \n",
       "20011  consumer service service sell individual servi...   \n",
       "20012  health pharma biotechnology change region nort...   \n",
       "\n",
       "                          industry  \n",
       "0                       Non-Profit  \n",
       "1         Computer and Electronics  \n",
       "2                       Non-Profit  \n",
       "3                       Non-Profit  \n",
       "4      Health, Pharma, and Biotech  \n",
       "...                            ...  \n",
       "20008                Manufacturing  \n",
       "20009                    Education  \n",
       "20010      Media and Entertainment  \n",
       "20011            Consumer Services  \n",
       "20012  Health, Pharma, and Biotech  \n",
       "\n",
       "[20013 rows x 4 columns]"
      ]
     },
     "execution_count": 41,
     "metadata": {},
     "output_type": "execute_result"
    }
   ],
   "source": [
    "combined_data # from a first glance it looks okay given that some companies fall into multiple industry\n",
    "              # not completely amazing results, as seen by the magic touch result, which it is saying is a non-profit"
   ]
  },
  {
   "cell_type": "code",
   "execution_count": null,
   "metadata": {
    "cell_id": "00014-3a7ae7c1-5d04-47a6-9dcc-d4bc1c9b6c47",
    "deepnote_cell_type": "code",
    "tags": []
   },
   "outputs": [],
   "source": []
  },
  {
   "cell_type": "markdown",
   "metadata": {
    "created_in_deepnote_cell": true,
    "deepnote_cell_type": "markdown",
    "tags": []
   },
   "source": [
    "<a style='text-decoration:none;line-height:16px;display:flex;color:#5B5B62;padding:10px;justify-content:end;' href='https://deepnote.com?utm_source=created-in-deepnote-cell&projectId=0f8c70f2-5291-4247-be8a-0c0d763ed56d' target=\"_blank\">\n",
    "<img alt='Created in deepnote.com' style='display:inline;max-height:16px;margin:0px;margin-right:7.5px;' src='data:image/svg+xml;base64,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' > </img>\n",
    "Created in <span style='font-weight:600;margin-left:4px;'>Deepnote</span></a>"
   ]
  }
 ],
 "metadata": {
  "deepnote": {
   "is_reactive": false
  },
  "deepnote_execution_queue": [],
  "deepnote_notebook_id": "9bf901ed-d1cc-4731-a2a8-0cc0a0dfa82b",
  "kernelspec": {
   "display_name": "Python 3",
   "language": "python",
   "name": "python3"
  },
  "language_info": {
   "codemirror_mode": {
    "name": "ipython",
    "version": 3
   },
   "file_extension": ".py",
   "mimetype": "text/x-python",
   "name": "python",
   "nbconvert_exporter": "python",
   "pygments_lexer": "ipython3",
   "version": "3.8.5"
  }
 },
 "nbformat": 4,
 "nbformat_minor": 2
}
